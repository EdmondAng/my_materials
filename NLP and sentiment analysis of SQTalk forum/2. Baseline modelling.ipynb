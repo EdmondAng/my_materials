{
 "cells": [
  {
   "cell_type": "markdown",
   "metadata": {
    "tags": []
   },
   "source": [
    "## Contents\n",
    "* [1. Baseline Model](#1.-Baseline-Model)\n",
    "* [2. Imports](#2.-Imports)\n",
    "* [3. Data Cleaning & Preparation](#3.-Data-Cleaning-&-Preparation)\n",
    "* [4. Model Fit & Predict](#4.-Model-Fit-&-Predict)\n",
    "* [5. Remarks](#5.-Remarks)"
   ]
  },
  {
   "cell_type": "markdown",
   "metadata": {},
   "source": [
    "---\n",
    "## 1. Baseline Model\n",
    "---\n",
    "Aim: to develop a baseline multi-class model using CountVectoriser and Multinomial Naive Bayes model.\n",
    "\n",
    "Note: the code below was ran on Kaggle, to make use of Kaggle GPUs."
   ]
  },
  {
   "cell_type": "markdown",
   "metadata": {},
   "source": [
    "---\n",
    "## 2. Imports\n",
    "---"
   ]
  },
  {
   "cell_type": "code",
   "execution_count": 1,
   "metadata": {
    "execution": {
     "iopub.execute_input": "2023-01-25T09:08:59.829132Z",
     "iopub.status.busy": "2023-01-25T09:08:59.828259Z",
     "iopub.status.idle": "2023-01-25T09:09:00.903041Z",
     "shell.execute_reply": "2023-01-25T09:09:00.901868Z",
     "shell.execute_reply.started": "2023-01-25T09:08:59.829019Z"
    },
    "tags": []
   },
   "outputs": [],
   "source": [
    "import numpy as np\n",
    "import pandas as pd\n",
    "from sklearn.model_selection import train_test_split\n",
    "from sklearn.feature_extraction.text import CountVectorizer\n",
    "from sklearn.naive_bayes import MultinomialNB\n",
    "from sklearn.multiclass import OneVsRestClassifier as ovr\n",
    "from sklearn.metrics import confusion_matrix, ConfusionMatrixDisplay,classification_report, roc_auc_score, f1_score"
   ]
  },
  {
   "cell_type": "markdown",
   "metadata": {},
   "source": [
    "---\n",
    "## 3. Data Cleaning & Preparation\n",
    "---\n",
    "- Read extracted KrisFlyer, lounge, catering, amenity kits' data\n",
    "- to put together a dataframe of comments and thread titles for model. Using comments for their wealth of words, and titles for their highlighting of key words"
   ]
  },
  {
   "cell_type": "code",
   "execution_count": 2,
   "metadata": {
    "execution": {
     "iopub.execute_input": "2023-01-25T09:09:00.911962Z",
     "iopub.status.busy": "2023-01-25T09:09:00.909714Z",
     "iopub.status.idle": "2023-01-25T09:09:01.536649Z",
     "shell.execute_reply": "2023-01-25T09:09:01.535515Z",
     "shell.execute_reply.started": "2023-01-25T09:09:00.911905Z"
    },
    "scrolled": true,
    "tags": []
   },
   "outputs": [
    {
     "name": "stdout",
     "output_type": "stream",
     "text": [
      "                                            comments\n",
      "0  Hi Guys,I'm still DAMN confused after reading ...\n",
      "1  ah relax. you can be the perfect test case the...\n",
      "2  There's no need to panic. Been in a similar si...\n",
      "3  Originally posted by Nick CView PostThere's no...\n",
      "4  Firstly, Welcome to SQTalk, Vtac82!Krisflyer m...\n",
      "                                          title  \\\n",
      "0           Qualifying as EG for the first time   \n",
      "1           Which FFP for me? Master Discussion   \n",
      "2                              #SQMelbourneTram   \n",
      "3  Advice sought - Changing redemption bookings   \n",
      "4                          First Savers SYD-SIN   \n",
      "\n",
      "                                                 url  \n",
      "0  http://www.sqtalk.com/forum/forum/singapore-ai...  \n",
      "1  http://www.sqtalk.com/forum/forum/singapore-ai...  \n",
      "2  http://www.sqtalk.com/forum/forum/singapore-ai...  \n",
      "3  http://www.sqtalk.com/forum/forum/singapore-ai...  \n",
      "4  http://www.sqtalk.com/forum/forum/singapore-ai...  \n"
     ]
    }
   ],
   "source": [
    "kf_comments_df = pd.read_csv('/kaggle/input/sq-services/KrisFlyer_comments.csv')\n",
    "kf_titles_df = pd.read_csv('/kaggle/input/sq-services/KrisFlyer_URLs.csv')\n",
    "\n",
    "# (L)ounge, (C)atering, (A)menity kits\n",
    "LCA_comments_df = pd.read_csv('/kaggle/input/sq-services/lounge_amenities_comments.csv')\n",
    "LCA_titles_df = pd.read_csv('/kaggle/input/sq-services/lounge_amenities_URLs.csv')\n",
    "\n",
    "other_comments_df = pd.read_csv('/kaggle/input/sq-services/other_comments.csv')\n",
    "other_titles_df = pd.read_csv('/kaggle/input/sq-services/other_URLs.csv')\n",
    "\n",
    "print(kf_comments_df.head())\n",
    "print(kf_titles_df.head())"
   ]
  },
  {
   "cell_type": "markdown",
   "metadata": {},
   "source": [
    "- drop off the url column as it is redundant for NLP"
   ]
  },
  {
   "cell_type": "code",
   "execution_count": 3,
   "metadata": {
    "execution": {
     "iopub.execute_input": "2023-01-25T09:09:01.539296Z",
     "iopub.status.busy": "2023-01-25T09:09:01.538514Z",
     "iopub.status.idle": "2023-01-25T09:09:01.553823Z",
     "shell.execute_reply": "2023-01-25T09:09:01.552247Z",
     "shell.execute_reply.started": "2023-01-25T09:09:01.539256Z"
    }
   },
   "outputs": [],
   "source": [
    "kf_titles_df.drop(columns='url',inplace=True)\n",
    "LCA_titles_df.drop(columns='url',inplace=True)\n",
    "other_titles_df.drop(columns='url',inplace=True)"
   ]
  },
  {
   "cell_type": "markdown",
   "metadata": {},
   "source": [
    "- adding a 'source' column to each df to indicate which forum is the data from\n",
    "- this 'source' column will be used as the target variable later"
   ]
  },
  {
   "cell_type": "code",
   "execution_count": 4,
   "metadata": {
    "execution": {
     "iopub.execute_input": "2023-01-25T09:09:01.557665Z",
     "iopub.status.busy": "2023-01-25T09:09:01.556890Z",
     "iopub.status.idle": "2023-01-25T09:09:01.580246Z",
     "shell.execute_reply": "2023-01-25T09:09:01.579272Z",
     "shell.execute_reply.started": "2023-01-25T09:09:01.557623Z"
    }
   },
   "outputs": [
    {
     "data": {
      "text/html": [
       "<div>\n",
       "<style scoped>\n",
       "    .dataframe tbody tr th:only-of-type {\n",
       "        vertical-align: middle;\n",
       "    }\n",
       "\n",
       "    .dataframe tbody tr th {\n",
       "        vertical-align: top;\n",
       "    }\n",
       "\n",
       "    .dataframe thead th {\n",
       "        text-align: right;\n",
       "    }\n",
       "</style>\n",
       "<table border=\"1\" class=\"dataframe\">\n",
       "  <thead>\n",
       "    <tr style=\"text-align: right;\">\n",
       "      <th></th>\n",
       "      <th>comments</th>\n",
       "      <th>source</th>\n",
       "    </tr>\n",
       "  </thead>\n",
       "  <tbody>\n",
       "    <tr>\n",
       "      <th>0</th>\n",
       "      <td>Hi Guys,I'm still DAMN confused after reading ...</td>\n",
       "      <td>kf</td>\n",
       "    </tr>\n",
       "    <tr>\n",
       "      <th>1</th>\n",
       "      <td>ah relax. you can be the perfect test case the...</td>\n",
       "      <td>kf</td>\n",
       "    </tr>\n",
       "    <tr>\n",
       "      <th>2</th>\n",
       "      <td>There's no need to panic. Been in a similar si...</td>\n",
       "      <td>kf</td>\n",
       "    </tr>\n",
       "    <tr>\n",
       "      <th>3</th>\n",
       "      <td>Originally posted by Nick CView PostThere's no...</td>\n",
       "      <td>kf</td>\n",
       "    </tr>\n",
       "    <tr>\n",
       "      <th>4</th>\n",
       "      <td>Firstly, Welcome to SQTalk, Vtac82!Krisflyer m...</td>\n",
       "      <td>kf</td>\n",
       "    </tr>\n",
       "  </tbody>\n",
       "</table>\n",
       "</div>"
      ],
      "text/plain": [
       "                                            comments source\n",
       "0  Hi Guys,I'm still DAMN confused after reading ...     kf\n",
       "1  ah relax. you can be the perfect test case the...     kf\n",
       "2  There's no need to panic. Been in a similar si...     kf\n",
       "3  Originally posted by Nick CView PostThere's no...     kf\n",
       "4  Firstly, Welcome to SQTalk, Vtac82!Krisflyer m...     kf"
      ]
     },
     "execution_count": 4,
     "metadata": {},
     "output_type": "execute_result"
    }
   ],
   "source": [
    "kf_comments_df['source'] = 'kf'\n",
    "kf_titles_df['source'] = 'kf'\n",
    "LCA_comments_df['source'] = 'lca'\n",
    "LCA_titles_df['source'] = 'lca'\n",
    "other_comments_df['source'] = 'other'\n",
    "other_titles_df['source'] = 'other'\n",
    "\n",
    "kf_comments_df.head()"
   ]
  },
  {
   "cell_type": "markdown",
   "metadata": {},
   "source": [
    "- aligning 'comments' and 'title' columns to the same name 'text'"
   ]
  },
  {
   "cell_type": "code",
   "execution_count": 5,
   "metadata": {
    "execution": {
     "iopub.execute_input": "2023-01-25T09:09:01.582450Z",
     "iopub.status.busy": "2023-01-25T09:09:01.581816Z",
     "iopub.status.idle": "2023-01-25T09:09:01.601704Z",
     "shell.execute_reply": "2023-01-25T09:09:01.600680Z",
     "shell.execute_reply.started": "2023-01-25T09:09:01.582413Z"
    }
   },
   "outputs": [
    {
     "data": {
      "text/html": [
       "<div>\n",
       "<style scoped>\n",
       "    .dataframe tbody tr th:only-of-type {\n",
       "        vertical-align: middle;\n",
       "    }\n",
       "\n",
       "    .dataframe tbody tr th {\n",
       "        vertical-align: top;\n",
       "    }\n",
       "\n",
       "    .dataframe thead th {\n",
       "        text-align: right;\n",
       "    }\n",
       "</style>\n",
       "<table border=\"1\" class=\"dataframe\">\n",
       "  <thead>\n",
       "    <tr style=\"text-align: right;\">\n",
       "      <th></th>\n",
       "      <th>text</th>\n",
       "      <th>source</th>\n",
       "    </tr>\n",
       "  </thead>\n",
       "  <tbody>\n",
       "    <tr>\n",
       "      <th>0</th>\n",
       "      <td>Hi Guys,I'm still DAMN confused after reading ...</td>\n",
       "      <td>kf</td>\n",
       "    </tr>\n",
       "    <tr>\n",
       "      <th>1</th>\n",
       "      <td>ah relax. you can be the perfect test case the...</td>\n",
       "      <td>kf</td>\n",
       "    </tr>\n",
       "    <tr>\n",
       "      <th>2</th>\n",
       "      <td>There's no need to panic. Been in a similar si...</td>\n",
       "      <td>kf</td>\n",
       "    </tr>\n",
       "    <tr>\n",
       "      <th>3</th>\n",
       "      <td>Originally posted by Nick CView PostThere's no...</td>\n",
       "      <td>kf</td>\n",
       "    </tr>\n",
       "    <tr>\n",
       "      <th>4</th>\n",
       "      <td>Firstly, Welcome to SQTalk, Vtac82!Krisflyer m...</td>\n",
       "      <td>kf</td>\n",
       "    </tr>\n",
       "  </tbody>\n",
       "</table>\n",
       "</div>"
      ],
      "text/plain": [
       "                                                text source\n",
       "0  Hi Guys,I'm still DAMN confused after reading ...     kf\n",
       "1  ah relax. you can be the perfect test case the...     kf\n",
       "2  There's no need to panic. Been in a similar si...     kf\n",
       "3  Originally posted by Nick CView PostThere's no...     kf\n",
       "4  Firstly, Welcome to SQTalk, Vtac82!Krisflyer m...     kf"
      ]
     },
     "execution_count": 5,
     "metadata": {},
     "output_type": "execute_result"
    }
   ],
   "source": [
    "kf_comments_df.rename(columns={'comments':'text'}, inplace=True)\n",
    "kf_titles_df.rename(columns={'title':'text'}, inplace=True)\n",
    "LCA_comments_df.rename(columns={'comments':'text'}, inplace=True)\n",
    "LCA_titles_df.rename(columns={'title':'text'}, inplace=True)\n",
    "other_comments_df.rename(columns={'comments':'text'}, inplace=True)\n",
    "other_titles_df.rename(columns={'title':'text'}, inplace=True)\n",
    "\n",
    "kf_comments_df.head()"
   ]
  },
  {
   "cell_type": "markdown",
   "metadata": {},
   "source": [
    "- export cleaned datasets"
   ]
  },
  {
   "cell_type": "code",
   "execution_count": 6,
   "metadata": {
    "execution": {
     "iopub.execute_input": "2023-01-25T09:09:01.605989Z",
     "iopub.status.busy": "2023-01-25T09:09:01.605649Z",
     "iopub.status.idle": "2023-01-25T09:09:02.084876Z",
     "shell.execute_reply": "2023-01-25T09:09:02.083751Z",
     "shell.execute_reply.started": "2023-01-25T09:09:01.605955Z"
    }
   },
   "outputs": [],
   "source": [
    "kf_df = pd.concat([kf_titles_df, kf_comments_df])\n",
    "LCA_df = pd.concat([LCA_titles_df, LCA_comments_df])\n",
    "other_df = pd.concat([other_titles_df, other_comments_df])\n",
    "\n",
    "kf_df.to_csv('/kaggle/working/kf_clean.csv', index=False)\n",
    "LCA_df.to_csv('/kaggle/working/LCA_clean.csv', index=False)\n",
    "other_df.to_csv('/kaggle/working/other_clean.csv', index=False)"
   ]
  },
  {
   "cell_type": "markdown",
   "metadata": {},
   "source": [
    "- concatenate kf and LCA's titles and comments into one df"
   ]
  },
  {
   "cell_type": "code",
   "execution_count": 7,
   "metadata": {
    "execution": {
     "iopub.execute_input": "2023-01-25T09:09:02.087250Z",
     "iopub.status.busy": "2023-01-25T09:09:02.086317Z",
     "iopub.status.idle": "2023-01-25T09:09:02.098761Z",
     "shell.execute_reply": "2023-01-25T09:09:02.097432Z",
     "shell.execute_reply.started": "2023-01-25T09:09:02.087208Z"
    }
   },
   "outputs": [
    {
     "data": {
      "text/plain": [
       "(44130, 2)"
      ]
     },
     "execution_count": 7,
     "metadata": {},
     "output_type": "execute_result"
    }
   ],
   "source": [
    "services_df = pd.concat([kf_df, LCA_df, other_df])\n",
    "services_df.shape"
   ]
  },
  {
   "cell_type": "markdown",
   "metadata": {},
   "source": [
    "- check for and resolve any NA values"
   ]
  },
  {
   "cell_type": "code",
   "execution_count": 8,
   "metadata": {
    "execution": {
     "iopub.execute_input": "2023-01-25T09:09:02.100913Z",
     "iopub.status.busy": "2023-01-25T09:09:02.100148Z",
     "iopub.status.idle": "2023-01-25T09:09:02.140412Z",
     "shell.execute_reply": "2023-01-25T09:09:02.139119Z",
     "shell.execute_reply.started": "2023-01-25T09:09:02.100878Z"
    }
   },
   "outputs": [
    {
     "name": "stdout",
     "output_type": "stream",
     "text": [
      "text      3\n",
      "source    0\n",
      "dtype: int64\n",
      "text      0\n",
      "source    0\n",
      "dtype: int64\n"
     ]
    }
   ],
   "source": [
    "print(services_df.isna().sum())\n",
    "\n",
    "# acceptable to drop 3 NA values out of 44k values\n",
    "services_df.dropna(inplace=True)\n",
    "# reset index, and drop old index\n",
    "services_df.reset_index(drop=True, inplace=True)\n",
    "\n",
    "print(services_df.isna().sum())"
   ]
  },
  {
   "cell_type": "markdown",
   "metadata": {},
   "source": [
    "- to check the balance of the 'source'"
   ]
  },
  {
   "cell_type": "code",
   "execution_count": 9,
   "metadata": {
    "execution": {
     "iopub.execute_input": "2023-01-25T09:09:02.142652Z",
     "iopub.status.busy": "2023-01-25T09:09:02.141723Z",
     "iopub.status.idle": "2023-01-25T09:09:02.155695Z",
     "shell.execute_reply": "2023-01-25T09:09:02.154381Z",
     "shell.execute_reply.started": "2023-01-25T09:09:02.142586Z"
    }
   },
   "outputs": [
    {
     "data": {
      "text/plain": [
       "kf       0.402724\n",
       "other    0.353570\n",
       "lca      0.243706\n",
       "Name: source, dtype: float64"
      ]
     },
     "execution_count": 9,
     "metadata": {},
     "output_type": "execute_result"
    }
   ],
   "source": [
    "services_df['source'].value_counts(normalize=True)\n",
    "# results show that it is imbalanced - need to stratify during train-test split later"
   ]
  },
  {
   "cell_type": "markdown",
   "metadata": {},
   "source": [
    "- create a 'kf' column: \n",
    "    - if value = 0, the source is others\n",
    "    - if value = 1, the source is kf\n",
    "    - if value = 2, the source is from LCA"
   ]
  },
  {
   "cell_type": "code",
   "execution_count": 10,
   "metadata": {
    "execution": {
     "iopub.execute_input": "2023-01-25T09:09:02.161201Z",
     "iopub.status.busy": "2023-01-25T09:09:02.160176Z",
     "iopub.status.idle": "2023-01-25T09:09:02.180434Z",
     "shell.execute_reply": "2023-01-25T09:09:02.179339Z",
     "shell.execute_reply.started": "2023-01-25T09:09:02.161164Z"
    }
   },
   "outputs": [
    {
     "name": "stdout",
     "output_type": "stream",
     "text": [
      "                                           text source  y_true\n",
      "0           Qualifying as EG for the first time     kf       1\n",
      "1           Which FFP for me? Master Discussion     kf       1\n",
      "2                              #SQMelbourneTram     kf       1\n",
      "3  Advice sought - Changing redemption bookings     kf       1\n",
      "4                          First Savers SYD-SIN     kf       1\n"
     ]
    },
    {
     "data": {
      "text/plain": [
       "1    0.402724\n",
       "0    0.353570\n",
       "2    0.243706\n",
       "Name: y_true, dtype: float64"
      ]
     },
     "execution_count": 10,
     "metadata": {},
     "output_type": "execute_result"
    }
   ],
   "source": [
    "services_df['y_true'] = services_df['source'].map({'other':0, 'kf': 1, 'lca': 2})\n",
    "print(services_df.head())\n",
    "services_df['y_true'].value_counts(normalize=True)"
   ]
  },
  {
   "cell_type": "markdown",
   "metadata": {},
   "source": [
    "---\n",
    "## 4. Model Fit & Predict\n",
    "---"
   ]
  },
  {
   "cell_type": "markdown",
   "metadata": {},
   "source": [
    "- train-test split our df"
   ]
  },
  {
   "cell_type": "code",
   "execution_count": 11,
   "metadata": {
    "execution": {
     "iopub.execute_input": "2023-01-25T09:09:02.183017Z",
     "iopub.status.busy": "2023-01-25T09:09:02.181898Z",
     "iopub.status.idle": "2023-01-25T09:09:02.220918Z",
     "shell.execute_reply": "2023-01-25T09:09:02.219937Z",
     "shell.execute_reply.started": "2023-01-25T09:09:02.182967Z"
    }
   },
   "outputs": [
    {
     "data": {
      "text/plain": [
       "13477    Does KF actually explain the differences in qu...\n",
       "29195    BKK airport closed: SQ et al Cancel flights 26...\n",
       "22061    Originally posted by SQ LPPView PostThat's a v...\n",
       "6624     Originally posted by GLAM82View PostIs there a...\n",
       "20643    I would have thought they will use the SKL, sa...\n",
       "                               ...                        \n",
       "12020    Originally posted by CGKView Post SQ prefers I...\n",
       "43382    I thought I'd get your views on this, which is...\n",
       "1598     Originally posted by florianwagnerView PostSo ...\n",
       "11541             letter dated 19 March received 28 March.\n",
       "22264    Sorry to report that as I got to SFO airport f...\n",
       "Name: text, Length: 33095, dtype: object"
      ]
     },
     "execution_count": 11,
     "metadata": {},
     "output_type": "execute_result"
    }
   ],
   "source": [
    "X = services_df['text']\n",
    "y = services_df['y_true']\n",
    "\n",
    "X_train, X_test, y_train, y_test = train_test_split(X, y, stratify=y, random_state=42)\n",
    "X_train"
   ]
  },
  {
   "cell_type": "markdown",
   "metadata": {},
   "source": [
    "- tokenise with Count Vectoriser"
   ]
  },
  {
   "cell_type": "code",
   "execution_count": 12,
   "metadata": {
    "execution": {
     "iopub.execute_input": "2023-01-25T09:09:02.223112Z",
     "iopub.status.busy": "2023-01-25T09:09:02.222256Z",
     "iopub.status.idle": "2023-01-25T09:09:05.735855Z",
     "shell.execute_reply": "2023-01-25T09:09:05.734695Z",
     "shell.execute_reply.started": "2023-01-25T09:09:02.223076Z"
    }
   },
   "outputs": [],
   "source": [
    "# no need to lowercase inputs to match lowercase stopwords, as CountVectorizer will do that as a default\n",
    "cvec = CountVectorizer(max_features = 500, stop_words = 'english')\n",
    "X_train_cvec = cvec.fit_transform(X_train)\n",
    "X_test_cvec = cvec.transform(X_test)"
   ]
  },
  {
   "cell_type": "markdown",
   "metadata": {},
   "source": [
    "- instantiate and fit a Naive Bayes model"
   ]
  },
  {
   "cell_type": "code",
   "execution_count": 13,
   "metadata": {
    "execution": {
     "iopub.execute_input": "2023-01-25T09:09:05.738051Z",
     "iopub.status.busy": "2023-01-25T09:09:05.737595Z",
     "iopub.status.idle": "2023-01-25T09:09:05.774369Z",
     "shell.execute_reply": "2023-01-25T09:09:05.773448Z",
     "shell.execute_reply.started": "2023-01-25T09:09:05.738016Z"
    }
   },
   "outputs": [],
   "source": [
    "nb = MultinomialNB()\n",
    "NB_model = ovr(nb).fit(X_train_cvec, y_train)  # using OneVsRestClassifier"
   ]
  },
  {
   "cell_type": "markdown",
   "metadata": {},
   "source": [
    "- visualise confusion matrix"
   ]
  },
  {
   "cell_type": "code",
   "execution_count": 14,
   "metadata": {
    "execution": {
     "iopub.execute_input": "2023-01-25T09:09:05.776505Z",
     "iopub.status.busy": "2023-01-25T09:09:05.776148Z",
     "iopub.status.idle": "2023-01-25T09:09:06.079243Z",
     "shell.execute_reply": "2023-01-25T09:09:06.078249Z",
     "shell.execute_reply.started": "2023-01-25T09:09:05.776470Z"
    }
   },
   "outputs": [
    {
     "data": {
      "image/png": "[encoded data removed]",
      "text/plain": [
       "<Figure size 432x288 with 2 Axes>"
      ]
     },
     "metadata": {
      "needs_background": "light"
     },
     "output_type": "display_data"
    }
   ],
   "source": [
    "y_pred = NB_model.predict(X_test_cvec)\n",
    "cm = confusion_matrix(y_test, y_pred)\n",
    "disp = ConfusionMatrixDisplay(confusion_matrix=cm, display_labels=['Others', 'KrisFlyer', 'LCA'])\n",
    "disp.plot();"
   ]
  },
  {
   "cell_type": "markdown",
   "metadata": {},
   "source": [
    "- display precision, recall, f1-score of each class"
   ]
  },
  {
   "cell_type": "code",
   "execution_count": 15,
   "metadata": {
    "execution": {
     "iopub.execute_input": "2023-01-25T09:09:06.082300Z",
     "iopub.status.busy": "2023-01-25T09:09:06.081567Z",
     "iopub.status.idle": "2023-01-25T09:09:06.108919Z",
     "shell.execute_reply": "2023-01-25T09:09:06.107770Z",
     "shell.execute_reply.started": "2023-01-25T09:09:06.082263Z"
    }
   },
   "outputs": [
    {
     "name": "stdout",
     "output_type": "stream",
     "text": [
      "              precision    recall  f1-score   support\n",
      "\n",
      "           0       0.67      0.75      0.71      3901\n",
      "           1       0.75      0.78      0.76      4443\n",
      "           2       0.83      0.63      0.71      2688\n",
      "\n",
      "    accuracy                           0.73     11032\n",
      "   macro avg       0.75      0.72      0.73     11032\n",
      "weighted avg       0.74      0.73      0.73     11032\n",
      "\n"
     ]
    }
   ],
   "source": [
    "print(classification_report(y_test, y_pred))\n",
    "# 0: other, 1: kf, 2: lca"
   ]
  },
  {
   "cell_type": "markdown",
   "metadata": {},
   "source": [
    "- display the weighted average ROC AUC score"
   ]
  },
  {
   "cell_type": "code",
   "execution_count": 16,
   "metadata": {
    "execution": {
     "iopub.execute_input": "2023-01-25T09:09:06.111075Z",
     "iopub.status.busy": "2023-01-25T09:09:06.110524Z",
     "iopub.status.idle": "2023-01-25T09:09:06.140571Z",
     "shell.execute_reply": "2023-01-25T09:09:06.139511Z",
     "shell.execute_reply.started": "2023-01-25T09:09:06.111036Z"
    }
   },
   "outputs": [
    {
     "data": {
      "text/plain": [
       "0.8768442598928899"
      ]
     },
     "execution_count": 16,
     "metadata": {},
     "output_type": "execute_result"
    }
   ],
   "source": [
    "y_pred_prob = NB_model.predict_proba(X_test_cvec)\n",
    "\n",
    "roc_auc_score(y_test, y_pred_prob, multi_class='ovr', average='weighted')"
   ]
  },
  {
   "cell_type": "markdown",
   "metadata": {
    "tags": []
   },
   "source": [
    "---\n",
    "## 5. Remarks\n",
    "---"
   ]
  },
  {
   "cell_type": "markdown",
   "metadata": {},
   "source": [
    "- The overall accuracy score (0.73) and weighted-average ROC AUC score (0.88) of the baseline model are good. This indicated that our dataset, given the minimal pre-processing and use of a basic vectoriser, is quite clean and that the categories of KrisFlyer, LCA and others are quite distinct from each other.\n",
    "<br>\n",
    "<br>\n",
    "- For this business case, false positive and negative results for predicting both KrisFlyer and LCA-related comments are equally undesirable. Misclassifying these comments (in either direction) is frustrating for customers, and can lead to lower customer satisfaction, higher complaints and may turn the valued customers away towards competitors. \n",
    "<br>\n",
    "<br>\n",
    "- Hence, the 2 key metrics to optimise for are (1) the weighted-average ROC AUC score and (2) the weighted-average f1-score of KrisFlyer and LCA classes (illustrated below)."
   ]
  },
  {
   "cell_type": "code",
   "execution_count": 17,
   "metadata": {
    "execution": {
     "iopub.execute_input": "2023-01-25T09:09:06.142632Z",
     "iopub.status.busy": "2023-01-25T09:09:06.142187Z",
     "iopub.status.idle": "2023-01-25T09:09:06.157952Z",
     "shell.execute_reply": "2023-01-25T09:09:06.156485Z",
     "shell.execute_reply.started": "2023-01-25T09:09:06.142577Z"
    }
   },
   "outputs": [
    {
     "data": {
      "text/plain": [
       "0.743131994937623"
      ]
     },
     "execution_count": 17,
     "metadata": {},
     "output_type": "execute_result"
    }
   ],
   "source": [
    "f1_score(y_test, y_pred, labels=[1,2], average = 'weighted')"
   ]
  }
 ],
 "metadata": {
  "kernelspec": {
   "display_name": "Python 3 (ipykernel)",
   "language": "python",
   "name": "python3"
  },
  "language_info": {
   "codemirror_mode": {
    "name": "ipython",
    "version": 3
   },
   "file_extension": ".py",
   "mimetype": "text/x-python",
   "name": "python",
   "nbconvert_exporter": "python",
   "pygments_lexer": "ipython3",
   "version": "3.8.13"
  }
 },
 "nbformat": 4,
 "nbformat_minor": 4
}
