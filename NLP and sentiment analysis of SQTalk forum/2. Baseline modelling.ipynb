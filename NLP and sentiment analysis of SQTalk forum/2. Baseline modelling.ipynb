{
 "cells": [
  {
   "cell_type": "markdown",
   "metadata": {
    "tags": []
   },
   "source": [
    "## Contents\n",
    "* [1. Baseline Model](#1.-Baseline-Model)\n",
    "* [2. Imports](#2.-Imports)\n",
    "* [3. Data Cleaning & Preparation](#3.-Data-Cleaning-&-Preparation)\n",
    "* [4. Model Fit & Predict](#4.-Model-Fit-&-Predict)\n",
    "    * [4.1 Baseline 1 (w/o Lemm/Stem)](#4.1-Baseline-1-(w/o-Lemm/Stem))\n",
    "    * [4.2 Baseline 2 (with Lemm)](#4.2-Baseline-2-(with-Lemm))\n",
    "    * [4.3 Baseline 3 (with Stem)](#4.3-Baseline-3-(with-Stem))\n",
    "* [5. Remarks](#5.-Remarks)"
   ]
  },
  {
   "cell_type": "markdown",
   "metadata": {},
   "source": [
    "---\n",
    "## 1. Baseline Model\n",
    "---\n",
    "Aim: to develop a baseline multi-class model using CountVectoriser and Multinomial Naive Bayes model, and to compare the effects of lemmatization, stemming and without both.\n",
    "\n",
    "|                           | Baseline 1              | Baseline 2                 | Baseline 3                 |\n",
    "|---------------------------|-------------------------|----------------------------|----------------------------|\n",
    "| Pre-processing            | - Basic cleaning          | - basic cleaning<br>- lemm | - basic cleaning<br>- stem |\n",
    "| Vectoriser                | CountVectoriser         | CountVectoriser            | CountVectoriser            |\n",
    "| Model                     | Multinomial Naive Bayes | Multinomial Naive Bayes    | Multinomial Naive Bayes    |\n",
    "\n",
    "Note: the code below was ran on Kaggle, to make use of Kaggle GPUs."
   ]
  },
  {
   "cell_type": "markdown",
   "metadata": {},
   "source": [
    "---\n",
    "## 2. Imports\n",
    "---"
   ]
  },
  {
   "cell_type": "code",
   "execution_count": 85,
   "metadata": {
    "execution": {
     "iopub.execute_input": "2023-01-27T07:19:57.294503Z",
     "iopub.status.busy": "2023-01-27T07:19:57.293887Z",
     "iopub.status.idle": "2023-01-27T07:19:57.303482Z",
     "shell.execute_reply": "2023-01-27T07:19:57.301971Z",
     "shell.execute_reply.started": "2023-01-27T07:19:57.294450Z"
    },
    "tags": []
   },
   "outputs": [],
   "source": [
    "import numpy as np\n",
    "import pandas as pd\n",
    "from nltk.stem import WordNetLemmatizer\n",
    "from nltk.stem.porter import PorterStemmer\n",
    "from nltk.tokenize import word_tokenize\n",
    "from sklearn.model_selection import train_test_split\n",
    "from sklearn.feature_extraction.text import CountVectorizer\n",
    "from sklearn.naive_bayes import MultinomialNB\n",
    "from sklearn.multiclass import OneVsRestClassifier as ovr\n",
    "from sklearn.metrics import confusion_matrix, ConfusionMatrixDisplay,classification_report, roc_auc_score, f1_score"
   ]
  },
  {
   "cell_type": "markdown",
   "metadata": {},
   "source": [
    "---\n",
    "## 3. Data Cleaning & Preparation\n",
    "---\n",
    "- Read extracted KrisFlyer, lounge, catering, amenity kits' data\n",
    "- to put together a dataframe of comments and thread titles for model. Using comments for their wealth of words, and titles for their highlighting of key words"
   ]
  },
  {
   "cell_type": "code",
   "execution_count": 86,
   "metadata": {
    "execution": {
     "iopub.execute_input": "2023-01-27T07:19:57.321248Z",
     "iopub.status.busy": "2023-01-27T07:19:57.320389Z",
     "iopub.status.idle": "2023-01-27T07:19:57.612869Z",
     "shell.execute_reply": "2023-01-27T07:19:57.611687Z",
     "shell.execute_reply.started": "2023-01-27T07:19:57.321188Z"
    },
    "scrolled": true,
    "tags": []
   },
   "outputs": [
    {
     "name": "stdout",
     "output_type": "stream",
     "text": [
      "                                            comments\n",
      "0  Hi Guys,I'm still DAMN confused after reading ...\n",
      "1  ah relax. you can be the perfect test case the...\n",
      "2  There's no need to panic. Been in a similar si...\n",
      "3  Originally posted by Nick CView PostThere's no...\n",
      "4  Firstly, Welcome to SQTalk, Vtac82!Krisflyer m...\n",
      "                                          title  \\\n",
      "0           Qualifying as EG for the first time   \n",
      "1           Which FFP for me? Master Discussion   \n",
      "2                              #SQMelbourneTram   \n",
      "3  Advice sought - Changing redemption bookings   \n",
      "4                          First Savers SYD-SIN   \n",
      "\n",
      "                                                 url  \n",
      "0  http://www.sqtalk.com/forum/forum/singapore-ai...  \n",
      "1  http://www.sqtalk.com/forum/forum/singapore-ai...  \n",
      "2  http://www.sqtalk.com/forum/forum/singapore-ai...  \n",
      "3  http://www.sqtalk.com/forum/forum/singapore-ai...  \n",
      "4  http://www.sqtalk.com/forum/forum/singapore-ai...  \n"
     ]
    }
   ],
   "source": [
    "kf_comments_df = pd.read_csv('/kaggle/input/sq-services/KrisFlyer_comments.csv')\n",
    "kf_titles_df = pd.read_csv('/kaggle/input/sq-services/KrisFlyer_URLs.csv')\n",
    "\n",
    "# (L)ounge, (C)atering, (A)menity kits\n",
    "LCA_comments_df = pd.read_csv('/kaggle/input/sq-services/lounge_amenities_comments.csv')\n",
    "LCA_titles_df = pd.read_csv('/kaggle/input/sq-services/lounge_amenities_URLs.csv')\n",
    "\n",
    "other_comments_df = pd.read_csv('/kaggle/input/sq-services/other_comments.csv')\n",
    "other_titles_df = pd.read_csv('/kaggle/input/sq-services/other_URLs.csv')\n",
    "\n",
    "print(kf_comments_df.head())\n",
    "print(kf_titles_df.head())"
   ]
  },
  {
   "cell_type": "markdown",
   "metadata": {},
   "source": [
    "- drop off the url column as it is redundant for NLP"
   ]
  },
  {
   "cell_type": "code",
   "execution_count": 87,
   "metadata": {
    "execution": {
     "iopub.execute_input": "2023-01-27T07:19:57.615036Z",
     "iopub.status.busy": "2023-01-27T07:19:57.614719Z",
     "iopub.status.idle": "2023-01-27T07:19:57.623031Z",
     "shell.execute_reply": "2023-01-27T07:19:57.622191Z",
     "shell.execute_reply.started": "2023-01-27T07:19:57.615009Z"
    }
   },
   "outputs": [],
   "source": [
    "kf_titles_df.drop(columns='url',inplace=True)\n",
    "LCA_titles_df.drop(columns='url',inplace=True)\n",
    "other_titles_df.drop(columns='url',inplace=True)"
   ]
  },
  {
   "cell_type": "markdown",
   "metadata": {},
   "source": [
    "- adding a 'source' column to each df to indicate which forum is the data from\n",
    "- this 'source' column will be used as the target variable later"
   ]
  },
  {
   "cell_type": "code",
   "execution_count": 88,
   "metadata": {
    "execution": {
     "iopub.execute_input": "2023-01-27T07:19:57.624630Z",
     "iopub.status.busy": "2023-01-27T07:19:57.624153Z",
     "iopub.status.idle": "2023-01-27T07:19:57.644865Z",
     "shell.execute_reply": "2023-01-27T07:19:57.643646Z",
     "shell.execute_reply.started": "2023-01-27T07:19:57.624599Z"
    }
   },
   "outputs": [
    {
     "data": {
      "text/html": [
       "<div>\n",
       "<style scoped>\n",
       "    .dataframe tbody tr th:only-of-type {\n",
       "        vertical-align: middle;\n",
       "    }\n",
       "\n",
       "    .dataframe tbody tr th {\n",
       "        vertical-align: top;\n",
       "    }\n",
       "\n",
       "    .dataframe thead th {\n",
       "        text-align: right;\n",
       "    }\n",
       "</style>\n",
       "<table border=\"1\" class=\"dataframe\">\n",
       "  <thead>\n",
       "    <tr style=\"text-align: right;\">\n",
       "      <th></th>\n",
       "      <th>comments</th>\n",
       "      <th>source</th>\n",
       "    </tr>\n",
       "  </thead>\n",
       "  <tbody>\n",
       "    <tr>\n",
       "      <th>0</th>\n",
       "      <td>Hi Guys,I'm still DAMN confused after reading ...</td>\n",
       "      <td>kf</td>\n",
       "    </tr>\n",
       "    <tr>\n",
       "      <th>1</th>\n",
       "      <td>ah relax. you can be the perfect test case the...</td>\n",
       "      <td>kf</td>\n",
       "    </tr>\n",
       "    <tr>\n",
       "      <th>2</th>\n",
       "      <td>There's no need to panic. Been in a similar si...</td>\n",
       "      <td>kf</td>\n",
       "    </tr>\n",
       "    <tr>\n",
       "      <th>3</th>\n",
       "      <td>Originally posted by Nick CView PostThere's no...</td>\n",
       "      <td>kf</td>\n",
       "    </tr>\n",
       "    <tr>\n",
       "      <th>4</th>\n",
       "      <td>Firstly, Welcome to SQTalk, Vtac82!Krisflyer m...</td>\n",
       "      <td>kf</td>\n",
       "    </tr>\n",
       "  </tbody>\n",
       "</table>\n",
       "</div>"
      ],
      "text/plain": [
       "                                            comments source\n",
       "0  Hi Guys,I'm still DAMN confused after reading ...     kf\n",
       "1  ah relax. you can be the perfect test case the...     kf\n",
       "2  There's no need to panic. Been in a similar si...     kf\n",
       "3  Originally posted by Nick CView PostThere's no...     kf\n",
       "4  Firstly, Welcome to SQTalk, Vtac82!Krisflyer m...     kf"
      ]
     },
     "execution_count": 88,
     "metadata": {},
     "output_type": "execute_result"
    }
   ],
   "source": [
    "kf_comments_df['source'] = 'kf'\n",
    "kf_titles_df['source'] = 'kf'\n",
    "LCA_comments_df['source'] = 'lca'\n",
    "LCA_titles_df['source'] = 'lca'\n",
    "other_comments_df['source'] = 'other'\n",
    "other_titles_df['source'] = 'other'\n",
    "\n",
    "kf_comments_df.head()"
   ]
  },
  {
   "cell_type": "markdown",
   "metadata": {},
   "source": [
    "- aligning 'comments' and 'title' columns to the same name 'text'"
   ]
  },
  {
   "cell_type": "code",
   "execution_count": 89,
   "metadata": {
    "execution": {
     "iopub.execute_input": "2023-01-27T07:19:57.647826Z",
     "iopub.status.busy": "2023-01-27T07:19:57.647032Z",
     "iopub.status.idle": "2023-01-27T07:19:57.662498Z",
     "shell.execute_reply": "2023-01-27T07:19:57.661729Z",
     "shell.execute_reply.started": "2023-01-27T07:19:57.647761Z"
    }
   },
   "outputs": [
    {
     "data": {
      "text/html": [
       "<div>\n",
       "<style scoped>\n",
       "    .dataframe tbody tr th:only-of-type {\n",
       "        vertical-align: middle;\n",
       "    }\n",
       "\n",
       "    .dataframe tbody tr th {\n",
       "        vertical-align: top;\n",
       "    }\n",
       "\n",
       "    .dataframe thead th {\n",
       "        text-align: right;\n",
       "    }\n",
       "</style>\n",
       "<table border=\"1\" class=\"dataframe\">\n",
       "  <thead>\n",
       "    <tr style=\"text-align: right;\">\n",
       "      <th></th>\n",
       "      <th>text</th>\n",
       "      <th>source</th>\n",
       "    </tr>\n",
       "  </thead>\n",
       "  <tbody>\n",
       "    <tr>\n",
       "      <th>0</th>\n",
       "      <td>Hi Guys,I'm still DAMN confused after reading ...</td>\n",
       "      <td>kf</td>\n",
       "    </tr>\n",
       "    <tr>\n",
       "      <th>1</th>\n",
       "      <td>ah relax. you can be the perfect test case the...</td>\n",
       "      <td>kf</td>\n",
       "    </tr>\n",
       "    <tr>\n",
       "      <th>2</th>\n",
       "      <td>There's no need to panic. Been in a similar si...</td>\n",
       "      <td>kf</td>\n",
       "    </tr>\n",
       "    <tr>\n",
       "      <th>3</th>\n",
       "      <td>Originally posted by Nick CView PostThere's no...</td>\n",
       "      <td>kf</td>\n",
       "    </tr>\n",
       "    <tr>\n",
       "      <th>4</th>\n",
       "      <td>Firstly, Welcome to SQTalk, Vtac82!Krisflyer m...</td>\n",
       "      <td>kf</td>\n",
       "    </tr>\n",
       "  </tbody>\n",
       "</table>\n",
       "</div>"
      ],
      "text/plain": [
       "                                                text source\n",
       "0  Hi Guys,I'm still DAMN confused after reading ...     kf\n",
       "1  ah relax. you can be the perfect test case the...     kf\n",
       "2  There's no need to panic. Been in a similar si...     kf\n",
       "3  Originally posted by Nick CView PostThere's no...     kf\n",
       "4  Firstly, Welcome to SQTalk, Vtac82!Krisflyer m...     kf"
      ]
     },
     "execution_count": 89,
     "metadata": {},
     "output_type": "execute_result"
    }
   ],
   "source": [
    "kf_comments_df.rename(columns={'comments':'text'}, inplace=True)\n",
    "kf_titles_df.rename(columns={'title':'text'}, inplace=True)\n",
    "LCA_comments_df.rename(columns={'comments':'text'}, inplace=True)\n",
    "LCA_titles_df.rename(columns={'title':'text'}, inplace=True)\n",
    "other_comments_df.rename(columns={'comments':'text'}, inplace=True)\n",
    "other_titles_df.rename(columns={'title':'text'}, inplace=True)\n",
    "\n",
    "kf_comments_df.head()"
   ]
  },
  {
   "cell_type": "markdown",
   "metadata": {},
   "source": [
    "- export cleaned datasets"
   ]
  },
  {
   "cell_type": "code",
   "execution_count": 90,
   "metadata": {
    "execution": {
     "iopub.execute_input": "2023-01-27T07:19:57.663979Z",
     "iopub.status.busy": "2023-01-27T07:19:57.663645Z",
     "iopub.status.idle": "2023-01-27T07:19:58.092496Z",
     "shell.execute_reply": "2023-01-27T07:19:58.091193Z",
     "shell.execute_reply.started": "2023-01-27T07:19:57.663943Z"
    }
   },
   "outputs": [],
   "source": [
    "kf_df = pd.concat([kf_titles_df, kf_comments_df])\n",
    "LCA_df = pd.concat([LCA_titles_df, LCA_comments_df])\n",
    "other_df = pd.concat([other_titles_df, other_comments_df])\n",
    "\n",
    "kf_df.to_csv('/kaggle/working/kf_clean.csv', index=False)\n",
    "LCA_df.to_csv('/kaggle/working/LCA_clean.csv', index=False)\n",
    "other_df.to_csv('/kaggle/working/other_clean.csv', index=False)"
   ]
  },
  {
   "cell_type": "markdown",
   "metadata": {},
   "source": [
    "- concatenate kf and LCA's titles and comments into one df"
   ]
  },
  {
   "cell_type": "code",
   "execution_count": 91,
   "metadata": {
    "execution": {
     "iopub.execute_input": "2023-01-27T07:19:58.095206Z",
     "iopub.status.busy": "2023-01-27T07:19:58.094271Z",
     "iopub.status.idle": "2023-01-27T07:19:58.105075Z",
     "shell.execute_reply": "2023-01-27T07:19:58.103835Z",
     "shell.execute_reply.started": "2023-01-27T07:19:58.095168Z"
    }
   },
   "outputs": [
    {
     "data": {
      "text/plain": [
       "(44130, 2)"
      ]
     },
     "execution_count": 91,
     "metadata": {},
     "output_type": "execute_result"
    }
   ],
   "source": [
    "services_df = pd.concat([kf_df, LCA_df, other_df])\n",
    "services_df.shape"
   ]
  },
  {
   "cell_type": "markdown",
   "metadata": {},
   "source": [
    "- check for and resolve any NA values"
   ]
  },
  {
   "cell_type": "code",
   "execution_count": 92,
   "metadata": {
    "execution": {
     "iopub.execute_input": "2023-01-27T07:19:58.109003Z",
     "iopub.status.busy": "2023-01-27T07:19:58.108663Z",
     "iopub.status.idle": "2023-01-27T07:19:58.146121Z",
     "shell.execute_reply": "2023-01-27T07:19:58.145101Z",
     "shell.execute_reply.started": "2023-01-27T07:19:58.108974Z"
    }
   },
   "outputs": [
    {
     "name": "stdout",
     "output_type": "stream",
     "text": [
      "text      3\n",
      "source    0\n",
      "dtype: int64\n",
      "text      0\n",
      "source    0\n",
      "dtype: int64\n"
     ]
    }
   ],
   "source": [
    "print(services_df.isna().sum())\n",
    "\n",
    "# acceptable to drop 3 NA values out of 44k values\n",
    "services_df.dropna(inplace=True)\n",
    "# reset index, and drop old index\n",
    "services_df.reset_index(drop=True, inplace=True)\n",
    "\n",
    "print(services_df.isna().sum())"
   ]
  },
  {
   "cell_type": "markdown",
   "metadata": {},
   "source": [
    "- to check the balance of the 'source'"
   ]
  },
  {
   "cell_type": "code",
   "execution_count": 93,
   "metadata": {
    "execution": {
     "iopub.execute_input": "2023-01-27T07:19:58.147845Z",
     "iopub.status.busy": "2023-01-27T07:19:58.147524Z",
     "iopub.status.idle": "2023-01-27T07:19:58.159608Z",
     "shell.execute_reply": "2023-01-27T07:19:58.158425Z",
     "shell.execute_reply.started": "2023-01-27T07:19:58.147817Z"
    }
   },
   "outputs": [
    {
     "data": {
      "text/plain": [
       "kf       0.402724\n",
       "other    0.353570\n",
       "lca      0.243706\n",
       "Name: source, dtype: float64"
      ]
     },
     "execution_count": 93,
     "metadata": {},
     "output_type": "execute_result"
    }
   ],
   "source": [
    "services_df['source'].value_counts(normalize=True)\n",
    "# results show that it is imbalanced - need to stratify during train-test split later"
   ]
  },
  {
   "cell_type": "markdown",
   "metadata": {},
   "source": [
    "- create a 'kf' column: \n",
    "    - if value = 0, the source is others\n",
    "    - if value = 1, the source is kf\n",
    "    - if value = 2, the source is from LCA"
   ]
  },
  {
   "cell_type": "code",
   "execution_count": 94,
   "metadata": {
    "execution": {
     "iopub.execute_input": "2023-01-27T07:19:58.161712Z",
     "iopub.status.busy": "2023-01-27T07:19:58.161232Z",
     "iopub.status.idle": "2023-01-27T07:19:58.183234Z",
     "shell.execute_reply": "2023-01-27T07:19:58.182167Z",
     "shell.execute_reply.started": "2023-01-27T07:19:58.161643Z"
    }
   },
   "outputs": [
    {
     "name": "stdout",
     "output_type": "stream",
     "text": [
      "                                           text source  y_true\n",
      "0           Qualifying as EG for the first time     kf       1\n",
      "1           Which FFP for me? Master Discussion     kf       1\n",
      "2                              #SQMelbourneTram     kf       1\n",
      "3  Advice sought - Changing redemption bookings     kf       1\n",
      "4                          First Savers SYD-SIN     kf       1\n"
     ]
    },
    {
     "data": {
      "text/plain": [
       "1    0.402724\n",
       "0    0.353570\n",
       "2    0.243706\n",
       "Name: y_true, dtype: float64"
      ]
     },
     "execution_count": 94,
     "metadata": {},
     "output_type": "execute_result"
    }
   ],
   "source": [
    "services_df['y_true'] = services_df['source'].map({'other':0, 'kf': 1, 'lca': 2})\n",
    "print(services_df.head())\n",
    "services_df['y_true'].value_counts(normalize=True)"
   ]
  },
  {
   "cell_type": "markdown",
   "metadata": {},
   "source": [
    "---\n",
    "## 4. Model Fit & Predict\n",
    "---"
   ]
  },
  {
   "cell_type": "markdown",
   "metadata": {},
   "source": [
    "## 4.1 Baseline 1 (w/o Lemm/Stem)"
   ]
  },
  {
   "cell_type": "markdown",
   "metadata": {},
   "source": [
    "- train-test split our df"
   ]
  },
  {
   "cell_type": "code",
   "execution_count": 95,
   "metadata": {
    "execution": {
     "iopub.execute_input": "2023-01-27T07:19:58.189191Z",
     "iopub.status.busy": "2023-01-27T07:19:58.188825Z",
     "iopub.status.idle": "2023-01-27T07:19:58.218522Z",
     "shell.execute_reply": "2023-01-27T07:19:58.217430Z",
     "shell.execute_reply.started": "2023-01-27T07:19:58.189159Z"
    }
   },
   "outputs": [
    {
     "data": {
      "text/plain": [
       "13477    Does KF actually explain the differences in qu...\n",
       "29195    BKK airport closed: SQ et al Cancel flights 26...\n",
       "22061    Originally posted by SQ LPPView PostThat's a v...\n",
       "6624     Originally posted by GLAM82View PostIs there a...\n",
       "20643    I would have thought they will use the SKL, sa...\n",
       "                               ...                        \n",
       "12020    Originally posted by CGKView Post SQ prefers I...\n",
       "43382    I thought I'd get your views on this, which is...\n",
       "1598     Originally posted by florianwagnerView PostSo ...\n",
       "11541             letter dated 19 March received 28 March.\n",
       "22264    Sorry to report that as I got to SFO airport f...\n",
       "Name: text, Length: 33095, dtype: object"
      ]
     },
     "execution_count": 95,
     "metadata": {},
     "output_type": "execute_result"
    }
   ],
   "source": [
    "X = services_df['text']\n",
    "y = services_df['y_true']\n",
    "\n",
    "X_train, X_test, y_train, y_test = train_test_split(X, y, stratify=y, random_state=42)\n",
    "X_train"
   ]
  },
  {
   "cell_type": "markdown",
   "metadata": {},
   "source": [
    "- tokenise with Count Vectoriser"
   ]
  },
  {
   "cell_type": "code",
   "execution_count": 96,
   "metadata": {
    "execution": {
     "iopub.execute_input": "2023-01-27T07:19:58.222581Z",
     "iopub.status.busy": "2023-01-27T07:19:58.222154Z",
     "iopub.status.idle": "2023-01-27T07:20:00.579541Z",
     "shell.execute_reply": "2023-01-27T07:20:00.578026Z",
     "shell.execute_reply.started": "2023-01-27T07:19:58.222550Z"
    }
   },
   "outputs": [],
   "source": [
    "# no need to lowercase inputs to match lowercase stopwords, as CountVectorizer will do that as a default\n",
    "cvec = CountVectorizer(max_features = 500, stop_words = 'english')\n",
    "X_train_cvec = cvec.fit_transform(X_train)\n",
    "X_test_cvec = cvec.transform(X_test)"
   ]
  },
  {
   "cell_type": "markdown",
   "metadata": {},
   "source": [
    "- instantiate and fit a Naive Bayes model"
   ]
  },
  {
   "cell_type": "code",
   "execution_count": 97,
   "metadata": {
    "execution": {
     "iopub.execute_input": "2023-01-27T07:20:00.581538Z",
     "iopub.status.busy": "2023-01-27T07:20:00.581147Z",
     "iopub.status.idle": "2023-01-27T07:20:00.625169Z",
     "shell.execute_reply": "2023-01-27T07:20:00.624236Z",
     "shell.execute_reply.started": "2023-01-27T07:20:00.581503Z"
    }
   },
   "outputs": [],
   "source": [
    "nb = MultinomialNB()\n",
    "NB_model = ovr(nb).fit(X_train_cvec, y_train)  # using OneVsRestClassifier"
   ]
  },
  {
   "cell_type": "markdown",
   "metadata": {},
   "source": [
    "- visualise confusion matrix"
   ]
  },
  {
   "cell_type": "code",
   "execution_count": 98,
   "metadata": {
    "execution": {
     "iopub.execute_input": "2023-01-27T07:20:00.627216Z",
     "iopub.status.busy": "2023-01-27T07:20:00.626689Z",
     "iopub.status.idle": "2023-01-27T07:20:00.891432Z",
     "shell.execute_reply": "2023-01-27T07:20:00.890290Z",
     "shell.execute_reply.started": "2023-01-27T07:20:00.627172Z"
    }
   },
   "outputs": [
    {
     "data": {
      "image/png": "[encoded data removed]",
      "text/plain": [
       "<Figure size 432x288 with 2 Axes>"
      ]
     },
     "metadata": {
      "needs_background": "light"
     },
     "output_type": "display_data"
    }
   ],
   "source": [
    "y_pred = NB_model.predict(X_test_cvec)\n",
    "cm = confusion_matrix(y_test, y_pred)\n",
    "disp = ConfusionMatrixDisplay(confusion_matrix=cm, display_labels=['Others', 'KrisFlyer', 'LCA'])\n",
    "disp.plot();"
   ]
  },
  {
   "cell_type": "markdown",
   "metadata": {},
   "source": [
    "- display precision, recall, f1-score of each class"
   ]
  },
  {
   "cell_type": "code",
   "execution_count": 99,
   "metadata": {
    "execution": {
     "iopub.execute_input": "2023-01-27T07:20:00.893878Z",
     "iopub.status.busy": "2023-01-27T07:20:00.893133Z",
     "iopub.status.idle": "2023-01-27T07:20:00.921843Z",
     "shell.execute_reply": "2023-01-27T07:20:00.920715Z",
     "shell.execute_reply.started": "2023-01-27T07:20:00.893830Z"
    }
   },
   "outputs": [
    {
     "name": "stdout",
     "output_type": "stream",
     "text": [
      "              precision    recall  f1-score   support\n",
      "\n",
      "           0       0.67      0.75      0.71      3901\n",
      "           1       0.75      0.78      0.76      4443\n",
      "           2       0.83      0.63      0.71      2688\n",
      "\n",
      "    accuracy                           0.73     11032\n",
      "   macro avg       0.75      0.72      0.73     11032\n",
      "weighted avg       0.74      0.73      0.73     11032\n",
      "\n"
     ]
    }
   ],
   "source": [
    "print(classification_report(y_test, y_pred))\n",
    "# 0: other, 1: kf, 2: lca"
   ]
  },
  {
   "cell_type": "markdown",
   "metadata": {},
   "source": [
    "- display the macro average ROC AUC score"
   ]
  },
  {
   "cell_type": "code",
   "execution_count": 100,
   "metadata": {
    "execution": {
     "iopub.execute_input": "2023-01-27T07:20:00.924656Z",
     "iopub.status.busy": "2023-01-27T07:20:00.923737Z",
     "iopub.status.idle": "2023-01-27T07:20:00.954934Z",
     "shell.execute_reply": "2023-01-27T07:20:00.953837Z",
     "shell.execute_reply.started": "2023-01-27T07:20:00.924610Z"
    }
   },
   "outputs": [
    {
     "data": {
      "text/plain": [
       "0.8783042605417539"
      ]
     },
     "execution_count": 100,
     "metadata": {},
     "output_type": "execute_result"
    }
   ],
   "source": [
    "y_pred_prob = NB_model.predict_proba(X_test_cvec)\n",
    "\n",
    "roc_auc_score(y_test, y_pred_prob, multi_class='ovr', average='macro')"
   ]
  },
  {
   "cell_type": "markdown",
   "metadata": {},
   "source": [
    "- display macro average f1-score"
   ]
  },
  {
   "cell_type": "code",
   "execution_count": 101,
   "metadata": {
    "execution": {
     "iopub.execute_input": "2023-01-27T07:20:00.957268Z",
     "iopub.status.busy": "2023-01-27T07:20:00.956673Z",
     "iopub.status.idle": "2023-01-27T07:20:00.971261Z",
     "shell.execute_reply": "2023-01-27T07:20:00.970248Z",
     "shell.execute_reply.started": "2023-01-27T07:20:00.957222Z"
    }
   },
   "outputs": [
    {
     "data": {
      "text/plain": [
       "0.7370104822802401"
      ]
     },
     "execution_count": 101,
     "metadata": {},
     "output_type": "execute_result"
    }
   ],
   "source": [
    "f1_score(y_test, y_pred, labels=[1,2], average = 'macro')"
   ]
  },
  {
   "cell_type": "markdown",
   "metadata": {},
   "source": [
    "## 4.2 Baseline 2 (with Lemm)"
   ]
  },
  {
   "cell_type": "markdown",
   "metadata": {},
   "source": [
    "- lemmatise both the text and stopwords"
   ]
  },
  {
   "cell_type": "code",
   "execution_count": 102,
   "metadata": {
    "execution": {
     "iopub.execute_input": "2023-01-27T07:20:00.973003Z",
     "iopub.status.busy": "2023-01-27T07:20:00.972655Z",
     "iopub.status.idle": "2023-01-27T07:20:00.977971Z",
     "shell.execute_reply": "2023-01-27T07:20:00.976829Z",
     "shell.execute_reply.started": "2023-01-27T07:20:00.972964Z"
    }
   },
   "outputs": [],
   "source": [
    "lemmer = WordNetLemmatizer()"
   ]
  },
  {
   "cell_type": "markdown",
   "metadata": {},
   "source": [
    "- function to tokenise, lemm, and join text"
   ]
  },
  {
   "cell_type": "code",
   "execution_count": 103,
   "metadata": {
    "execution": {
     "iopub.execute_input": "2023-01-27T07:20:00.979892Z",
     "iopub.status.busy": "2023-01-27T07:20:00.979541Z",
     "iopub.status.idle": "2023-01-27T07:20:00.988973Z",
     "shell.execute_reply": "2023-01-27T07:20:00.988076Z",
     "shell.execute_reply.started": "2023-01-27T07:20:00.979862Z"
    }
   },
   "outputs": [],
   "source": [
    "def token_lemm(sent):\n",
    "    result = []\n",
    "    list = word_tokenize(sent)\n",
    "    for word in list:\n",
    "        result.append(lemmer.lemmatize(word))\n",
    "    return ' '.join(result)"
   ]
  },
  {
   "cell_type": "code",
   "execution_count": 104,
   "metadata": {
    "execution": {
     "iopub.execute_input": "2023-01-27T07:20:00.990854Z",
     "iopub.status.busy": "2023-01-27T07:20:00.990170Z",
     "iopub.status.idle": "2023-01-27T07:20:40.217032Z",
     "shell.execute_reply": "2023-01-27T07:20:40.215940Z",
     "shell.execute_reply.started": "2023-01-27T07:20:00.990814Z"
    }
   },
   "outputs": [
    {
     "data": {
      "text/html": [
       "<div>\n",
       "<style scoped>\n",
       "    .dataframe tbody tr th:only-of-type {\n",
       "        vertical-align: middle;\n",
       "    }\n",
       "\n",
       "    .dataframe tbody tr th {\n",
       "        vertical-align: top;\n",
       "    }\n",
       "\n",
       "    .dataframe thead th {\n",
       "        text-align: right;\n",
       "    }\n",
       "</style>\n",
       "<table border=\"1\" class=\"dataframe\">\n",
       "  <thead>\n",
       "    <tr style=\"text-align: right;\">\n",
       "      <th></th>\n",
       "      <th>text</th>\n",
       "      <th>source</th>\n",
       "      <th>y_true</th>\n",
       "    </tr>\n",
       "  </thead>\n",
       "  <tbody>\n",
       "    <tr>\n",
       "      <th>0</th>\n",
       "      <td>Qualifying a EG for the first time</td>\n",
       "      <td>kf</td>\n",
       "      <td>1</td>\n",
       "    </tr>\n",
       "    <tr>\n",
       "      <th>1</th>\n",
       "      <td>Which FFP for me ? Master Discussion</td>\n",
       "      <td>kf</td>\n",
       "      <td>1</td>\n",
       "    </tr>\n",
       "    <tr>\n",
       "      <th>2</th>\n",
       "      <td># SQMelbourneTram</td>\n",
       "      <td>kf</td>\n",
       "      <td>1</td>\n",
       "    </tr>\n",
       "    <tr>\n",
       "      <th>3</th>\n",
       "      <td>Advice sought - Changing redemption booking</td>\n",
       "      <td>kf</td>\n",
       "      <td>1</td>\n",
       "    </tr>\n",
       "    <tr>\n",
       "      <th>4</th>\n",
       "      <td>First Savers SYD-SIN</td>\n",
       "      <td>kf</td>\n",
       "      <td>1</td>\n",
       "    </tr>\n",
       "  </tbody>\n",
       "</table>\n",
       "</div>"
      ],
      "text/plain": [
       "                                          text source  y_true\n",
       "0           Qualifying a EG for the first time     kf       1\n",
       "1         Which FFP for me ? Master Discussion     kf       1\n",
       "2                            # SQMelbourneTram     kf       1\n",
       "3  Advice sought - Changing redemption booking     kf       1\n",
       "4                         First Savers SYD-SIN     kf       1"
      ]
     },
     "execution_count": 104,
     "metadata": {},
     "output_type": "execute_result"
    }
   ],
   "source": [
    "services_lemm_df = services_df.copy()\n",
    "services_lemm_df['text'] = [token_lemm(text) for text in services_df['text']]\n",
    "services_lemm_df.head()"
   ]
  },
  {
   "cell_type": "code",
   "execution_count": 105,
   "metadata": {
    "execution": {
     "iopub.execute_input": "2023-01-27T07:20:40.218907Z",
     "iopub.status.busy": "2023-01-27T07:20:40.218550Z",
     "iopub.status.idle": "2023-01-27T07:20:40.226317Z",
     "shell.execute_reply": "2023-01-27T07:20:40.225225Z",
     "shell.execute_reply.started": "2023-01-27T07:20:40.218877Z"
    }
   },
   "outputs": [
    {
     "name": "stdout",
     "output_type": "stream",
     "text": [
      "['we', 'mine', 'full', 'that', 'must', 'rather', 'next', 'them', 'twenty', 'becomes', 'up', 'across', 'no', 'though', 'cannot', 'perhaps', 'done', 'thereby', 'yet', 'whether', 'sixty', 're', 'then', 'himself', 'themselves', 'here', 'sometimes', 'or', 'everywhere', 'anyone', 'u', 'own', 'towards', 'front', 'ours', 'top', 'anyway', 'nowhere', 'together', 'everything', 'before', 'go', 'nothing', 'onto', 'not', 'either', 'such', 'somewhere', 'seems', 'she', 'bottom', 'ltd', 'and', 'other', 'last', 'le', 'any', 'why', 'found', 'noone', 'hereby', 'throughout', 'an', 'me', 'describe', 'whereas', 'whereafter', 'him', 'amoungst', 'these', 'how', 'wherein', 'now', 'seem', 'fifteen', 'amount', 'moreover', 'made', 'over', 'while', 'nor', 'who', 'cant', 'everyone', 'others', 'his', 'however', 'along', 'whereby', 'meanwhile', 'am', 'sincere', 'almost', 'please', 'fill', 'find', 'can', 'whole', 'although', 'whatever', 'back', 'few', 'very', 'this', 'move', 'whom', 'below', 'much', 'whenever', 'something', 'de', 'toward', 'nevertheless', 'thereafter', 'former', 'between', 'bill', 'upon', 'around', 'therein', 'could', 'myself', 'well', 'enough', 'system', 'thru', 'get', 'a', 'whose', 'on', 'seemed', 'cry', 'many', 'during', 'mostly', 'un', 'one', 'those', 'where', 'least', 'been', 'your', 'most', 'namely', 'serious', 'etc', 'side', 'if', 'become', 'mill', 'part', 'both', 'take', 'fire', 'since', 'thin', 'to', 'nine', 'two', 'thereupon', 'had', 'empty', 'into', 'hereupon', 'keep', 'of', 'from', 'the', 'about', 'when', 'in', 'same', 'several', 'neither', 'often', 'twelve', 'without', 'what', 'formerly', 'thick', 'again', 'our', 'beforehand', 'beside', 'it', 'being', 'under', 'else', 'among', 'through', 'couldnt', 'third', 'once', 'except', 'every', 'always', 'latterly', 'only', 'are', 'further', 'six', 'be', 'besides', 'beyond', 'off', 'would', 'her', 'hasnt', 'amongst', 'ever', 'because', 'none', 'another', 'became', 'against', 'nobody', 'somehow', 'alone', 'ha', 'detail', 'put', 'show', 'co', 'ie', 'afterwards', 'itself', 'five', 'might', 'anywhere', 'someone', 'hundred', 'indeed', 'down', 'inc', 'yourself', 'also', 'for', 'whoever', 'thence', 'wherever', 'due', 'above', 'with', 'latter', 'per', 'my', 'therefore', 'yourselves', 'it', 'you', 'which', 'each', 'behind', 'some', 'eg', 'four', 'already', 'their', 'should', 'is', 'ourselves', 'too', 'yours', 'more', 'hence', 'whither', 'first', 'within', 'anything', 'wa', 'i', 'out', 'all', 'eleven', 'even', 'see', 'fifty', 'at', 'so', 'anyhow', 'may', 'by', 'still', 'give', 'hers', 'they', 'were', 'will', 'elsewhere', 'he', 'thus', 'via', 'seeming', 'con', 'interest', 'a', 'have', 'never', 'becoming', 'forty', 'herself', 'ten', 'eight', 'three', 'name', 'hereafter', 'whence', 'than', 'after', 'there', 'otherwise', 'but', 'do', 'call', 'herein', 'until', 'whereupon', 'sometime']\n"
     ]
    }
   ],
   "source": [
    "lemm_stopwords = [lemmer.lemmatize(word) for word in cvec.get_stop_words()]\n",
    "print(lemm_stopwords)"
   ]
  },
  {
   "cell_type": "markdown",
   "metadata": {},
   "source": [
    "- train-test split"
   ]
  },
  {
   "cell_type": "code",
   "execution_count": 106,
   "metadata": {
    "execution": {
     "iopub.execute_input": "2023-01-27T07:20:40.228739Z",
     "iopub.status.busy": "2023-01-27T07:20:40.228291Z",
     "iopub.status.idle": "2023-01-27T07:20:40.260985Z",
     "shell.execute_reply": "2023-01-27T07:20:40.259811Z",
     "shell.execute_reply.started": "2023-01-27T07:20:40.228696Z"
    }
   },
   "outputs": [
    {
     "data": {
      "text/plain": [
       "13477    Does KF actually explain the difference in qua...\n",
       "29195    BKK airport closed : SQ et al Cancel flight 26...\n",
       "22061    Originally posted by SQ LPPView PostThat 's a ...\n",
       "6624     Originally posted by GLAM82View PostIs there a...\n",
       "20643    I would have thought they will use the SKL , s...\n",
       "                               ...                        \n",
       "12020    Originally posted by CGKView Post SQ prefers I...\n",
       "43382    I thought I 'd get your view on this , which i...\n",
       "1598     Originally posted by florianwagnerView PostSo ...\n",
       "11541            letter dated 19 March received 28 March .\n",
       "22264    Sorry to report that a I got to SFO airport fo...\n",
       "Name: text, Length: 33095, dtype: object"
      ]
     },
     "execution_count": 106,
     "metadata": {},
     "output_type": "execute_result"
    }
   ],
   "source": [
    "X = services_lemm_df['text']\n",
    "y = services_lemm_df['y_true']\n",
    "\n",
    "X_train, X_test, y_train, y_test = train_test_split(X, y, stratify=y, random_state=42)\n",
    "X_train"
   ]
  },
  {
   "cell_type": "markdown",
   "metadata": {},
   "source": [
    "- tokenise with Count Vectoriser"
   ]
  },
  {
   "cell_type": "code",
   "execution_count": 107,
   "metadata": {
    "execution": {
     "iopub.execute_input": "2023-01-27T07:20:40.262698Z",
     "iopub.status.busy": "2023-01-27T07:20:40.262370Z",
     "iopub.status.idle": "2023-01-27T07:20:42.677968Z",
     "shell.execute_reply": "2023-01-27T07:20:42.676880Z",
     "shell.execute_reply.started": "2023-01-27T07:20:40.262668Z"
    }
   },
   "outputs": [],
   "source": [
    "cvec = CountVectorizer(max_features = 500, stop_words = lemm_stopwords)\n",
    "X_train_cvec = cvec.fit_transform(X_train)\n",
    "X_test_cvec = cvec.transform(X_test)"
   ]
  },
  {
   "cell_type": "markdown",
   "metadata": {},
   "source": [
    "- instantiate and fit a Naive Bayes model"
   ]
  },
  {
   "cell_type": "code",
   "execution_count": 108,
   "metadata": {
    "execution": {
     "iopub.execute_input": "2023-01-27T07:20:42.679690Z",
     "iopub.status.busy": "2023-01-27T07:20:42.679356Z",
     "iopub.status.idle": "2023-01-27T07:20:42.723332Z",
     "shell.execute_reply": "2023-01-27T07:20:42.722354Z",
     "shell.execute_reply.started": "2023-01-27T07:20:42.679661Z"
    }
   },
   "outputs": [],
   "source": [
    "nb = MultinomialNB()\n",
    "NB_model = ovr(nb).fit(X_train_cvec, y_train)  # using OneVsRestClassifier"
   ]
  },
  {
   "cell_type": "markdown",
   "metadata": {},
   "source": [
    "- visualise confusion matrix"
   ]
  },
  {
   "cell_type": "code",
   "execution_count": 109,
   "metadata": {
    "execution": {
     "iopub.execute_input": "2023-01-27T07:20:42.725259Z",
     "iopub.status.busy": "2023-01-27T07:20:42.724931Z",
     "iopub.status.idle": "2023-01-27T07:20:42.984946Z",
     "shell.execute_reply": "2023-01-27T07:20:42.983787Z",
     "shell.execute_reply.started": "2023-01-27T07:20:42.725229Z"
    }
   },
   "outputs": [
    {
     "data": {
      "image/png": "[encoded data removed]",
      "text/plain": [
       "<Figure size 432x288 with 2 Axes>"
      ]
     },
     "metadata": {
      "needs_background": "light"
     },
     "output_type": "display_data"
    }
   ],
   "source": [
    "y_pred = NB_model.predict(X_test_cvec)\n",
    "cm = confusion_matrix(y_test, y_pred)\n",
    "disp = ConfusionMatrixDisplay(confusion_matrix=cm, display_labels=['Others', 'KrisFlyer', 'LCA'])\n",
    "disp.plot();"
   ]
  },
  {
   "cell_type": "markdown",
   "metadata": {},
   "source": [
    "- display precision, recall, f1-score of each class"
   ]
  },
  {
   "cell_type": "code",
   "execution_count": 110,
   "metadata": {
    "execution": {
     "iopub.execute_input": "2023-01-27T07:20:42.988845Z",
     "iopub.status.busy": "2023-01-27T07:20:42.988473Z",
     "iopub.status.idle": "2023-01-27T07:20:43.017907Z",
     "shell.execute_reply": "2023-01-27T07:20:43.016676Z",
     "shell.execute_reply.started": "2023-01-27T07:20:42.988810Z"
    }
   },
   "outputs": [
    {
     "name": "stdout",
     "output_type": "stream",
     "text": [
      "              precision    recall  f1-score   support\n",
      "\n",
      "           0       0.68      0.75      0.71      3901\n",
      "           1       0.75      0.79      0.77      4443\n",
      "           2       0.83      0.64      0.72      2688\n",
      "\n",
      "    accuracy                           0.74     11032\n",
      "   macro avg       0.76      0.73      0.74     11032\n",
      "weighted avg       0.75      0.74      0.74     11032\n",
      "\n"
     ]
    }
   ],
   "source": [
    "print(classification_report(y_test, y_pred))\n",
    "# 0: other, 1: kf, 2: lca"
   ]
  },
  {
   "cell_type": "markdown",
   "metadata": {},
   "source": [
    "- display the macro average ROC AUC score"
   ]
  },
  {
   "cell_type": "code",
   "execution_count": 111,
   "metadata": {
    "execution": {
     "iopub.execute_input": "2023-01-27T07:20:43.020439Z",
     "iopub.status.busy": "2023-01-27T07:20:43.019333Z",
     "iopub.status.idle": "2023-01-27T07:20:43.050756Z",
     "shell.execute_reply": "2023-01-27T07:20:43.049617Z",
     "shell.execute_reply.started": "2023-01-27T07:20:43.020396Z"
    }
   },
   "outputs": [
    {
     "data": {
      "text/plain": [
       "0.8852325761509331"
      ]
     },
     "execution_count": 111,
     "metadata": {},
     "output_type": "execute_result"
    }
   ],
   "source": [
    "y_pred_prob = NB_model.predict_proba(X_test_cvec)\n",
    "\n",
    "roc_auc_score(y_test, y_pred_prob, multi_class='ovr', average='macro')"
   ]
  },
  {
   "cell_type": "markdown",
   "metadata": {},
   "source": [
    "- display macro average f1-score"
   ]
  },
  {
   "cell_type": "code",
   "execution_count": 112,
   "metadata": {
    "execution": {
     "iopub.execute_input": "2023-01-27T07:20:43.052688Z",
     "iopub.status.busy": "2023-01-27T07:20:43.052354Z",
     "iopub.status.idle": "2023-01-27T07:20:43.068588Z",
     "shell.execute_reply": "2023-01-27T07:20:43.067568Z",
     "shell.execute_reply.started": "2023-01-27T07:20:43.052657Z"
    }
   },
   "outputs": [
    {
     "data": {
      "text/plain": [
       "0.7472541233975153"
      ]
     },
     "execution_count": 112,
     "metadata": {},
     "output_type": "execute_result"
    }
   ],
   "source": [
    "f1_score(y_test, y_pred, labels=[1,2], average = 'macro')"
   ]
  },
  {
   "cell_type": "markdown",
   "metadata": {},
   "source": [
    "## 4.3 Baseline 3 (with Stem)"
   ]
  },
  {
   "cell_type": "markdown",
   "metadata": {},
   "source": [
    "- stem both the text and stopwords"
   ]
  },
  {
   "cell_type": "code",
   "execution_count": 113,
   "metadata": {
    "execution": {
     "iopub.execute_input": "2023-01-27T07:20:43.074548Z",
     "iopub.status.busy": "2023-01-27T07:20:43.074191Z",
     "iopub.status.idle": "2023-01-27T07:20:43.079378Z",
     "shell.execute_reply": "2023-01-27T07:20:43.078632Z",
     "shell.execute_reply.started": "2023-01-27T07:20:43.074516Z"
    }
   },
   "outputs": [],
   "source": [
    "stemmer = PorterStemmer()"
   ]
  },
  {
   "cell_type": "markdown",
   "metadata": {},
   "source": [
    "- function to tokenise, stem, join text"
   ]
  },
  {
   "cell_type": "code",
   "execution_count": 114,
   "metadata": {
    "execution": {
     "iopub.execute_input": "2023-01-27T07:20:43.081357Z",
     "iopub.status.busy": "2023-01-27T07:20:43.081020Z",
     "iopub.status.idle": "2023-01-27T07:20:43.089389Z",
     "shell.execute_reply": "2023-01-27T07:20:43.088220Z",
     "shell.execute_reply.started": "2023-01-27T07:20:43.081327Z"
    }
   },
   "outputs": [],
   "source": [
    "def token_stem(sent):\n",
    "    result = []\n",
    "    list = word_tokenize(sent)\n",
    "    for word in list:\n",
    "        result.append(stemmer.stem(word))\n",
    "    return ' '.join(result)"
   ]
  },
  {
   "cell_type": "code",
   "execution_count": 115,
   "metadata": {
    "execution": {
     "iopub.execute_input": "2023-01-27T07:20:43.091522Z",
     "iopub.status.busy": "2023-01-27T07:20:43.091199Z",
     "iopub.status.idle": "2023-01-27T07:22:13.277917Z",
     "shell.execute_reply": "2023-01-27T07:22:13.277047Z",
     "shell.execute_reply.started": "2023-01-27T07:20:43.091493Z"
    }
   },
   "outputs": [
    {
     "data": {
      "text/html": [
       "<div>\n",
       "<style scoped>\n",
       "    .dataframe tbody tr th:only-of-type {\n",
       "        vertical-align: middle;\n",
       "    }\n",
       "\n",
       "    .dataframe tbody tr th {\n",
       "        vertical-align: top;\n",
       "    }\n",
       "\n",
       "    .dataframe thead th {\n",
       "        text-align: right;\n",
       "    }\n",
       "</style>\n",
       "<table border=\"1\" class=\"dataframe\">\n",
       "  <thead>\n",
       "    <tr style=\"text-align: right;\">\n",
       "      <th></th>\n",
       "      <th>text</th>\n",
       "      <th>source</th>\n",
       "      <th>y_true</th>\n",
       "    </tr>\n",
       "  </thead>\n",
       "  <tbody>\n",
       "    <tr>\n",
       "      <th>0</th>\n",
       "      <td>qualifi as eg for the first time</td>\n",
       "      <td>kf</td>\n",
       "      <td>1</td>\n",
       "    </tr>\n",
       "    <tr>\n",
       "      <th>1</th>\n",
       "      <td>which ffp for me ? master discuss</td>\n",
       "      <td>kf</td>\n",
       "      <td>1</td>\n",
       "    </tr>\n",
       "    <tr>\n",
       "      <th>2</th>\n",
       "      <td># sqmelbournetram</td>\n",
       "      <td>kf</td>\n",
       "      <td>1</td>\n",
       "    </tr>\n",
       "    <tr>\n",
       "      <th>3</th>\n",
       "      <td>advic sought - chang redempt book</td>\n",
       "      <td>kf</td>\n",
       "      <td>1</td>\n",
       "    </tr>\n",
       "    <tr>\n",
       "      <th>4</th>\n",
       "      <td>first saver syd-sin</td>\n",
       "      <td>kf</td>\n",
       "      <td>1</td>\n",
       "    </tr>\n",
       "  </tbody>\n",
       "</table>\n",
       "</div>"
      ],
      "text/plain": [
       "                                text source  y_true\n",
       "0   qualifi as eg for the first time     kf       1\n",
       "1  which ffp for me ? master discuss     kf       1\n",
       "2                  # sqmelbournetram     kf       1\n",
       "3  advic sought - chang redempt book     kf       1\n",
       "4                first saver syd-sin     kf       1"
      ]
     },
     "execution_count": 115,
     "metadata": {},
     "output_type": "execute_result"
    }
   ],
   "source": [
    "services_stem_df = services_df.copy()\n",
    "services_stem_df['text'] = [token_stem(text) for text in services_df['text']]\n",
    "services_stem_df.head()"
   ]
  },
  {
   "cell_type": "code",
   "execution_count": 116,
   "metadata": {
    "execution": {
     "iopub.execute_input": "2023-01-27T07:22:13.279921Z",
     "iopub.status.busy": "2023-01-27T07:22:13.279024Z",
     "iopub.status.idle": "2023-01-27T07:22:13.294490Z",
     "shell.execute_reply": "2023-01-27T07:22:13.293341Z",
     "shell.execute_reply.started": "2023-01-27T07:22:13.279887Z"
    }
   },
   "outputs": [
    {
     "name": "stdout",
     "output_type": "stream",
     "text": [
      "['we', 'mine', 'full', 'that', 'must', 'rather', 'next', 'them', 'twenti', 'becom', 'up', 'across', 'no', 'though', 'cannot', 'perhap', 'done', 'therebi', 'yet', 'whether', 'sixti', 're', 'then', 'himself', 'themselv', 'here', 'sometim', 'or', 'everywher', 'anyon', 'own', 'toward', 'front', 'our', 'top', 'nowher', 'togeth', 'anyway', 'everyth', 'befor', 'go', 'noth', 'onto', 'not', 'either', 'such', 'somewher', 'seem', 'she', 'bottom', 'ltd', 'and', 'other', 'last', 'ani', 'whi', 'found', 'noon', 'herebi', 'throughout', 'an', 'me', 'describ', 'wherea', 'whereaft', 'him', 'amoungst', 'these', 'how', 'wherein', 'now', 'seem', 'fifteen', 'amount', 'moreov', 'made', 'over', 'while', 'nor', 'who', 'cant', 'everyon', 'other', 'hi', 'howev', 'along', 'wherebi', 'meanwhil', 'am', 'sincer', 'almost', 'pleas', 'fill', 'find', 'can', 'whole', 'although', 'whatev', 'back', 'few', 'veri', 'thi', 'move', 'le', 'whom', 'below', 'much', 'whenev', 'someth', 'de', 'toward', 'nevertheless', 'thereaft', 'former', 'between', 'bill', 'upon', 'around', 'therein', 'could', 'myself', 'well', 'enough', 'system', 'thru', 'get', 'whose', 'on', 'seem', 'cri', 'mani', 'dure', 'mostli', 'un', 'one', 'those', 'where', 'least', 'been', 'your', 'most', 'name', 'seriou', 'etc', 'side', 'if', 'becom', 'mill', 'part', 'both', 'take', 'fire', 'sinc', 'thin', 'to', 'nine', 'two', 'thereupon', 'had', 'empti', 'into', 'hereupon', 'keep', 'of', 'from', 'the', 'about', 'when', 'in', 'same', 'sever', 'neither', 'often', 'twelv', 'without', 'what', 'formerli', 'thick', 'again', 'our', 'beforehand', 'besid', 'be', 'under', 'els', 'among', 'through', 'couldnt', 'third', 'onc', 'except', 'u', 'everi', 'alway', 'latterli', 'onli', 'are', 'further', 'six', 'be', 'besid', 'beyond', 'off', 'would', 'her', 'hasnt', 'amongst', 'ever', 'becaus', 'none', 'anoth', 'becam', 'against', 'nobodi', 'somehow', 'alon', 'detail', 'put', 'show', 'co', 'ha', 'ie', 'afterward', 'itself', 'five', 'might', 'anywher', 'someon', 'hundr', 'inde', 'down', 'inc', 'yourself', 'also', 'for', 'whoever', 'thenc', 'wherev', 'due', 'abov', 'with', 'latter', 'per', 'my', 'therefor', 'yourselv', 'it', 'you', 'which', 'each', 'behind', 'some', 'eg', 'four', 'alreadi', 'their', 'should', 'is', 'ourselv', 'too', 'your', 'more', 'henc', 'whither', 'first', 'within', 'anyth', 'i', 'out', 'all', 'eleven', 'even', 'see', 'fifti', 'at', 'so', 'anyhow', 'may', 'by', 'still', 'give', 'her', 'they', 'were', 'will', 'elsewher', 'he', 'thu', 'via', 'seem', 'con', 'interest', 'a', 'have', 'never', 'becom', 'forti', 'herself', 'ten', 'wa', 'eight', 'three', 'name', 'hereaft', 'whenc', 'than', 'after', 'there', 'otherwis', 'but', 'do', 'call', 'herein', 'until', 'whereupon', 'sometim']\n"
     ]
    }
   ],
   "source": [
    "stem_stopwords = [stemmer.stem(word) for word in cvec.get_stop_words()]\n",
    "print(stem_stopwords)"
   ]
  },
  {
   "cell_type": "markdown",
   "metadata": {},
   "source": [
    "- train-test split"
   ]
  },
  {
   "cell_type": "code",
   "execution_count": 117,
   "metadata": {
    "execution": {
     "iopub.execute_input": "2023-01-27T07:22:13.296077Z",
     "iopub.status.busy": "2023-01-27T07:22:13.295729Z",
     "iopub.status.idle": "2023-01-27T07:22:13.329957Z",
     "shell.execute_reply": "2023-01-27T07:22:13.328924Z",
     "shell.execute_reply.started": "2023-01-27T07:22:13.296048Z"
    }
   },
   "outputs": [
    {
     "data": {
      "text/plain": [
       "13477    doe kf actual explain the differ in qualifi da...\n",
       "29195    bkk airport close : sq et al cancel flight 26 ...\n",
       "22061    origin post by sq lppview postthat 's a veri g...\n",
       "6624     origin post by glam82view posti there a better...\n",
       "20643    i would have thought they will use the skl , s...\n",
       "                               ...                        \n",
       "12020    origin post by cgkview post sq prefer i stay i...\n",
       "43382    i thought i 'd get your view on thi , which is...\n",
       "1598     origin post by florianwagnerview postso would ...\n",
       "11541               letter date 19 march receiv 28 march .\n",
       "22264    sorri to report that as i got to sfo airport f...\n",
       "Name: text, Length: 33095, dtype: object"
      ]
     },
     "execution_count": 117,
     "metadata": {},
     "output_type": "execute_result"
    }
   ],
   "source": [
    "X = services_stem_df['text']\n",
    "y = services_stem_df['y_true']\n",
    "\n",
    "X_train, X_test, y_train, y_test = train_test_split(X, y, stratify=y, random_state=42)\n",
    "X_train"
   ]
  },
  {
   "cell_type": "markdown",
   "metadata": {},
   "source": [
    "- tokenise with Count Vectoriser"
   ]
  },
  {
   "cell_type": "code",
   "execution_count": 118,
   "metadata": {
    "execution": {
     "iopub.execute_input": "2023-01-27T07:22:13.332523Z",
     "iopub.status.busy": "2023-01-27T07:22:13.331304Z",
     "iopub.status.idle": "2023-01-27T07:22:15.789868Z",
     "shell.execute_reply": "2023-01-27T07:22:15.788547Z",
     "shell.execute_reply.started": "2023-01-27T07:22:13.332486Z"
    }
   },
   "outputs": [],
   "source": [
    "cvec = CountVectorizer(max_features = 500, stop_words = stem_stopwords)\n",
    "X_train_cvec = cvec.fit_transform(X_train)\n",
    "X_test_cvec = cvec.transform(X_test)"
   ]
  },
  {
   "cell_type": "markdown",
   "metadata": {},
   "source": [
    "- instantiate and fit a Naive Bayes model"
   ]
  },
  {
   "cell_type": "code",
   "execution_count": 119,
   "metadata": {
    "execution": {
     "iopub.execute_input": "2023-01-27T07:22:15.792463Z",
     "iopub.status.busy": "2023-01-27T07:22:15.791398Z",
     "iopub.status.idle": "2023-01-27T07:22:15.838055Z",
     "shell.execute_reply": "2023-01-27T07:22:15.836726Z",
     "shell.execute_reply.started": "2023-01-27T07:22:15.792425Z"
    }
   },
   "outputs": [],
   "source": [
    "nb = MultinomialNB()\n",
    "NB_model = ovr(nb).fit(X_train_cvec, y_train)  # using OneVsRestClassifier"
   ]
  },
  {
   "cell_type": "markdown",
   "metadata": {},
   "source": [
    "- visualise confusion matrix"
   ]
  },
  {
   "cell_type": "code",
   "execution_count": 120,
   "metadata": {
    "execution": {
     "iopub.execute_input": "2023-01-27T07:22:15.840073Z",
     "iopub.status.busy": "2023-01-27T07:22:15.839698Z",
     "iopub.status.idle": "2023-01-27T07:22:16.101038Z",
     "shell.execute_reply": "2023-01-27T07:22:16.099674Z",
     "shell.execute_reply.started": "2023-01-27T07:22:15.840040Z"
    }
   },
   "outputs": [
    {
     "data": {
      "image/png": "[encoded data removed]",
      "text/plain": [
       "<Figure size 432x288 with 2 Axes>"
      ]
     },
     "metadata": {
      "needs_background": "light"
     },
     "output_type": "display_data"
    }
   ],
   "source": [
    "y_pred = NB_model.predict(X_test_cvec)\n",
    "cm = confusion_matrix(y_test, y_pred)\n",
    "disp = ConfusionMatrixDisplay(confusion_matrix=cm, display_labels=['Others', 'KrisFlyer', 'LCA'])\n",
    "disp.plot();"
   ]
  },
  {
   "cell_type": "markdown",
   "metadata": {},
   "source": [
    "- display precision, recall, f1-score of each class"
   ]
  },
  {
   "cell_type": "code",
   "execution_count": 121,
   "metadata": {
    "execution": {
     "iopub.execute_input": "2023-01-27T07:22:16.102577Z",
     "iopub.status.busy": "2023-01-27T07:22:16.102263Z",
     "iopub.status.idle": "2023-01-27T07:22:16.130908Z",
     "shell.execute_reply": "2023-01-27T07:22:16.129815Z",
     "shell.execute_reply.started": "2023-01-27T07:22:16.102549Z"
    }
   },
   "outputs": [
    {
     "name": "stdout",
     "output_type": "stream",
     "text": [
      "              precision    recall  f1-score   support\n",
      "\n",
      "           0       0.68      0.76      0.72      3901\n",
      "           1       0.76      0.79      0.78      4443\n",
      "           2       0.84      0.64      0.73      2688\n",
      "\n",
      "    accuracy                           0.74     11032\n",
      "   macro avg       0.76      0.73      0.74     11032\n",
      "weighted avg       0.75      0.74      0.74     11032\n",
      "\n"
     ]
    }
   ],
   "source": [
    "print(classification_report(y_test, y_pred))\n",
    "# 0: other, 1: kf, 2: lca"
   ]
  },
  {
   "cell_type": "markdown",
   "metadata": {},
   "source": [
    "- display the macro average ROC AUC score"
   ]
  },
  {
   "cell_type": "code",
   "execution_count": 122,
   "metadata": {
    "execution": {
     "iopub.execute_input": "2023-01-27T07:22:16.132905Z",
     "iopub.status.busy": "2023-01-27T07:22:16.132506Z",
     "iopub.status.idle": "2023-01-27T07:22:16.163537Z",
     "shell.execute_reply": "2023-01-27T07:22:16.162392Z",
     "shell.execute_reply.started": "2023-01-27T07:22:16.132873Z"
    }
   },
   "outputs": [
    {
     "data": {
      "text/plain": [
       "0.8870457606060408"
      ]
     },
     "execution_count": 122,
     "metadata": {},
     "output_type": "execute_result"
    }
   ],
   "source": [
    "y_pred_prob = NB_model.predict_proba(X_test_cvec)\n",
    "\n",
    "roc_auc_score(y_test, y_pred_prob, multi_class='ovr', average='macro')"
   ]
  },
  {
   "cell_type": "markdown",
   "metadata": {},
   "source": [
    "- display macro average f1-score"
   ]
  },
  {
   "cell_type": "code",
   "execution_count": 123,
   "metadata": {
    "execution": {
     "iopub.execute_input": "2023-01-27T07:22:16.165579Z",
     "iopub.status.busy": "2023-01-27T07:22:16.165147Z",
     "iopub.status.idle": "2023-01-27T07:22:16.180385Z",
     "shell.execute_reply": "2023-01-27T07:22:16.179502Z",
     "shell.execute_reply.started": "2023-01-27T07:22:16.165537Z"
    }
   },
   "outputs": [
    {
     "data": {
      "text/plain": [
       "0.7518155162591702"
      ]
     },
     "execution_count": 123,
     "metadata": {},
     "output_type": "execute_result"
    }
   ],
   "source": [
    "f1_score(y_test, y_pred, labels=[1,2], average = 'macro')"
   ]
  },
  {
   "cell_type": "markdown",
   "metadata": {
    "tags": []
   },
   "source": [
    "---\n",
    "## 5. Remarks\n",
    "---"
   ]
  },
  {
   "cell_type": "markdown",
   "metadata": {},
   "source": [
    "|                        | Baseline 1              | Baseline 2                 | Baseline 3                 |\n",
    "|------------------------|-------------------------|----------------------------|----------------------------|\n",
    "| Pre-processing         | Basic cleaning          | - basic cleaning<br>- lemm | - basic cleaning<br>- stem |\n",
    "| Vectoriser             | CountVectoriser         | CountVectoriser            | CountVectoriser            |\n",
    "| Model                  | Multinomial Naive Bayes | Multinomial Naive Bayes    | Multinomial Naive Bayes    |\n",
    "| macro-average ROC AUC  | 0.878                   | 0.885                      | 0.887                      |\n",
    "| macro-average f1-score | 0.737                   | 0.747                      | 0.752                      |"
   ]
  },
  {
   "cell_type": "markdown",
   "metadata": {},
   "source": [
    "- Baseline 3 (with stemming) performed the best with the macro-average ROC AUC score of 0.89 and macro-average f1-score of 0.75. This result indicated that our dataset, given the minimal pre-processing and use of a basic vectoriser, is quite clean and that the categories of KrisFlyer, LCA and others are quite distinct from each other.\n",
    "<br>\n",
    "<br>\n",
    "- For this business case, false positive and negative results for predicting both KrisFlyer and LCA-related comments are equally undesirable. Misclassifying these comments (in either direction) is frustrating for customers, and can lead to lower customer satisfaction, higher complaints and may turn the valued customers away towards competitors. \n",
    "<br>\n",
    "<br>\n",
    "- Hence, the 2 key metrics to optimise for are (1) the macro-average ROC AUC score and (2) the macro-average f1-score of KrisFlyer and LCA classes. Macro metrics are used since the classes were imbalanced. [(source)](https://towardsdatascience.com/micro-macro-weighted-averages-of-f1-score-clearly-explained-b603420b292f)"
   ]
  }
 ],
 "metadata": {
  "kernelspec": {
   "display_name": "Python 3 (ipykernel)",
   "language": "python",
   "name": "python3"
  },
  "language_info": {
   "codemirror_mode": {
    "name": "ipython",
    "version": 3
   },
   "file_extension": ".py",
   "mimetype": "text/x-python",
   "name": "python",
   "nbconvert_exporter": "python",
   "pygments_lexer": "ipython3",
   "version": "3.8.13"
  }
 },
 "nbformat": 4,
 "nbformat_minor": 4
}
