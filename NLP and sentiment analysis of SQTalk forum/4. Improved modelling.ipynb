{
 "cells": [
  {
   "cell_type": "markdown",
   "metadata": {},
   "source": [
    "## Contents\n",
    "* [1. Improved Model](#1.-Improved-Model)\n",
    "* [2. Imports](#2.-Imports)\n",
    "* [3. Data Cleaning & Preparation](#3.-Data-Cleaning-&-Preparation)\n",
    "* [4. Model Fit & Predict](#4.-Model-Fit-&-Predict)\n",
    "    * [4.1 Model 2](#4.1-Model-2)\n",
    "    * [4.2 Model 3](#4.2-Model-3)\n",
    "    * [4.3 Model 4](#4.3-Model-4)\n",
    "* [5. Remarks](#5.-Remarks)"
   ]
  },
  {
   "cell_type": "markdown",
   "metadata": {},
   "source": [
    "---\n",
    "## 1. Improved Model\n",
    "---\n",
    "Objective: to compare the weighted-average ROC AUC scores and f1-scores (kf, lca) of the following models:\n",
    "\n",
    "|                                     | Model 1<br>(from notebook 3) | Model 2       | Model 3  | Model 4 |\n",
    "|-------------------------------------|----------------------------|---------------|----------|---------|\n",
    "| Vectoriser                          | TFIDF                      | TFIDF         | TFIDF    | TFIDF   |\n",
    "| Model                               | Multinomial Naive Bayes    | Random Forest | XGBoost | SVM     |\n",
    "\n",
    "Note: the code below was ran on Kaggle, to make use of Kaggle GPUs."
   ]
  },
  {
   "cell_type": "markdown",
   "metadata": {},
   "source": [
    "---\n",
    "## 2. Imports\n",
    "---"
   ]
  },
  {
   "cell_type": "code",
   "execution_count": 1,
   "metadata": {
    "execution": {
     "iopub.execute_input": "2023-01-26T23:56:02.073077Z",
     "iopub.status.busy": "2023-01-26T23:56:02.072598Z",
     "iopub.status.idle": "2023-01-26T23:56:04.213928Z",
     "shell.execute_reply": "2023-01-26T23:56:04.212218Z",
     "shell.execute_reply.started": "2023-01-26T23:56:02.072985Z"
    }
   },
   "outputs": [],
   "source": [
    "import numpy as np\n",
    "import pandas as pd\n",
    "from nltk.corpus import stopwords\n",
    "from nltk.tokenize import sent_tokenize\n",
    "from sklearn.model_selection import train_test_split, GridSearchCV\n",
    "\n",
    "from xgboost import XGBClassifier\n",
    "from sklearn.ensemble import RandomForestClassifier as rfc\n",
    "from sklearn.svm import SVC\n",
    "from sklearn.multiclass import OneVsRestClassifier as ovr\n",
    "\n",
    "from sklearn.pipeline import make_pipeline\n",
    "from sklearn.metrics import confusion_matrix, ConfusionMatrixDisplay,classification_report, roc_auc_score, f1_score\n",
    "from sklearn.feature_extraction.text import CountVectorizer, TfidfVectorizer"
   ]
  },
  {
   "cell_type": "markdown",
   "metadata": {},
   "source": [
    "---\n",
    "## 3. Data Cleaning & Preparation\n",
    "---"
   ]
  },
  {
   "cell_type": "markdown",
   "metadata": {},
   "source": [
    "- read CSV files"
   ]
  },
  {
   "cell_type": "code",
   "execution_count": 2,
   "metadata": {
    "execution": {
     "iopub.execute_input": "2023-01-26T23:56:08.716817Z",
     "iopub.status.busy": "2023-01-26T23:56:08.716396Z",
     "iopub.status.idle": "2023-01-26T23:56:09.247643Z",
     "shell.execute_reply": "2023-01-26T23:56:09.246325Z",
     "shell.execute_reply.started": "2023-01-26T23:56:08.716782Z"
    }
   },
   "outputs": [
    {
     "data": {
      "text/html": [
       "<div>\n",
       "<style scoped>\n",
       "    .dataframe tbody tr th:only-of-type {\n",
       "        vertical-align: middle;\n",
       "    }\n",
       "\n",
       "    .dataframe tbody tr th {\n",
       "        vertical-align: top;\n",
       "    }\n",
       "\n",
       "    .dataframe thead th {\n",
       "        text-align: right;\n",
       "    }\n",
       "</style>\n",
       "<table border=\"1\" class=\"dataframe\">\n",
       "  <thead>\n",
       "    <tr style=\"text-align: right;\">\n",
       "      <th></th>\n",
       "      <th>text</th>\n",
       "      <th>source</th>\n",
       "    </tr>\n",
       "  </thead>\n",
       "  <tbody>\n",
       "    <tr>\n",
       "      <th>0</th>\n",
       "      <td>Qualifying as EG for the first time</td>\n",
       "      <td>kf</td>\n",
       "    </tr>\n",
       "    <tr>\n",
       "      <th>1</th>\n",
       "      <td>Which FFP for me? Master Discussion</td>\n",
       "      <td>kf</td>\n",
       "    </tr>\n",
       "    <tr>\n",
       "      <th>2</th>\n",
       "      <td>#SQMelbourneTram</td>\n",
       "      <td>kf</td>\n",
       "    </tr>\n",
       "    <tr>\n",
       "      <th>3</th>\n",
       "      <td>Advice sought - Changing redemption bookings</td>\n",
       "      <td>kf</td>\n",
       "    </tr>\n",
       "    <tr>\n",
       "      <th>4</th>\n",
       "      <td>First Savers SYD-SIN</td>\n",
       "      <td>kf</td>\n",
       "    </tr>\n",
       "  </tbody>\n",
       "</table>\n",
       "</div>"
      ],
      "text/plain": [
       "                                           text source\n",
       "0           Qualifying as EG for the first time     kf\n",
       "1           Which FFP for me? Master Discussion     kf\n",
       "2                              #SQMelbourneTram     kf\n",
       "3  Advice sought - Changing redemption bookings     kf\n",
       "4                          First Savers SYD-SIN     kf"
      ]
     },
     "execution_count": 2,
     "metadata": {},
     "output_type": "execute_result"
    }
   ],
   "source": [
    "kf_df = pd.read_csv('/kaggle/input/sq-services/kf_clean.csv')\n",
    "lca_df = pd.read_csv('/kaggle/input/sq-services/LCA_clean.csv')\n",
    "other_df = pd.read_csv('/kaggle/input/sq-services/other_clean.csv')\n",
    "kf_df.head()"
   ]
  },
  {
   "cell_type": "markdown",
   "metadata": {},
   "source": [
    "- find and resolve NA values"
   ]
  },
  {
   "cell_type": "code",
   "execution_count": 3,
   "metadata": {
    "execution": {
     "iopub.execute_input": "2023-01-26T23:56:11.969130Z",
     "iopub.status.busy": "2023-01-26T23:56:11.967961Z",
     "iopub.status.idle": "2023-01-26T23:56:12.013659Z",
     "shell.execute_reply": "2023-01-26T23:56:12.012145Z",
     "shell.execute_reply.started": "2023-01-26T23:56:11.969026Z"
    }
   },
   "outputs": [
    {
     "name": "stdout",
     "output_type": "stream",
     "text": [
      "text      3\n",
      "source    0\n",
      "dtype: int64\n",
      "text      0\n",
      "source    0\n",
      "dtype: int64\n"
     ]
    }
   ],
   "source": [
    "services_df = pd.concat([kf_df, lca_df, other_df])\n",
    "\n",
    "print(services_df.isna().sum())\n",
    "\n",
    "# acceptable to drop 3 NA values out of 44k values\n",
    "services_df.dropna(inplace=True)\n",
    "# reset index, and drop old index\n",
    "services_df.reset_index(drop=True, inplace=True)\n",
    "\n",
    "print(services_df.isna().sum())"
   ]
  },
  {
   "cell_type": "markdown",
   "metadata": {},
   "source": [
    "- create a 'kf' column: \n",
    "    - if value = 0, the source is others\n",
    "    - if value = 1, the source is kf\n",
    "    - if value = 2, the source is from LCA"
   ]
  },
  {
   "cell_type": "code",
   "execution_count": 4,
   "metadata": {
    "execution": {
     "iopub.execute_input": "2023-01-26T23:56:15.552847Z",
     "iopub.status.busy": "2023-01-26T23:56:15.552439Z",
     "iopub.status.idle": "2023-01-26T23:56:15.579273Z",
     "shell.execute_reply": "2023-01-26T23:56:15.578074Z",
     "shell.execute_reply.started": "2023-01-26T23:56:15.552814Z"
    }
   },
   "outputs": [
    {
     "data": {
      "text/plain": [
       "1    0.402724\n",
       "0    0.353570\n",
       "2    0.243706\n",
       "Name: y_true, dtype: float64"
      ]
     },
     "execution_count": 4,
     "metadata": {},
     "output_type": "execute_result"
    }
   ],
   "source": [
    "services_df['y_true'] = services_df['source'].map({'other':0, 'kf': 1, 'lca': 2})\n",
    "services_df['y_true'].value_counts(normalize=True)"
   ]
  },
  {
   "cell_type": "markdown",
   "metadata": {},
   "source": [
    "---\n",
    "## 4. Model Fit & Predict\n",
    "---"
   ]
  },
  {
   "cell_type": "markdown",
   "metadata": {},
   "source": [
    "## 4.1 Model 2\n",
    "### - Random Forest"
   ]
  },
  {
   "cell_type": "markdown",
   "metadata": {},
   "source": [
    "- train-test-split our df"
   ]
  },
  {
   "cell_type": "code",
   "execution_count": 5,
   "metadata": {
    "execution": {
     "iopub.execute_input": "2023-01-26T23:56:19.271724Z",
     "iopub.status.busy": "2023-01-26T23:56:19.271315Z",
     "iopub.status.idle": "2023-01-26T23:56:19.304881Z",
     "shell.execute_reply": "2023-01-26T23:56:19.303642Z",
     "shell.execute_reply.started": "2023-01-26T23:56:19.271692Z"
    }
   },
   "outputs": [
    {
     "data": {
      "text/plain": [
       "13477    Does KF actually explain the differences in qu...\n",
       "29195    BKK airport closed: SQ et al Cancel flights 26...\n",
       "22061    Originally posted by SQ LPPView PostThat's a v...\n",
       "6624     Originally posted by GLAM82View PostIs there a...\n",
       "20643    I would have thought they will use the SKL, sa...\n",
       "                               ...                        \n",
       "12020    Originally posted by CGKView Post SQ prefers I...\n",
       "43382    I thought I'd get your views on this, which is...\n",
       "1598     Originally posted by florianwagnerView PostSo ...\n",
       "11541             letter dated 19 March received 28 March.\n",
       "22264    Sorry to report that as I got to SFO airport f...\n",
       "Name: text, Length: 33095, dtype: object"
      ]
     },
     "execution_count": 5,
     "metadata": {},
     "output_type": "execute_result"
    }
   ],
   "source": [
    "X = services_df['text']\n",
    "y = services_df['y_true']\n",
    "\n",
    "X_train, X_test, y_train, y_test = train_test_split(X, y, stratify=y, random_state=42)\n",
    "X_train"
   ]
  },
  {
   "cell_type": "markdown",
   "metadata": {},
   "source": [
    "- create pipeline for GridSearchCV later"
   ]
  },
  {
   "cell_type": "code",
   "execution_count": 31,
   "metadata": {
    "execution": {
     "iopub.execute_input": "2023-01-26T04:48:45.237360Z",
     "iopub.status.busy": "2023-01-26T04:48:45.236950Z",
     "iopub.status.idle": "2023-01-26T04:48:45.247418Z",
     "shell.execute_reply": "2023-01-26T04:48:45.246166Z",
     "shell.execute_reply.started": "2023-01-26T04:48:45.237321Z"
    },
    "scrolled": true
   },
   "outputs": [
    {
     "data": {
      "text/plain": [
       "{'memory': None,\n",
       " 'steps': [('tfidfvectorizer', TfidfVectorizer()),\n",
       "  ('randomforestclassifier', RandomForestClassifier(random_state=42))],\n",
       " 'verbose': False,\n",
       " 'tfidfvectorizer': TfidfVectorizer(),\n",
       " 'randomforestclassifier': RandomForestClassifier(random_state=42),\n",
       " 'tfidfvectorizer__analyzer': 'word',\n",
       " 'tfidfvectorizer__binary': False,\n",
       " 'tfidfvectorizer__decode_error': 'strict',\n",
       " 'tfidfvectorizer__dtype': numpy.float64,\n",
       " 'tfidfvectorizer__encoding': 'utf-8',\n",
       " 'tfidfvectorizer__input': 'content',\n",
       " 'tfidfvectorizer__lowercase': True,\n",
       " 'tfidfvectorizer__max_df': 1.0,\n",
       " 'tfidfvectorizer__max_features': None,\n",
       " 'tfidfvectorizer__min_df': 1,\n",
       " 'tfidfvectorizer__ngram_range': (1, 1),\n",
       " 'tfidfvectorizer__norm': 'l2',\n",
       " 'tfidfvectorizer__preprocessor': None,\n",
       " 'tfidfvectorizer__smooth_idf': True,\n",
       " 'tfidfvectorizer__stop_words': None,\n",
       " 'tfidfvectorizer__strip_accents': None,\n",
       " 'tfidfvectorizer__sublinear_tf': False,\n",
       " 'tfidfvectorizer__token_pattern': '(?u)\\\\b\\\\w\\\\w+\\\\b',\n",
       " 'tfidfvectorizer__tokenizer': None,\n",
       " 'tfidfvectorizer__use_idf': True,\n",
       " 'tfidfvectorizer__vocabulary': None,\n",
       " 'randomforestclassifier__bootstrap': True,\n",
       " 'randomforestclassifier__ccp_alpha': 0.0,\n",
       " 'randomforestclassifier__class_weight': None,\n",
       " 'randomforestclassifier__criterion': 'gini',\n",
       " 'randomforestclassifier__max_depth': None,\n",
       " 'randomforestclassifier__max_features': 'auto',\n",
       " 'randomforestclassifier__max_leaf_nodes': None,\n",
       " 'randomforestclassifier__max_samples': None,\n",
       " 'randomforestclassifier__min_impurity_decrease': 0.0,\n",
       " 'randomforestclassifier__min_samples_leaf': 1,\n",
       " 'randomforestclassifier__min_samples_split': 2,\n",
       " 'randomforestclassifier__min_weight_fraction_leaf': 0.0,\n",
       " 'randomforestclassifier__n_estimators': 100,\n",
       " 'randomforestclassifier__n_jobs': None,\n",
       " 'randomforestclassifier__oob_score': False,\n",
       " 'randomforestclassifier__random_state': 42,\n",
       " 'randomforestclassifier__verbose': 0,\n",
       " 'randomforestclassifier__warm_start': False}"
      ]
     },
     "execution_count": 31,
     "metadata": {},
     "output_type": "execute_result"
    }
   ],
   "source": [
    "pipe_rf = make_pipeline(\n",
    "    TfidfVectorizer(),\n",
    "    rfc(random_state=42)\n",
    ")\n",
    "pipe_rf.get_params()"
   ]
  },
  {
   "cell_type": "code",
   "execution_count": 32,
   "metadata": {
    "execution": {
     "iopub.execute_input": "2023-01-26T04:48:45.250679Z",
     "iopub.status.busy": "2023-01-26T04:48:45.249158Z",
     "iopub.status.idle": "2023-01-26T04:48:45.256976Z",
     "shell.execute_reply": "2023-01-26T04:48:45.255789Z",
     "shell.execute_reply.started": "2023-01-26T04:48:45.250651Z"
    }
   },
   "outputs": [],
   "source": [
    "pipe_rf_params = {'tfidfvectorizer__max_features': [None,300,500],\n",
    "                  'tfidfvectorizer__stop_words': [None,'english'],\n",
    "                  'randomforestclassifier__max_depth': [5,10],\n",
    "                  'randomforestclassifier__min_samples_leaf': [3,5],\n",
    "                  'randomforestclassifier__ccp_alpha': [0,0.5,1]\n",
    "                 }"
   ]
  },
  {
   "cell_type": "markdown",
   "metadata": {},
   "source": [
    "- GridSearchCV"
   ]
  },
  {
   "cell_type": "code",
   "execution_count": 33,
   "metadata": {
    "execution": {
     "iopub.execute_input": "2023-01-26T04:48:45.259187Z",
     "iopub.status.busy": "2023-01-26T04:48:45.258724Z",
     "iopub.status.idle": "2023-01-26T05:12:22.262917Z",
     "shell.execute_reply": "2023-01-26T05:12:22.261598Z",
     "shell.execute_reply.started": "2023-01-26T04:48:45.259078Z"
    }
   },
   "outputs": [
    {
     "name": "stdout",
     "output_type": "stream",
     "text": [
      "Pipeline(steps=[('tfidfvectorizer', TfidfVectorizer(max_features=500)),\n",
      "\n",
      "                ('randomforestclassifier',\n",
      "\n",
      "                 RandomForestClassifier(ccp_alpha=0, max_depth=10,\n",
      "\n",
      "                                        min_samples_leaf=3, random_state=42))])\n"
     ]
    }
   ],
   "source": [
    "pipe_rf_gs = GridSearchCV(pipe_rf, pipe_rf_params)\n",
    "pipe_rf_gs.fit(X_train, y_train)\n",
    "print(pipe_rf_gs.best_estimator_)"
   ]
  },
  {
   "cell_type": "markdown",
   "metadata": {},
   "source": [
    "- visualise confusion matrix"
   ]
  },
  {
   "cell_type": "code",
   "execution_count": 34,
   "metadata": {
    "execution": {
     "iopub.execute_input": "2023-01-26T05:12:22.265732Z",
     "iopub.status.busy": "2023-01-26T05:12:22.264303Z",
     "iopub.status.idle": "2023-01-26T05:12:23.197386Z",
     "shell.execute_reply": "2023-01-26T05:12:23.196390Z",
     "shell.execute_reply.started": "2023-01-26T05:12:22.265692Z"
    }
   },
   "outputs": [
    {
     "data": {
      "image/png": "[encoded data removed]",
      "text/plain": [
       "<Figure size 432x288 with 2 Axes>"
      ]
     },
     "metadata": {
      "needs_background": "light"
     },
     "output_type": "display_data"
    }
   ],
   "source": [
    "y_pred = pipe_rf_gs.predict(X_test)\n",
    "cm = confusion_matrix(y_test, y_pred)\n",
    "disp = ConfusionMatrixDisplay(confusion_matrix=cm, display_labels=['Others', 'KrisFlyer', 'LCA'])\n",
    "disp.plot();"
   ]
  },
  {
   "cell_type": "markdown",
   "metadata": {},
   "source": [
    "- display precision, recall, f1-score of each class"
   ]
  },
  {
   "cell_type": "code",
   "execution_count": 35,
   "metadata": {
    "execution": {
     "iopub.execute_input": "2023-01-26T05:12:23.202896Z",
     "iopub.status.busy": "2023-01-26T05:12:23.201960Z",
     "iopub.status.idle": "2023-01-26T05:12:23.226809Z",
     "shell.execute_reply": "2023-01-26T05:12:23.225734Z",
     "shell.execute_reply.started": "2023-01-26T05:12:23.202854Z"
    }
   },
   "outputs": [
    {
     "name": "stdout",
     "output_type": "stream",
     "text": [
      "              precision    recall  f1-score   support\n",
      "\n",
      "\n",
      "\n",
      "           0       0.62      0.84      0.71      3901\n",
      "\n",
      "           1       0.78      0.73      0.75      4443\n",
      "\n",
      "           2       0.90      0.53      0.67      2688\n",
      "\n",
      "\n",
      "\n",
      "    accuracy                           0.72     11032\n",
      "\n",
      "   macro avg       0.77      0.70      0.71     11032\n",
      "\n",
      "weighted avg       0.75      0.72      0.72     11032\n",
      "\n",
      "\n"
     ]
    }
   ],
   "source": [
    "print(classification_report(y_test, y_pred))\n",
    "# 0: other, 1: kf, 2: lca"
   ]
  },
  {
   "cell_type": "markdown",
   "metadata": {},
   "source": [
    "- display the weighted average ROC AUC score"
   ]
  },
  {
   "cell_type": "code",
   "execution_count": 36,
   "metadata": {
    "execution": {
     "iopub.execute_input": "2023-01-26T05:12:23.228823Z",
     "iopub.status.busy": "2023-01-26T05:12:23.228294Z",
     "iopub.status.idle": "2023-01-26T05:12:23.993492Z",
     "shell.execute_reply": "2023-01-26T05:12:23.992375Z",
     "shell.execute_reply.started": "2023-01-26T05:12:23.228784Z"
    }
   },
   "outputs": [
    {
     "data": {
      "text/plain": [
       "0.8716501105650858"
      ]
     },
     "execution_count": 36,
     "metadata": {},
     "output_type": "execute_result"
    }
   ],
   "source": [
    "y_pred_prob = pipe_rf_gs.predict_proba(X_test)\n",
    "roc_auc_score(y_test, y_pred_prob, multi_class='ovr', average='weighted')"
   ]
  },
  {
   "cell_type": "markdown",
   "metadata": {},
   "source": [
    "- weighted f1-score of KrisFlyer and LCA"
   ]
  },
  {
   "cell_type": "code",
   "execution_count": 37,
   "metadata": {
    "execution": {
     "iopub.execute_input": "2023-01-26T05:12:23.995898Z",
     "iopub.status.busy": "2023-01-26T05:12:23.994845Z",
     "iopub.status.idle": "2023-01-26T05:12:24.010465Z",
     "shell.execute_reply": "2023-01-26T05:12:24.009561Z",
     "shell.execute_reply.started": "2023-01-26T05:12:23.995859Z"
    }
   },
   "outputs": [
    {
     "data": {
      "text/plain": [
       "0.7211229091599115"
      ]
     },
     "execution_count": 37,
     "metadata": {},
     "output_type": "execute_result"
    }
   ],
   "source": [
    "f1_score(y_test, y_pred, labels=[1,2], average = 'weighted')"
   ]
  },
  {
   "cell_type": "markdown",
   "metadata": {},
   "source": [
    "## 4.2 Model 3\n",
    "### - XGBoost"
   ]
  },
  {
   "cell_type": "markdown",
   "metadata": {},
   "source": [
    "- create pipeline for GridSearchCV later"
   ]
  },
  {
   "cell_type": "code",
   "execution_count": 38,
   "metadata": {
    "execution": {
     "iopub.execute_input": "2023-01-26T05:12:24.012753Z",
     "iopub.status.busy": "2023-01-26T05:12:24.011985Z",
     "iopub.status.idle": "2023-01-26T05:12:24.027226Z",
     "shell.execute_reply": "2023-01-26T05:12:24.025978Z",
     "shell.execute_reply.started": "2023-01-26T05:12:24.012709Z"
    },
    "scrolled": true
   },
   "outputs": [
    {
     "data": {
      "text/plain": [
       "{'memory': None,\n",
       " 'steps': [('tfidfvectorizer', TfidfVectorizer()),\n",
       "  ('xgbclassifier',\n",
       "   XGBClassifier(base_score=None, booster=None, callbacks=None,\n",
       "                 colsample_bylevel=None, colsample_bynode=None,\n",
       "                 colsample_bytree=None, early_stopping_rounds=None,\n",
       "                 enable_categorical=False, eval_metric=None, gamma=None,\n",
       "                 gpu_id=None, grow_policy=None, importance_type=None,\n",
       "                 interaction_constraints=None, learning_rate=None, max_bin=None,\n",
       "                 max_cat_to_onehot=None, max_delta_step=None, max_depth=None,\n",
       "                 max_leaves=None, min_child_weight=None, missing=nan,\n",
       "                 monotone_constraints=None, n_estimators=100, n_jobs=None,\n",
       "                 num_parallel_tree=None, predictor=None, random_state=None,\n",
       "                 reg_alpha=None, reg_lambda=None, ...))],\n",
       " 'verbose': False,\n",
       " 'tfidfvectorizer': TfidfVectorizer(),\n",
       " 'xgbclassifier': XGBClassifier(base_score=None, booster=None, callbacks=None,\n",
       "               colsample_bylevel=None, colsample_bynode=None,\n",
       "               colsample_bytree=None, early_stopping_rounds=None,\n",
       "               enable_categorical=False, eval_metric=None, gamma=None,\n",
       "               gpu_id=None, grow_policy=None, importance_type=None,\n",
       "               interaction_constraints=None, learning_rate=None, max_bin=None,\n",
       "               max_cat_to_onehot=None, max_delta_step=None, max_depth=None,\n",
       "               max_leaves=None, min_child_weight=None, missing=nan,\n",
       "               monotone_constraints=None, n_estimators=100, n_jobs=None,\n",
       "               num_parallel_tree=None, predictor=None, random_state=None,\n",
       "               reg_alpha=None, reg_lambda=None, ...),\n",
       " 'tfidfvectorizer__analyzer': 'word',\n",
       " 'tfidfvectorizer__binary': False,\n",
       " 'tfidfvectorizer__decode_error': 'strict',\n",
       " 'tfidfvectorizer__dtype': numpy.float64,\n",
       " 'tfidfvectorizer__encoding': 'utf-8',\n",
       " 'tfidfvectorizer__input': 'content',\n",
       " 'tfidfvectorizer__lowercase': True,\n",
       " 'tfidfvectorizer__max_df': 1.0,\n",
       " 'tfidfvectorizer__max_features': None,\n",
       " 'tfidfvectorizer__min_df': 1,\n",
       " 'tfidfvectorizer__ngram_range': (1, 1),\n",
       " 'tfidfvectorizer__norm': 'l2',\n",
       " 'tfidfvectorizer__preprocessor': None,\n",
       " 'tfidfvectorizer__smooth_idf': True,\n",
       " 'tfidfvectorizer__stop_words': None,\n",
       " 'tfidfvectorizer__strip_accents': None,\n",
       " 'tfidfvectorizer__sublinear_tf': False,\n",
       " 'tfidfvectorizer__token_pattern': '(?u)\\\\b\\\\w\\\\w+\\\\b',\n",
       " 'tfidfvectorizer__tokenizer': None,\n",
       " 'tfidfvectorizer__use_idf': True,\n",
       " 'tfidfvectorizer__vocabulary': None,\n",
       " 'xgbclassifier__objective': 'binary:logistic',\n",
       " 'xgbclassifier__use_label_encoder': False,\n",
       " 'xgbclassifier__base_score': None,\n",
       " 'xgbclassifier__booster': None,\n",
       " 'xgbclassifier__callbacks': None,\n",
       " 'xgbclassifier__colsample_bylevel': None,\n",
       " 'xgbclassifier__colsample_bynode': None,\n",
       " 'xgbclassifier__colsample_bytree': None,\n",
       " 'xgbclassifier__early_stopping_rounds': None,\n",
       " 'xgbclassifier__enable_categorical': False,\n",
       " 'xgbclassifier__eval_metric': None,\n",
       " 'xgbclassifier__gamma': None,\n",
       " 'xgbclassifier__gpu_id': None,\n",
       " 'xgbclassifier__grow_policy': None,\n",
       " 'xgbclassifier__importance_type': None,\n",
       " 'xgbclassifier__interaction_constraints': None,\n",
       " 'xgbclassifier__learning_rate': None,\n",
       " 'xgbclassifier__max_bin': None,\n",
       " 'xgbclassifier__max_cat_to_onehot': None,\n",
       " 'xgbclassifier__max_delta_step': None,\n",
       " 'xgbclassifier__max_depth': None,\n",
       " 'xgbclassifier__max_leaves': None,\n",
       " 'xgbclassifier__min_child_weight': None,\n",
       " 'xgbclassifier__missing': nan,\n",
       " 'xgbclassifier__monotone_constraints': None,\n",
       " 'xgbclassifier__n_estimators': 100,\n",
       " 'xgbclassifier__n_jobs': None,\n",
       " 'xgbclassifier__num_parallel_tree': None,\n",
       " 'xgbclassifier__predictor': None,\n",
       " 'xgbclassifier__random_state': None,\n",
       " 'xgbclassifier__reg_alpha': None,\n",
       " 'xgbclassifier__reg_lambda': None,\n",
       " 'xgbclassifier__sampling_method': None,\n",
       " 'xgbclassifier__scale_pos_weight': None,\n",
       " 'xgbclassifier__subsample': None,\n",
       " 'xgbclassifier__tree_method': None,\n",
       " 'xgbclassifier__validate_parameters': None,\n",
       " 'xgbclassifier__verbosity': None,\n",
       " 'xgbclassifier__seed': 42}"
      ]
     },
     "execution_count": 38,
     "metadata": {},
     "output_type": "execute_result"
    }
   ],
   "source": [
    "pipe_xgb = make_pipeline(\n",
    "    TfidfVectorizer(),\n",
    "    XGBClassifier(seed=42)\n",
    ")\n",
    "pipe_xgb.get_params()"
   ]
  },
  {
   "cell_type": "markdown",
   "metadata": {},
   "source": [
    "- pick xgb params based on [XGBoost fine tuning](https://towardsdatascience.com/xgboost-fine-tune-and-optimize-your-model-23d996fab663), limited by time spent on training"
   ]
  },
  {
   "cell_type": "code",
   "execution_count": 39,
   "metadata": {
    "execution": {
     "iopub.execute_input": "2023-01-26T05:12:24.029612Z",
     "iopub.status.busy": "2023-01-26T05:12:24.029114Z",
     "iopub.status.idle": "2023-01-26T05:12:24.036784Z",
     "shell.execute_reply": "2023-01-26T05:12:24.035443Z",
     "shell.execute_reply.started": "2023-01-26T05:12:24.029574Z"
    }
   },
   "outputs": [],
   "source": [
    "pipe_xgb_params = {'tfidfvectorizer__max_features': [300,500],\n",
    "                   'tfidfvectorizer__stop_words': [None,'english'],\n",
    "                   'xgbclassifier__max_depth': [3,6],\n",
    "                   'xgbclassifier__n_estimators': [100,200]\n",
    "                  }"
   ]
  },
  {
   "cell_type": "markdown",
   "metadata": {},
   "source": [
    "- GridSearchCV"
   ]
  },
  {
   "cell_type": "code",
   "execution_count": 40,
   "metadata": {
    "execution": {
     "iopub.execute_input": "2023-01-26T05:12:24.038873Z",
     "iopub.status.busy": "2023-01-26T05:12:24.038029Z",
     "iopub.status.idle": "2023-01-26T06:29:55.839599Z",
     "shell.execute_reply": "2023-01-26T06:29:55.838595Z",
     "shell.execute_reply.started": "2023-01-26T05:12:24.038834Z"
    }
   },
   "outputs": [
    {
     "name": "stdout",
     "output_type": "stream",
     "text": [
      "Pipeline(steps=[('tfidfvectorizer',\n",
      "\n",
      "                 TfidfVectorizer(max_features=500, stop_words='english')),\n",
      "\n",
      "                ('xgbclassifier',\n",
      "\n",
      "                 XGBClassifier(base_score=0.5, booster='gbtree', callbacks=None,\n",
      "\n",
      "                               colsample_bylevel=1, colsample_bynode=1,\n",
      "\n",
      "                               colsample_bytree=1, early_stopping_rounds=None,\n",
      "\n",
      "                               enable_categorical=False, eval_metric=None,\n",
      "\n",
      "                               gamma=0, gpu_id=-1, grow_policy='depthwise',\n",
      "\n",
      "                               importance_type=None, interaction_constraints='',\n",
      "\n",
      "                               learning_rate=0.300000012, max_bin=256,\n",
      "\n",
      "                               max_cat_to_onehot=4, max_delta_step=0,\n",
      "\n",
      "                               max_depth=6, max_leaves=0, min_child_weight=1,\n",
      "\n",
      "                               missing=nan, monotone_constraints='()',\n",
      "\n",
      "                               n_estimators=200, n_jobs=0, num_parallel_tree=1,\n",
      "\n",
      "                               objective='multi:softprob', predictor='auto',\n",
      "\n",
      "                               random_state=42, reg_alpha=0, ...))])\n"
     ]
    }
   ],
   "source": [
    "pipe_xgb_gs = GridSearchCV(pipe_xgb, pipe_xgb_params)\n",
    "pipe_xgb_gs.fit(X_train, y_train)\n",
    "print(pipe_xgb_gs.best_estimator_)"
   ]
  },
  {
   "cell_type": "markdown",
   "metadata": {},
   "source": [
    "- visualise confusion matrix"
   ]
  },
  {
   "cell_type": "code",
   "execution_count": 41,
   "metadata": {
    "execution": {
     "iopub.execute_input": "2023-01-26T06:29:55.844115Z",
     "iopub.status.busy": "2023-01-26T06:29:55.843522Z",
     "iopub.status.idle": "2023-01-26T06:29:56.773254Z",
     "shell.execute_reply": "2023-01-26T06:29:56.772301Z",
     "shell.execute_reply.started": "2023-01-26T06:29:55.844078Z"
    }
   },
   "outputs": [
    {
     "data": {
      "image/png": "[encoded data removed]",
      "text/plain": [
       "<Figure size 432x288 with 2 Axes>"
      ]
     },
     "metadata": {
      "needs_background": "light"
     },
     "output_type": "display_data"
    }
   ],
   "source": [
    "y_pred = pipe_xgb_gs.predict(X_test)\n",
    "cm = confusion_matrix(y_test, y_pred)\n",
    "disp = ConfusionMatrixDisplay(confusion_matrix=cm, display_labels=['Others', 'KrisFlyer', 'LCA'])\n",
    "disp.plot();"
   ]
  },
  {
   "cell_type": "markdown",
   "metadata": {},
   "source": [
    "- display precision, recall, f1-score of each class"
   ]
  },
  {
   "cell_type": "code",
   "execution_count": 42,
   "metadata": {
    "execution": {
     "iopub.execute_input": "2023-01-26T06:29:56.775173Z",
     "iopub.status.busy": "2023-01-26T06:29:56.774789Z",
     "iopub.status.idle": "2023-01-26T06:29:56.801383Z",
     "shell.execute_reply": "2023-01-26T06:29:56.800493Z",
     "shell.execute_reply.started": "2023-01-26T06:29:56.775136Z"
    }
   },
   "outputs": [
    {
     "name": "stdout",
     "output_type": "stream",
     "text": [
      "              precision    recall  f1-score   support\n",
      "\n",
      "\n",
      "\n",
      "           0       0.70      0.85      0.77      3901\n",
      "\n",
      "           1       0.84      0.77      0.81      4443\n",
      "\n",
      "           2       0.85      0.70      0.76      2688\n",
      "\n",
      "\n",
      "\n",
      "    accuracy                           0.78     11032\n",
      "\n",
      "   macro avg       0.80      0.77      0.78     11032\n",
      "\n",
      "weighted avg       0.79      0.78      0.78     11032\n",
      "\n",
      "\n"
     ]
    }
   ],
   "source": [
    "print(classification_report(y_test, y_pred))\n",
    "# 0: other, 1: kf, 2: lca"
   ]
  },
  {
   "cell_type": "markdown",
   "metadata": {},
   "source": [
    "- display the weighted average ROC AUC score"
   ]
  },
  {
   "cell_type": "code",
   "execution_count": 43,
   "metadata": {
    "execution": {
     "iopub.execute_input": "2023-01-26T06:29:56.803160Z",
     "iopub.status.busy": "2023-01-26T06:29:56.802693Z",
     "iopub.status.idle": "2023-01-26T06:29:57.464420Z",
     "shell.execute_reply": "2023-01-26T06:29:57.463503Z",
     "shell.execute_reply.started": "2023-01-26T06:29:56.803120Z"
    }
   },
   "outputs": [
    {
     "data": {
      "text/plain": [
       "0.9133715161339281"
      ]
     },
     "execution_count": 43,
     "metadata": {},
     "output_type": "execute_result"
    }
   ],
   "source": [
    "y_pred_prob = pipe_xgb_gs.predict_proba(X_test)\n",
    "roc_auc_score(y_test, y_pred_prob, multi_class='ovr', average='weighted')"
   ]
  },
  {
   "cell_type": "markdown",
   "metadata": {},
   "source": [
    "- weighted f1-score of KrisFlyer and LCA"
   ]
  },
  {
   "cell_type": "code",
   "execution_count": 44,
   "metadata": {
    "execution": {
     "iopub.execute_input": "2023-01-26T06:29:57.466301Z",
     "iopub.status.busy": "2023-01-26T06:29:57.465936Z",
     "iopub.status.idle": "2023-01-26T06:29:57.479714Z",
     "shell.execute_reply": "2023-01-26T06:29:57.478531Z",
     "shell.execute_reply.started": "2023-01-26T06:29:57.466266Z"
    }
   },
   "outputs": [
    {
     "data": {
      "text/plain": [
       "0.7902962806318224"
      ]
     },
     "execution_count": 44,
     "metadata": {},
     "output_type": "execute_result"
    }
   ],
   "source": [
    "f1_score(y_test, y_pred, labels=[1,2], average = 'weighted')"
   ]
  },
  {
   "cell_type": "markdown",
   "metadata": {},
   "source": [
    "## 4.3 Model 4\n",
    "### - SVM"
   ]
  },
  {
   "cell_type": "markdown",
   "metadata": {},
   "source": [
    "- create pipeline for GridSearchCV later"
   ]
  },
  {
   "cell_type": "code",
   "execution_count": 45,
   "metadata": {
    "execution": {
     "iopub.execute_input": "2023-01-26T06:29:57.481728Z",
     "iopub.status.busy": "2023-01-26T06:29:57.481217Z",
     "iopub.status.idle": "2023-01-26T06:29:57.491624Z",
     "shell.execute_reply": "2023-01-26T06:29:57.490584Z",
     "shell.execute_reply.started": "2023-01-26T06:29:57.481686Z"
    },
    "scrolled": true
   },
   "outputs": [
    {
     "data": {
      "text/plain": [
       "{'memory': None,\n",
       " 'steps': [('tfidfvectorizer', TfidfVectorizer()),\n",
       "  ('svc', SVC(random_state=42))],\n",
       " 'verbose': False,\n",
       " 'tfidfvectorizer': TfidfVectorizer(),\n",
       " 'svc': SVC(random_state=42),\n",
       " 'tfidfvectorizer__analyzer': 'word',\n",
       " 'tfidfvectorizer__binary': False,\n",
       " 'tfidfvectorizer__decode_error': 'strict',\n",
       " 'tfidfvectorizer__dtype': numpy.float64,\n",
       " 'tfidfvectorizer__encoding': 'utf-8',\n",
       " 'tfidfvectorizer__input': 'content',\n",
       " 'tfidfvectorizer__lowercase': True,\n",
       " 'tfidfvectorizer__max_df': 1.0,\n",
       " 'tfidfvectorizer__max_features': None,\n",
       " 'tfidfvectorizer__min_df': 1,\n",
       " 'tfidfvectorizer__ngram_range': (1, 1),\n",
       " 'tfidfvectorizer__norm': 'l2',\n",
       " 'tfidfvectorizer__preprocessor': None,\n",
       " 'tfidfvectorizer__smooth_idf': True,\n",
       " 'tfidfvectorizer__stop_words': None,\n",
       " 'tfidfvectorizer__strip_accents': None,\n",
       " 'tfidfvectorizer__sublinear_tf': False,\n",
       " 'tfidfvectorizer__token_pattern': '(?u)\\\\b\\\\w\\\\w+\\\\b',\n",
       " 'tfidfvectorizer__tokenizer': None,\n",
       " 'tfidfvectorizer__use_idf': True,\n",
       " 'tfidfvectorizer__vocabulary': None,\n",
       " 'svc__C': 1.0,\n",
       " 'svc__break_ties': False,\n",
       " 'svc__cache_size': 200,\n",
       " 'svc__class_weight': None,\n",
       " 'svc__coef0': 0.0,\n",
       " 'svc__decision_function_shape': 'ovr',\n",
       " 'svc__degree': 3,\n",
       " 'svc__gamma': 'scale',\n",
       " 'svc__kernel': 'rbf',\n",
       " 'svc__max_iter': -1,\n",
       " 'svc__probability': False,\n",
       " 'svc__random_state': 42,\n",
       " 'svc__shrinking': True,\n",
       " 'svc__tol': 0.001,\n",
       " 'svc__verbose': False}"
      ]
     },
     "execution_count": 45,
     "metadata": {},
     "output_type": "execute_result"
    }
   ],
   "source": [
    "pipe_svm = make_pipeline(\n",
    "    TfidfVectorizer(),\n",
    "    SVC(random_state=42)\n",
    ")\n",
    "pipe_svm.get_params()"
   ]
  },
  {
   "cell_type": "code",
   "execution_count": 57,
   "metadata": {
    "execution": {
     "iopub.execute_input": "2023-01-26T10:53:55.984681Z",
     "iopub.status.busy": "2023-01-26T10:53:55.984284Z",
     "iopub.status.idle": "2023-01-26T10:53:55.990964Z",
     "shell.execute_reply": "2023-01-26T10:53:55.989888Z",
     "shell.execute_reply.started": "2023-01-26T10:53:55.984646Z"
    }
   },
   "outputs": [],
   "source": [
    "pipe_svm_params = {'tfidfvectorizer__max_features': [300,500],\n",
    "                   'tfidfvectorizer__stop_words': [None,'english'],\n",
    "                   'svc__C': [0.1,1],\n",
    "                   'svc__gamma': [1,0.1]\n",
    "                  }"
   ]
  },
  {
   "cell_type": "markdown",
   "metadata": {},
   "source": [
    "- GridSearchCV"
   ]
  },
  {
   "cell_type": "code",
   "execution_count": 51,
   "metadata": {
    "execution": {
     "iopub.execute_input": "2023-01-26T07:52:12.200423Z",
     "iopub.status.busy": "2023-01-26T07:52:12.200017Z",
     "iopub.status.idle": "2023-01-26T10:46:49.983654Z",
     "shell.execute_reply": "2023-01-26T10:46:49.982471Z",
     "shell.execute_reply.started": "2023-01-26T07:52:12.200388Z"
    }
   },
   "outputs": [
    {
     "name": "stdout",
     "output_type": "stream",
     "text": [
      "Pipeline(steps=[('tfidfvectorizer',\n",
      "\n",
      "                 TfidfVectorizer(max_features=500, stop_words='english')),\n",
      "\n",
      "                ('svc', SVC(C=1, gamma=1, random_state=42))])\n"
     ]
    }
   ],
   "source": [
    "pipe_svm_gs = GridSearchCV(pipe_svm, pipe_svm_params)\n",
    "pipe_svm_gs.fit(X_train, y_train)\n",
    "print(pipe_svm_gs.best_estimator_)"
   ]
  },
  {
   "cell_type": "markdown",
   "metadata": {},
   "source": [
    "- train the best SVM estimator, with 'probability' parameter as True\n",
    "- this is done separately from GridSearchCV above, as the SVM algo will conduct a 5-fold cross-validation and slow down significantly\n",
    "- with 'probability' parameter = True, I can use predict_proba later to derive the ROC AUC score"
   ]
  },
  {
   "cell_type": "code",
   "execution_count": 10,
   "metadata": {
    "execution": {
     "iopub.execute_input": "2023-01-26T23:57:37.565415Z",
     "iopub.status.busy": "2023-01-26T23:57:37.564979Z",
     "iopub.status.idle": "2023-01-26T23:57:37.571603Z",
     "shell.execute_reply": "2023-01-26T23:57:37.569891Z",
     "shell.execute_reply.started": "2023-01-26T23:57:37.565379Z"
    }
   },
   "outputs": [],
   "source": [
    "# create another SVM pipe with the best params\n",
    "pipe_svm_best = make_pipeline(\n",
    "    TfidfVectorizer(max_features=500, stop_words='english'),\n",
    "    SVC(C=1, gamma=1,probability=True, random_state=42)\n",
    ")"
   ]
  },
  {
   "cell_type": "code",
   "execution_count": 11,
   "metadata": {
    "execution": {
     "iopub.execute_input": "2023-01-26T23:57:39.664180Z",
     "iopub.status.busy": "2023-01-26T23:57:39.663386Z",
     "iopub.status.idle": "2023-01-27T00:14:38.647961Z",
     "shell.execute_reply": "2023-01-27T00:14:38.647037Z",
     "shell.execute_reply.started": "2023-01-26T23:57:39.664123Z"
    }
   },
   "outputs": [
    {
     "data": {
      "text/plain": [
       "Pipeline(steps=[('tfidfvectorizer',\n",
       "                 TfidfVectorizer(max_features=500, stop_words='english')),\n",
       "                ('svc', SVC(C=1, gamma=1, probability=True, random_state=42))])"
      ]
     },
     "execution_count": 11,
     "metadata": {},
     "output_type": "execute_result"
    }
   ],
   "source": [
    "pipe_svm_best.fit(X_train, y_train)"
   ]
  },
  {
   "cell_type": "markdown",
   "metadata": {},
   "source": [
    "- visualise confusion matrix"
   ]
  },
  {
   "cell_type": "code",
   "execution_count": 14,
   "metadata": {
    "execution": {
     "iopub.execute_input": "2023-01-27T00:24:18.813382Z",
     "iopub.status.busy": "2023-01-27T00:24:18.812931Z",
     "iopub.status.idle": "2023-01-27T00:24:45.850589Z",
     "shell.execute_reply": "2023-01-27T00:24:45.849427Z",
     "shell.execute_reply.started": "2023-01-27T00:24:18.813343Z"
    }
   },
   "outputs": [
    {
     "data": {
      "image/png": "[encoded data removed]",
      "text/plain": [
       "<Figure size 432x288 with 2 Axes>"
      ]
     },
     "metadata": {
      "needs_background": "light"
     },
     "output_type": "display_data"
    }
   ],
   "source": [
    "y_pred = pipe_svm_best.predict(X_test)\n",
    "cm = confusion_matrix(y_test, y_pred)\n",
    "disp = ConfusionMatrixDisplay(confusion_matrix=cm, display_labels=['Others', 'KrisFlyer', 'LCA'])\n",
    "disp.plot();"
   ]
  },
  {
   "cell_type": "markdown",
   "metadata": {},
   "source": [
    "- display precision, recall, f1-score of each class"
   ]
  },
  {
   "cell_type": "code",
   "execution_count": 15,
   "metadata": {
    "execution": {
     "iopub.execute_input": "2023-01-27T00:24:49.692398Z",
     "iopub.status.busy": "2023-01-27T00:24:49.691869Z",
     "iopub.status.idle": "2023-01-27T00:24:49.723974Z",
     "shell.execute_reply": "2023-01-27T00:24:49.722513Z",
     "shell.execute_reply.started": "2023-01-27T00:24:49.692356Z"
    }
   },
   "outputs": [
    {
     "name": "stdout",
     "output_type": "stream",
     "text": [
      "              precision    recall  f1-score   support\n",
      "\n",
      "           0       0.70      0.88      0.78      3901\n",
      "           1       0.86      0.78      0.82      4443\n",
      "           2       0.87      0.70      0.78      2688\n",
      "\n",
      "    accuracy                           0.79     11032\n",
      "   macro avg       0.81      0.78      0.79     11032\n",
      "weighted avg       0.81      0.79      0.79     11032\n",
      "\n"
     ]
    }
   ],
   "source": [
    "print(classification_report(y_test, y_pred))\n",
    "# 0: other, 1: kf, 2: lca"
   ]
  },
  {
   "cell_type": "markdown",
   "metadata": {},
   "source": [
    "- display the weighted average ROC AUC score"
   ]
  },
  {
   "cell_type": "code",
   "execution_count": 12,
   "metadata": {
    "execution": {
     "iopub.execute_input": "2023-01-27T00:23:02.253944Z",
     "iopub.status.busy": "2023-01-27T00:23:02.253493Z",
     "iopub.status.idle": "2023-01-27T00:23:28.921009Z",
     "shell.execute_reply": "2023-01-27T00:23:28.919548Z",
     "shell.execute_reply.started": "2023-01-27T00:23:02.253903Z"
    }
   },
   "outputs": [
    {
     "data": {
      "text/plain": [
       "0.9134609880735225"
      ]
     },
     "execution_count": 12,
     "metadata": {},
     "output_type": "execute_result"
    }
   ],
   "source": [
    "y_pred_prob = pipe_svm_best.predict_proba(X_test)\n",
    "roc_auc_score(y_test, y_pred_prob, multi_class='ovr', average='weighted')"
   ]
  },
  {
   "cell_type": "markdown",
   "metadata": {},
   "source": [
    "- weighted f1-score of KrisFlyer and LCA"
   ]
  },
  {
   "cell_type": "code",
   "execution_count": 16,
   "metadata": {
    "execution": {
     "iopub.execute_input": "2023-01-27T00:24:52.584480Z",
     "iopub.status.busy": "2023-01-27T00:24:52.583969Z",
     "iopub.status.idle": "2023-01-27T00:24:52.600650Z",
     "shell.execute_reply": "2023-01-27T00:24:52.599019Z",
     "shell.execute_reply.started": "2023-01-27T00:24:52.584441Z"
    }
   },
   "outputs": [
    {
     "data": {
      "text/plain": [
       "0.8023115332819044"
      ]
     },
     "execution_count": 16,
     "metadata": {},
     "output_type": "execute_result"
    }
   ],
   "source": [
    "f1_score(y_test, y_pred, labels=[1,2], average = 'weighted')"
   ]
  },
  {
   "cell_type": "markdown",
   "metadata": {},
   "source": [
    "---\n",
    "## 5. Remarks\n",
    "---"
   ]
  },
  {
   "cell_type": "markdown",
   "metadata": {},
   "source": [
    "|                                     | Model 1<br>(from notebook 3) | Model 2       | Model 3  | Model 4<br>\\*Best performance\\* |\n",
    "|-------------------------------------|----------------------------|---------------|----------|---------|\n",
    "| Vectoriser                          | TFIDF                      | TFIDF         | TFIDF    | TFIDF   |\n",
    "| Model                               | Multinomial Naive Bayes    | Random Forest | XGBoost | SVM     |\n",
    "| Weighted-average ROC AUC            | 0.889                      | 0.872         | 0.913    | 0.913   |\n",
    "| Weighted-average f1-score (kf, lca) | 0.748                      | 0.721         | 0.790    | 0.802    |"
   ]
  },
  {
   "cell_type": "markdown",
   "metadata": {},
   "source": [
    "- Model 3 performed the best with the following params:\n",
    "    - TfidfVectorizer(max_features=500, stop_words='english')\n",
    "    - SVC(C=1, gamma=1, probability=True, random_state=42)\n",
    "<br>\n",
    "<br>\n",
    "- although model 3 and model 4 have the similar weighted-average ROC AUC score, model 3 edged out in its weighted-average f1-score. This meant that model 3 has the least false-positive and false-negative prediction for KF and LCA, which is important to the business"
   ]
  }
 ],
 "metadata": {
  "kernelspec": {
   "display_name": "Python 3 (ipykernel)",
   "language": "python",
   "name": "python3"
  },
  "language_info": {
   "codemirror_mode": {
    "name": "ipython",
    "version": 3
   },
   "file_extension": ".py",
   "mimetype": "text/x-python",
   "name": "python",
   "nbconvert_exporter": "python",
   "pygments_lexer": "ipython3",
   "version": "3.8.13"
  }
 },
 "nbformat": 4,
 "nbformat_minor": 4
}
