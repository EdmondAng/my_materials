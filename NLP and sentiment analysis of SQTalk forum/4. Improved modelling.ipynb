{
 "cells": [
  {
   "cell_type": "markdown",
   "metadata": {},
   "source": [
    "## Contents\n",
    "* [1. Improved Model](#1.-Improved-Model)\n",
    "* [2. Imports](#2.-Imports)\n",
    "* [3. Data Cleaning & Preparation](#3.-Data-Cleaning-&-Preparation)\n",
    "* [4. Model Fit & Predict](#4.-Model-Fit-&-Predict)\n",
    "    * [4.1 Model 2](#4.1-Model-2)\n",
    "    * [4.2 Model 3](#4.2-Model-3)\n",
    "    * [4.3 Model 4](#4.3-Model-4)\n",
    "* [5. Remarks](#5.-Remarks)"
   ]
  },
  {
   "cell_type": "markdown",
   "metadata": {},
   "source": [
    "---\n",
    "## 1. Improved Model\n",
    "---\n",
    "Objective: to compare the weighted-average ROC AUC scores and f1-scores (kf, lca) of the following models:\n",
    "\n",
    "|                                     | Model 1<br>(from notebook 3) | Model 2       | Model 3  | Model 4 |\n",
    "|-------------------------------------|----------------------------|---------------|----------|---------|\n",
    "| Vectoriser                          | TFIDF                      | TFIDF         | TFIDF    | TFIDF   |\n",
    "| Model                               | Multinomial Naive Bayes    | Random Forest | XGBoost | SVM     |\n",
    "\n",
    "Note: the code below was ran on Kaggle, to make use of Kaggle GPUs."
   ]
  },
  {
   "cell_type": "markdown",
   "metadata": {},
   "source": [
    "---\n",
    "## 2. Imports\n",
    "---"
   ]
  },
  {
   "cell_type": "code",
   "execution_count": 2,
   "metadata": {
    "execution": {
     "iopub.execute_input": "2023-01-28T06:48:57.630455Z",
     "iopub.status.busy": "2023-01-28T06:48:57.630075Z",
     "iopub.status.idle": "2023-01-28T06:48:57.637077Z",
     "shell.execute_reply": "2023-01-28T06:48:57.636042Z",
     "shell.execute_reply.started": "2023-01-28T06:48:57.630421Z"
    }
   },
   "outputs": [],
   "source": [
    "import numpy as np\n",
    "import pandas as pd\n",
    "from nltk.stem.porter import PorterStemmer\n",
    "from nltk.corpus import stopwords\n",
    "from nltk.tokenize import word_tokenize\n",
    "from sklearn.model_selection import train_test_split, GridSearchCV\n",
    "\n",
    "from xgboost import XGBClassifier\n",
    "from sklearn.ensemble import RandomForestClassifier as rfc\n",
    "from sklearn.svm import SVC\n",
    "from sklearn.multiclass import OneVsRestClassifier as ovr\n",
    "\n",
    "from sklearn.pipeline import make_pipeline\n",
    "from sklearn.metrics import confusion_matrix, ConfusionMatrixDisplay,classification_report, roc_auc_score, f1_score\n",
    "from sklearn.feature_extraction.text import CountVectorizer, TfidfVectorizer"
   ]
  },
  {
   "cell_type": "markdown",
   "metadata": {},
   "source": [
    "---\n",
    "## 3. Data Cleaning & Preparation\n",
    "---"
   ]
  },
  {
   "cell_type": "markdown",
   "metadata": {},
   "source": [
    "- read CSV files"
   ]
  },
  {
   "cell_type": "code",
   "execution_count": 3,
   "metadata": {
    "execution": {
     "iopub.execute_input": "2023-01-28T06:49:01.275579Z",
     "iopub.status.busy": "2023-01-28T06:49:01.275213Z",
     "iopub.status.idle": "2023-01-28T06:49:01.770918Z",
     "shell.execute_reply": "2023-01-28T06:49:01.769958Z",
     "shell.execute_reply.started": "2023-01-28T06:49:01.275548Z"
    }
   },
   "outputs": [
    {
     "data": {
      "text/html": [
       "<div>\n",
       "<style scoped>\n",
       "    .dataframe tbody tr th:only-of-type {\n",
       "        vertical-align: middle;\n",
       "    }\n",
       "\n",
       "    .dataframe tbody tr th {\n",
       "        vertical-align: top;\n",
       "    }\n",
       "\n",
       "    .dataframe thead th {\n",
       "        text-align: right;\n",
       "    }\n",
       "</style>\n",
       "<table border=\"1\" class=\"dataframe\">\n",
       "  <thead>\n",
       "    <tr style=\"text-align: right;\">\n",
       "      <th></th>\n",
       "      <th>text</th>\n",
       "      <th>source</th>\n",
       "    </tr>\n",
       "  </thead>\n",
       "  <tbody>\n",
       "    <tr>\n",
       "      <th>0</th>\n",
       "      <td>Qualifying as EG for the first time</td>\n",
       "      <td>kf</td>\n",
       "    </tr>\n",
       "    <tr>\n",
       "      <th>1</th>\n",
       "      <td>Which FFP for me? Master Discussion</td>\n",
       "      <td>kf</td>\n",
       "    </tr>\n",
       "    <tr>\n",
       "      <th>2</th>\n",
       "      <td>#SQMelbourneTram</td>\n",
       "      <td>kf</td>\n",
       "    </tr>\n",
       "    <tr>\n",
       "      <th>3</th>\n",
       "      <td>Advice sought - Changing redemption bookings</td>\n",
       "      <td>kf</td>\n",
       "    </tr>\n",
       "    <tr>\n",
       "      <th>4</th>\n",
       "      <td>First Savers SYD-SIN</td>\n",
       "      <td>kf</td>\n",
       "    </tr>\n",
       "  </tbody>\n",
       "</table>\n",
       "</div>"
      ],
      "text/plain": [
       "                                           text source\n",
       "0           Qualifying as EG for the first time     kf\n",
       "1           Which FFP for me? Master Discussion     kf\n",
       "2                              #SQMelbourneTram     kf\n",
       "3  Advice sought - Changing redemption bookings     kf\n",
       "4                          First Savers SYD-SIN     kf"
      ]
     },
     "execution_count": 3,
     "metadata": {},
     "output_type": "execute_result"
    }
   ],
   "source": [
    "kf_df = pd.read_csv('/kaggle/input/sq-services/kf_clean.csv')\n",
    "lca_df = pd.read_csv('/kaggle/input/sq-services/LCA_clean.csv')\n",
    "other_df = pd.read_csv('/kaggle/input/sq-services/other_clean.csv')\n",
    "kf_df.head()"
   ]
  },
  {
   "cell_type": "markdown",
   "metadata": {},
   "source": [
    "- find and resolve NA values"
   ]
  },
  {
   "cell_type": "code",
   "execution_count": 4,
   "metadata": {
    "execution": {
     "iopub.execute_input": "2023-01-28T06:49:03.777815Z",
     "iopub.status.busy": "2023-01-28T06:49:03.777449Z",
     "iopub.status.idle": "2023-01-28T06:49:03.811517Z",
     "shell.execute_reply": "2023-01-28T06:49:03.810537Z",
     "shell.execute_reply.started": "2023-01-28T06:49:03.777785Z"
    }
   },
   "outputs": [
    {
     "name": "stdout",
     "output_type": "stream",
     "text": [
      "text      3\n",
      "source    0\n",
      "dtype: int64\n",
      "text      0\n",
      "source    0\n",
      "dtype: int64\n"
     ]
    }
   ],
   "source": [
    "services_df = pd.concat([kf_df, lca_df, other_df])\n",
    "\n",
    "print(services_df.isna().sum())\n",
    "\n",
    "# acceptable to drop 3 NA values out of 44k values\n",
    "services_df.dropna(inplace=True)\n",
    "# reset index, and drop old index\n",
    "services_df.reset_index(drop=True, inplace=True)\n",
    "\n",
    "print(services_df.isna().sum())"
   ]
  },
  {
   "cell_type": "markdown",
   "metadata": {},
   "source": [
    "- create a 'kf' column: \n",
    "    - if value = 0, the source is others\n",
    "    - if value = 1, the source is kf\n",
    "    - if value = 2, the source is from LCA"
   ]
  },
  {
   "cell_type": "code",
   "execution_count": 5,
   "metadata": {
    "execution": {
     "iopub.execute_input": "2023-01-28T06:49:05.687388Z",
     "iopub.status.busy": "2023-01-28T06:49:05.686948Z",
     "iopub.status.idle": "2023-01-28T06:49:05.716020Z",
     "shell.execute_reply": "2023-01-28T06:49:05.715136Z",
     "shell.execute_reply.started": "2023-01-28T06:49:05.687349Z"
    }
   },
   "outputs": [
    {
     "data": {
      "text/plain": [
       "1    0.402724\n",
       "0    0.353570\n",
       "2    0.243706\n",
       "Name: y_true, dtype: float64"
      ]
     },
     "execution_count": 5,
     "metadata": {},
     "output_type": "execute_result"
    }
   ],
   "source": [
    "services_df['y_true'] = services_df['source'].map({'other':0, 'kf': 1, 'lca': 2})\n",
    "services_df['y_true'].value_counts(normalize=True)"
   ]
  },
  {
   "cell_type": "markdown",
   "metadata": {},
   "source": [
    "- stem text and stopwords"
   ]
  },
  {
   "cell_type": "code",
   "execution_count": 6,
   "metadata": {
    "execution": {
     "iopub.execute_input": "2023-01-28T06:49:07.616027Z",
     "iopub.status.busy": "2023-01-28T06:49:07.615555Z",
     "iopub.status.idle": "2023-01-28T06:49:07.622524Z",
     "shell.execute_reply": "2023-01-28T06:49:07.621481Z",
     "shell.execute_reply.started": "2023-01-28T06:49:07.615985Z"
    }
   },
   "outputs": [],
   "source": [
    "stemmer = PorterStemmer()"
   ]
  },
  {
   "cell_type": "code",
   "execution_count": 7,
   "metadata": {
    "execution": {
     "iopub.execute_input": "2023-01-28T06:49:10.065351Z",
     "iopub.status.busy": "2023-01-28T06:49:10.064859Z",
     "iopub.status.idle": "2023-01-28T06:49:10.072061Z",
     "shell.execute_reply": "2023-01-28T06:49:10.071026Z",
     "shell.execute_reply.started": "2023-01-28T06:49:10.065275Z"
    }
   },
   "outputs": [],
   "source": [
    "def token_stem(sent):\n",
    "    result = []\n",
    "    list = word_tokenize(sent)\n",
    "    for word in list:\n",
    "        result.append(stemmer.stem(word))\n",
    "    return ' '.join(result)"
   ]
  },
  {
   "cell_type": "code",
   "execution_count": 8,
   "metadata": {
    "execution": {
     "iopub.execute_input": "2023-01-28T06:49:12.773830Z",
     "iopub.status.busy": "2023-01-28T06:49:12.773428Z",
     "iopub.status.idle": "2023-01-28T06:50:32.237130Z",
     "shell.execute_reply": "2023-01-28T06:50:32.236085Z",
     "shell.execute_reply.started": "2023-01-28T06:49:12.773799Z"
    }
   },
   "outputs": [
    {
     "data": {
      "text/html": [
       "<div>\n",
       "<style scoped>\n",
       "    .dataframe tbody tr th:only-of-type {\n",
       "        vertical-align: middle;\n",
       "    }\n",
       "\n",
       "    .dataframe tbody tr th {\n",
       "        vertical-align: top;\n",
       "    }\n",
       "\n",
       "    .dataframe thead th {\n",
       "        text-align: right;\n",
       "    }\n",
       "</style>\n",
       "<table border=\"1\" class=\"dataframe\">\n",
       "  <thead>\n",
       "    <tr style=\"text-align: right;\">\n",
       "      <th></th>\n",
       "      <th>text</th>\n",
       "      <th>source</th>\n",
       "      <th>y_true</th>\n",
       "    </tr>\n",
       "  </thead>\n",
       "  <tbody>\n",
       "    <tr>\n",
       "      <th>0</th>\n",
       "      <td>qualifi as eg for the first time</td>\n",
       "      <td>kf</td>\n",
       "      <td>1</td>\n",
       "    </tr>\n",
       "    <tr>\n",
       "      <th>1</th>\n",
       "      <td>which ffp for me ? master discuss</td>\n",
       "      <td>kf</td>\n",
       "      <td>1</td>\n",
       "    </tr>\n",
       "    <tr>\n",
       "      <th>2</th>\n",
       "      <td># sqmelbournetram</td>\n",
       "      <td>kf</td>\n",
       "      <td>1</td>\n",
       "    </tr>\n",
       "    <tr>\n",
       "      <th>3</th>\n",
       "      <td>advic sought - chang redempt book</td>\n",
       "      <td>kf</td>\n",
       "      <td>1</td>\n",
       "    </tr>\n",
       "    <tr>\n",
       "      <th>4</th>\n",
       "      <td>first saver syd-sin</td>\n",
       "      <td>kf</td>\n",
       "      <td>1</td>\n",
       "    </tr>\n",
       "  </tbody>\n",
       "</table>\n",
       "</div>"
      ],
      "text/plain": [
       "                                text source  y_true\n",
       "0   qualifi as eg for the first time     kf       1\n",
       "1  which ffp for me ? master discuss     kf       1\n",
       "2                  # sqmelbournetram     kf       1\n",
       "3  advic sought - chang redempt book     kf       1\n",
       "4                first saver syd-sin     kf       1"
      ]
     },
     "execution_count": 8,
     "metadata": {},
     "output_type": "execute_result"
    }
   ],
   "source": [
    "services_stem_df = services_df.copy()\n",
    "services_stem_df['text'] = [token_stem(text) for text in services_df['text']]\n",
    "services_stem_df.head()"
   ]
  },
  {
   "cell_type": "code",
   "execution_count": 9,
   "metadata": {
    "execution": {
     "iopub.execute_input": "2023-01-28T06:50:45.291299Z",
     "iopub.status.busy": "2023-01-28T06:50:45.290927Z",
     "iopub.status.idle": "2023-01-28T06:50:45.306904Z",
     "shell.execute_reply": "2023-01-28T06:50:45.305951Z",
     "shell.execute_reply.started": "2023-01-28T06:50:45.291269Z"
    }
   },
   "outputs": [],
   "source": [
    "cvec = CountVectorizer(max_features = 500, stop_words = 'english') \n",
    "stem_stopwords = [stemmer.stem(word) for word in cvec.get_stop_words()]\n",
    "stem_stopwords.extend([stemmer.stem(word) for word in ['btw','iirc','imo','imho']])"
   ]
  },
  {
   "cell_type": "markdown",
   "metadata": {},
   "source": [
    "---\n",
    "## 4. Model Fit & Predict\n",
    "---"
   ]
  },
  {
   "cell_type": "markdown",
   "metadata": {},
   "source": [
    "## 4.1 Model 2\n",
    "### - Random Forest"
   ]
  },
  {
   "cell_type": "markdown",
   "metadata": {},
   "source": [
    "- train-test-split our df"
   ]
  },
  {
   "cell_type": "code",
   "execution_count": 10,
   "metadata": {
    "execution": {
     "iopub.execute_input": "2023-01-28T06:50:48.735376Z",
     "iopub.status.busy": "2023-01-28T06:50:48.734990Z",
     "iopub.status.idle": "2023-01-28T06:50:48.764364Z",
     "shell.execute_reply": "2023-01-28T06:50:48.763356Z",
     "shell.execute_reply.started": "2023-01-28T06:50:48.735346Z"
    }
   },
   "outputs": [
    {
     "data": {
      "text/plain": [
       "13477    doe kf actual explain the differ in qualifi da...\n",
       "29195    bkk airport close : sq et al cancel flight 26 ...\n",
       "22061    origin post by sq lppview postthat 's a veri g...\n",
       "6624     origin post by glam82view posti there a better...\n",
       "20643    i would have thought they will use the skl , s...\n",
       "                               ...                        \n",
       "12020    origin post by cgkview post sq prefer i stay i...\n",
       "43382    i thought i 'd get your view on thi , which is...\n",
       "1598     origin post by florianwagnerview postso would ...\n",
       "11541               letter date 19 march receiv 28 march .\n",
       "22264    sorri to report that as i got to sfo airport f...\n",
       "Name: text, Length: 33095, dtype: object"
      ]
     },
     "execution_count": 10,
     "metadata": {},
     "output_type": "execute_result"
    }
   ],
   "source": [
    "X = services_stem_df['text']\n",
    "y = services_stem_df['y_true']\n",
    "\n",
    "X_train, X_test, y_train, y_test = train_test_split(X, y, stratify=y, random_state=42)\n",
    "X_train"
   ]
  },
  {
   "cell_type": "markdown",
   "metadata": {},
   "source": [
    "- create pipeline for GridSearchCV later"
   ]
  },
  {
   "cell_type": "code",
   "execution_count": 15,
   "metadata": {
    "execution": {
     "iopub.execute_input": "2023-01-27T07:54:27.117372Z",
     "iopub.status.busy": "2023-01-27T07:54:27.116931Z",
     "iopub.status.idle": "2023-01-27T07:54:27.131128Z",
     "shell.execute_reply": "2023-01-27T07:54:27.129890Z",
     "shell.execute_reply.started": "2023-01-27T07:54:27.117338Z"
    },
    "scrolled": true
   },
   "outputs": [
    {
     "data": {
      "text/plain": [
       "{'memory': None,\n",
       " 'steps': [('tfidfvectorizer', TfidfVectorizer()),\n",
       "  ('randomforestclassifier', RandomForestClassifier(random_state=42))],\n",
       " 'verbose': False,\n",
       " 'tfidfvectorizer': TfidfVectorizer(),\n",
       " 'randomforestclassifier': RandomForestClassifier(random_state=42),\n",
       " 'tfidfvectorizer__analyzer': 'word',\n",
       " 'tfidfvectorizer__binary': False,\n",
       " 'tfidfvectorizer__decode_error': 'strict',\n",
       " 'tfidfvectorizer__dtype': numpy.float64,\n",
       " 'tfidfvectorizer__encoding': 'utf-8',\n",
       " 'tfidfvectorizer__input': 'content',\n",
       " 'tfidfvectorizer__lowercase': True,\n",
       " 'tfidfvectorizer__max_df': 1.0,\n",
       " 'tfidfvectorizer__max_features': None,\n",
       " 'tfidfvectorizer__min_df': 1,\n",
       " 'tfidfvectorizer__ngram_range': (1, 1),\n",
       " 'tfidfvectorizer__norm': 'l2',\n",
       " 'tfidfvectorizer__preprocessor': None,\n",
       " 'tfidfvectorizer__smooth_idf': True,\n",
       " 'tfidfvectorizer__stop_words': None,\n",
       " 'tfidfvectorizer__strip_accents': None,\n",
       " 'tfidfvectorizer__sublinear_tf': False,\n",
       " 'tfidfvectorizer__token_pattern': '(?u)\\\\b\\\\w\\\\w+\\\\b',\n",
       " 'tfidfvectorizer__tokenizer': None,\n",
       " 'tfidfvectorizer__use_idf': True,\n",
       " 'tfidfvectorizer__vocabulary': None,\n",
       " 'randomforestclassifier__bootstrap': True,\n",
       " 'randomforestclassifier__ccp_alpha': 0.0,\n",
       " 'randomforestclassifier__class_weight': None,\n",
       " 'randomforestclassifier__criterion': 'gini',\n",
       " 'randomforestclassifier__max_depth': None,\n",
       " 'randomforestclassifier__max_features': 'auto',\n",
       " 'randomforestclassifier__max_leaf_nodes': None,\n",
       " 'randomforestclassifier__max_samples': None,\n",
       " 'randomforestclassifier__min_impurity_decrease': 0.0,\n",
       " 'randomforestclassifier__min_samples_leaf': 1,\n",
       " 'randomforestclassifier__min_samples_split': 2,\n",
       " 'randomforestclassifier__min_weight_fraction_leaf': 0.0,\n",
       " 'randomforestclassifier__n_estimators': 100,\n",
       " 'randomforestclassifier__n_jobs': None,\n",
       " 'randomforestclassifier__oob_score': False,\n",
       " 'randomforestclassifier__random_state': 42,\n",
       " 'randomforestclassifier__verbose': 0,\n",
       " 'randomforestclassifier__warm_start': False}"
      ]
     },
     "execution_count": 15,
     "metadata": {},
     "output_type": "execute_result"
    }
   ],
   "source": [
    "pipe_rf = make_pipeline(\n",
    "    TfidfVectorizer(),\n",
    "    rfc(random_state=42)\n",
    ")\n",
    "pipe_rf.get_params()"
   ]
  },
  {
   "cell_type": "code",
   "execution_count": 16,
   "metadata": {
    "execution": {
     "iopub.execute_input": "2023-01-27T07:54:29.775711Z",
     "iopub.status.busy": "2023-01-27T07:54:29.775312Z",
     "iopub.status.idle": "2023-01-27T07:54:29.782628Z",
     "shell.execute_reply": "2023-01-27T07:54:29.781248Z",
     "shell.execute_reply.started": "2023-01-27T07:54:29.775679Z"
    }
   },
   "outputs": [],
   "source": [
    "pipe_rf_params = {'tfidfvectorizer__max_features': [300,500],\n",
    "                  'tfidfvectorizer__stop_words': [None,stem_stopwords],\n",
    "                  'randomforestclassifier__max_depth': [5,10],\n",
    "                  'randomforestclassifier__min_samples_leaf': [3,5],\n",
    "                  'randomforestclassifier__ccp_alpha': [0,1]\n",
    "                 }"
   ]
  },
  {
   "cell_type": "markdown",
   "metadata": {},
   "source": [
    "- GridSearchCV"
   ]
  },
  {
   "cell_type": "code",
   "execution_count": 17,
   "metadata": {
    "execution": {
     "iopub.execute_input": "2023-01-27T07:54:32.082826Z",
     "iopub.status.busy": "2023-01-27T07:54:32.082408Z",
     "iopub.status.idle": "2023-01-27T08:06:38.210788Z",
     "shell.execute_reply": "2023-01-27T08:06:38.209279Z",
     "shell.execute_reply.started": "2023-01-27T07:54:32.082794Z"
    }
   },
   "outputs": [
    {
     "name": "stdout",
     "output_type": "stream",
     "text": [
      "Pipeline(steps=[('tfidfvectorizer',\n",
      "                 TfidfVectorizer(max_features=500,\n",
      "                                 stop_words=['meanwhil', 'it', 'be', 'detail',\n",
      "                                             'up', 'part', 'well', 'herebi',\n",
      "                                             'give', 'first', 'until',\n",
      "                                             'whereaft', 'behind', 'inc',\n",
      "                                             'about', 'along', 'seem', 'veri',\n",
      "                                             'hasnt', 'could', 'without', 'you',\n",
      "                                             'one', 'etc', 'then', 'becom',\n",
      "                                             'himself', 'may', 'ie', 'nor', ...])),\n",
      "                ('randomforestclassifier',\n",
      "                 RandomForestClassifier(ccp_alpha=0, max_depth=10,\n",
      "                                        min_samples_leaf=3, random_state=42))])\n"
     ]
    }
   ],
   "source": [
    "pipe_rf_gs = GridSearchCV(pipe_rf, pipe_rf_params)\n",
    "pipe_rf_gs.fit(X_train, y_train)\n",
    "print(pipe_rf_gs.best_estimator_)"
   ]
  },
  {
   "cell_type": "markdown",
   "metadata": {},
   "source": [
    "- visualise confusion matrix"
   ]
  },
  {
   "cell_type": "code",
   "execution_count": 18,
   "metadata": {
    "execution": {
     "iopub.execute_input": "2023-01-27T08:06:43.532637Z",
     "iopub.status.busy": "2023-01-27T08:06:43.532007Z",
     "iopub.status.idle": "2023-01-27T08:06:44.309122Z",
     "shell.execute_reply": "2023-01-27T08:06:44.307784Z",
     "shell.execute_reply.started": "2023-01-27T08:06:43.532610Z"
    }
   },
   "outputs": [
    {
     "data": {
      "image/png": "[encoded data removed]",
      "text/plain": [
       "<Figure size 432x288 with 2 Axes>"
      ]
     },
     "metadata": {
      "needs_background": "light"
     },
     "output_type": "display_data"
    }
   ],
   "source": [
    "y_pred = pipe_rf_gs.predict(X_test)\n",
    "cm = confusion_matrix(y_test, y_pred)\n",
    "disp = ConfusionMatrixDisplay(confusion_matrix=cm, display_labels=['Others', 'KrisFlyer', 'LCA'])\n",
    "disp.plot();"
   ]
  },
  {
   "cell_type": "markdown",
   "metadata": {},
   "source": [
    "- display precision, recall, f1-score of each class"
   ]
  },
  {
   "cell_type": "code",
   "execution_count": 19,
   "metadata": {
    "execution": {
     "iopub.execute_input": "2023-01-27T08:06:46.856298Z",
     "iopub.status.busy": "2023-01-27T08:06:46.855923Z",
     "iopub.status.idle": "2023-01-27T08:06:46.878095Z",
     "shell.execute_reply": "2023-01-27T08:06:46.877003Z",
     "shell.execute_reply.started": "2023-01-27T08:06:46.856264Z"
    }
   },
   "outputs": [
    {
     "name": "stdout",
     "output_type": "stream",
     "text": [
      "              precision    recall  f1-score   support\n",
      "\n",
      "           0       0.62      0.85      0.71      3901\n",
      "           1       0.80      0.72      0.76      4443\n",
      "           2       0.90      0.54      0.68      2688\n",
      "\n",
      "    accuracy                           0.73     11032\n",
      "   macro avg       0.77      0.71      0.72     11032\n",
      "weighted avg       0.76      0.73      0.72     11032\n",
      "\n"
     ]
    }
   ],
   "source": [
    "print(classification_report(y_test, y_pred))\n",
    "# 0: other, 1: kf, 2: lca"
   ]
  },
  {
   "cell_type": "markdown",
   "metadata": {},
   "source": [
    "- display the weighted average ROC AUC score"
   ]
  },
  {
   "cell_type": "code",
   "execution_count": 20,
   "metadata": {
    "execution": {
     "iopub.execute_input": "2023-01-27T08:06:50.145719Z",
     "iopub.status.busy": "2023-01-27T08:06:50.144888Z",
     "iopub.status.idle": "2023-01-27T08:06:50.721080Z",
     "shell.execute_reply": "2023-01-27T08:06:50.719645Z",
     "shell.execute_reply.started": "2023-01-27T08:06:50.145690Z"
    }
   },
   "outputs": [
    {
     "data": {
      "text/plain": [
       "0.8827979263996367"
      ]
     },
     "execution_count": 20,
     "metadata": {},
     "output_type": "execute_result"
    }
   ],
   "source": [
    "y_pred_prob = pipe_rf_gs.predict_proba(X_test)\n",
    "roc_auc_score(y_test, y_pred_prob, multi_class='ovr', average='macro')"
   ]
  },
  {
   "cell_type": "markdown",
   "metadata": {},
   "source": [
    "- weighted f1-score of KrisFlyer and LCA"
   ]
  },
  {
   "cell_type": "code",
   "execution_count": 21,
   "metadata": {
    "execution": {
     "iopub.execute_input": "2023-01-27T08:06:53.071208Z",
     "iopub.status.busy": "2023-01-27T08:06:53.070839Z",
     "iopub.status.idle": "2023-01-27T08:06:53.083635Z",
     "shell.execute_reply": "2023-01-27T08:06:53.082617Z",
     "shell.execute_reply.started": "2023-01-27T08:06:53.071176Z"
    }
   },
   "outputs": [
    {
     "data": {
      "text/plain": [
       "0.7190859936437493"
      ]
     },
     "execution_count": 21,
     "metadata": {},
     "output_type": "execute_result"
    }
   ],
   "source": [
    "f1_score(y_test, y_pred, labels=[1,2], average = 'macro')"
   ]
  },
  {
   "cell_type": "markdown",
   "metadata": {},
   "source": [
    "## 4.2 Model 3\n",
    "### - XGBoost"
   ]
  },
  {
   "cell_type": "markdown",
   "metadata": {},
   "source": [
    "- create pipeline for GridSearchCV later"
   ]
  },
  {
   "cell_type": "code",
   "execution_count": 22,
   "metadata": {
    "execution": {
     "iopub.execute_input": "2023-01-27T08:07:08.426116Z",
     "iopub.status.busy": "2023-01-27T08:07:08.425785Z",
     "iopub.status.idle": "2023-01-27T08:07:08.438571Z",
     "shell.execute_reply": "2023-01-27T08:07:08.437478Z",
     "shell.execute_reply.started": "2023-01-27T08:07:08.426092Z"
    },
    "scrolled": true
   },
   "outputs": [
    {
     "data": {
      "text/plain": [
       "{'memory': None,\n",
       " 'steps': [('tfidfvectorizer', TfidfVectorizer()),\n",
       "  ('xgbclassifier',\n",
       "   XGBClassifier(base_score=None, booster=None, callbacks=None,\n",
       "                 colsample_bylevel=None, colsample_bynode=None,\n",
       "                 colsample_bytree=None, early_stopping_rounds=None,\n",
       "                 enable_categorical=False, eval_metric=None, gamma=None,\n",
       "                 gpu_id=None, grow_policy=None, importance_type=None,\n",
       "                 interaction_constraints=None, learning_rate=None, max_bin=None,\n",
       "                 max_cat_to_onehot=None, max_delta_step=None, max_depth=None,\n",
       "                 max_leaves=None, min_child_weight=None, missing=nan,\n",
       "                 monotone_constraints=None, n_estimators=100, n_jobs=None,\n",
       "                 num_parallel_tree=None, predictor=None, random_state=None,\n",
       "                 reg_alpha=None, reg_lambda=None, ...))],\n",
       " 'verbose': False,\n",
       " 'tfidfvectorizer': TfidfVectorizer(),\n",
       " 'xgbclassifier': XGBClassifier(base_score=None, booster=None, callbacks=None,\n",
       "               colsample_bylevel=None, colsample_bynode=None,\n",
       "               colsample_bytree=None, early_stopping_rounds=None,\n",
       "               enable_categorical=False, eval_metric=None, gamma=None,\n",
       "               gpu_id=None, grow_policy=None, importance_type=None,\n",
       "               interaction_constraints=None, learning_rate=None, max_bin=None,\n",
       "               max_cat_to_onehot=None, max_delta_step=None, max_depth=None,\n",
       "               max_leaves=None, min_child_weight=None, missing=nan,\n",
       "               monotone_constraints=None, n_estimators=100, n_jobs=None,\n",
       "               num_parallel_tree=None, predictor=None, random_state=None,\n",
       "               reg_alpha=None, reg_lambda=None, ...),\n",
       " 'tfidfvectorizer__analyzer': 'word',\n",
       " 'tfidfvectorizer__binary': False,\n",
       " 'tfidfvectorizer__decode_error': 'strict',\n",
       " 'tfidfvectorizer__dtype': numpy.float64,\n",
       " 'tfidfvectorizer__encoding': 'utf-8',\n",
       " 'tfidfvectorizer__input': 'content',\n",
       " 'tfidfvectorizer__lowercase': True,\n",
       " 'tfidfvectorizer__max_df': 1.0,\n",
       " 'tfidfvectorizer__max_features': None,\n",
       " 'tfidfvectorizer__min_df': 1,\n",
       " 'tfidfvectorizer__ngram_range': (1, 1),\n",
       " 'tfidfvectorizer__norm': 'l2',\n",
       " 'tfidfvectorizer__preprocessor': None,\n",
       " 'tfidfvectorizer__smooth_idf': True,\n",
       " 'tfidfvectorizer__stop_words': None,\n",
       " 'tfidfvectorizer__strip_accents': None,\n",
       " 'tfidfvectorizer__sublinear_tf': False,\n",
       " 'tfidfvectorizer__token_pattern': '(?u)\\\\b\\\\w\\\\w+\\\\b',\n",
       " 'tfidfvectorizer__tokenizer': None,\n",
       " 'tfidfvectorizer__use_idf': True,\n",
       " 'tfidfvectorizer__vocabulary': None,\n",
       " 'xgbclassifier__objective': 'binary:logistic',\n",
       " 'xgbclassifier__use_label_encoder': False,\n",
       " 'xgbclassifier__base_score': None,\n",
       " 'xgbclassifier__booster': None,\n",
       " 'xgbclassifier__callbacks': None,\n",
       " 'xgbclassifier__colsample_bylevel': None,\n",
       " 'xgbclassifier__colsample_bynode': None,\n",
       " 'xgbclassifier__colsample_bytree': None,\n",
       " 'xgbclassifier__early_stopping_rounds': None,\n",
       " 'xgbclassifier__enable_categorical': False,\n",
       " 'xgbclassifier__eval_metric': None,\n",
       " 'xgbclassifier__gamma': None,\n",
       " 'xgbclassifier__gpu_id': None,\n",
       " 'xgbclassifier__grow_policy': None,\n",
       " 'xgbclassifier__importance_type': None,\n",
       " 'xgbclassifier__interaction_constraints': None,\n",
       " 'xgbclassifier__learning_rate': None,\n",
       " 'xgbclassifier__max_bin': None,\n",
       " 'xgbclassifier__max_cat_to_onehot': None,\n",
       " 'xgbclassifier__max_delta_step': None,\n",
       " 'xgbclassifier__max_depth': None,\n",
       " 'xgbclassifier__max_leaves': None,\n",
       " 'xgbclassifier__min_child_weight': None,\n",
       " 'xgbclassifier__missing': nan,\n",
       " 'xgbclassifier__monotone_constraints': None,\n",
       " 'xgbclassifier__n_estimators': 100,\n",
       " 'xgbclassifier__n_jobs': None,\n",
       " 'xgbclassifier__num_parallel_tree': None,\n",
       " 'xgbclassifier__predictor': None,\n",
       " 'xgbclassifier__random_state': None,\n",
       " 'xgbclassifier__reg_alpha': None,\n",
       " 'xgbclassifier__reg_lambda': None,\n",
       " 'xgbclassifier__sampling_method': None,\n",
       " 'xgbclassifier__scale_pos_weight': None,\n",
       " 'xgbclassifier__subsample': None,\n",
       " 'xgbclassifier__tree_method': None,\n",
       " 'xgbclassifier__validate_parameters': None,\n",
       " 'xgbclassifier__verbosity': None,\n",
       " 'xgbclassifier__seed': 42}"
      ]
     },
     "execution_count": 22,
     "metadata": {},
     "output_type": "execute_result"
    }
   ],
   "source": [
    "pipe_xgb = make_pipeline(\n",
    "    TfidfVectorizer(),\n",
    "    XGBClassifier(seed=42)\n",
    ")\n",
    "pipe_xgb.get_params()"
   ]
  },
  {
   "cell_type": "markdown",
   "metadata": {},
   "source": [
    "- pick xgb params based on [XGBoost fine tuning](https://towardsdatascience.com/xgboost-fine-tune-and-optimize-your-model-23d996fab663), limited by time spent on training"
   ]
  },
  {
   "cell_type": "code",
   "execution_count": 23,
   "metadata": {
    "execution": {
     "iopub.execute_input": "2023-01-27T08:07:11.771279Z",
     "iopub.status.busy": "2023-01-27T08:07:11.770841Z",
     "iopub.status.idle": "2023-01-27T08:07:11.777472Z",
     "shell.execute_reply": "2023-01-27T08:07:11.776188Z",
     "shell.execute_reply.started": "2023-01-27T08:07:11.771250Z"
    }
   },
   "outputs": [],
   "source": [
    "pipe_xgb_params = {'tfidfvectorizer__max_features': [300,500],\n",
    "                   'tfidfvectorizer__stop_words': [None,stem_stopwords],\n",
    "                   'xgbclassifier__max_depth': [3,6],\n",
    "                   'xgbclassifier__n_estimators': [100,200]\n",
    "                  }"
   ]
  },
  {
   "cell_type": "markdown",
   "metadata": {},
   "source": [
    "- GridSearchCV"
   ]
  },
  {
   "cell_type": "code",
   "execution_count": 24,
   "metadata": {
    "execution": {
     "iopub.execute_input": "2023-01-27T08:07:16.723808Z",
     "iopub.status.busy": "2023-01-27T08:07:16.723069Z",
     "iopub.status.idle": "2023-01-27T08:40:07.787604Z",
     "shell.execute_reply": "2023-01-27T08:40:07.786481Z",
     "shell.execute_reply.started": "2023-01-27T08:07:16.723771Z"
    }
   },
   "outputs": [
    {
     "name": "stdout",
     "output_type": "stream",
     "text": [
      "Pipeline(steps=[('tfidfvectorizer',\n",
      "                 TfidfVectorizer(max_features=500,\n",
      "                                 stop_words=['meanwhil', 'it', 'be', 'detail',\n",
      "                                             'up', 'part', 'well', 'herebi',\n",
      "                                             'give', 'first', 'until',\n",
      "                                             'whereaft', 'behind', 'inc',\n",
      "                                             'about', 'along', 'seem', 'veri',\n",
      "                                             'hasnt', 'could', 'without', 'you',\n",
      "                                             'one', 'etc', 'then', 'becom',\n",
      "                                             'himself', 'may', 'ie', 'nor', ...])),\n",
      "                ('xgbclassifier',\n",
      "                 XGBClassifier(base_scor...\n",
      "                               gamma=0, gpu_id=-1, grow_policy='depthwise',\n",
      "                               importance_type=None, interaction_constraints='',\n",
      "                               learning_rate=0.300000012, max_bin=256,\n",
      "                               max_cat_to_onehot=4, max_delta_step=0,\n",
      "                               max_depth=6, max_leaves=0, min_child_weight=1,\n",
      "                               missing=nan, monotone_constraints='()',\n",
      "                               n_estimators=200, n_jobs=0, num_parallel_tree=1,\n",
      "                               objective='multi:softprob', predictor='auto',\n",
      "                               random_state=42, reg_alpha=0, ...))])\n"
     ]
    }
   ],
   "source": [
    "pipe_xgb_gs = GridSearchCV(pipe_xgb, pipe_xgb_params)\n",
    "pipe_xgb_gs.fit(X_train, y_train)\n",
    "print(pipe_xgb_gs.best_estimator_)"
   ]
  },
  {
   "cell_type": "markdown",
   "metadata": {},
   "source": [
    "- visualise confusion matrix"
   ]
  },
  {
   "cell_type": "code",
   "execution_count": 25,
   "metadata": {
    "execution": {
     "iopub.execute_input": "2023-01-27T08:45:19.813653Z",
     "iopub.status.busy": "2023-01-27T08:45:19.813289Z",
     "iopub.status.idle": "2023-01-27T08:45:20.546213Z",
     "shell.execute_reply": "2023-01-27T08:45:20.545293Z",
     "shell.execute_reply.started": "2023-01-27T08:45:19.813623Z"
    }
   },
   "outputs": [
    {
     "data": {
      "image/png": "[encoded data removed]",
      "text/plain": [
       "<Figure size 432x288 with 2 Axes>"
      ]
     },
     "metadata": {
      "needs_background": "light"
     },
     "output_type": "display_data"
    }
   ],
   "source": [
    "y_pred = pipe_xgb_gs.predict(X_test)\n",
    "cm = confusion_matrix(y_test, y_pred)\n",
    "disp = ConfusionMatrixDisplay(confusion_matrix=cm, display_labels=['Others', 'KrisFlyer', 'LCA'])\n",
    "disp.plot();"
   ]
  },
  {
   "cell_type": "markdown",
   "metadata": {},
   "source": [
    "- display precision, recall, f1-score of each class"
   ]
  },
  {
   "cell_type": "code",
   "execution_count": 26,
   "metadata": {
    "execution": {
     "iopub.execute_input": "2023-01-27T08:45:23.625353Z",
     "iopub.status.busy": "2023-01-27T08:45:23.624703Z",
     "iopub.status.idle": "2023-01-27T08:45:23.645581Z",
     "shell.execute_reply": "2023-01-27T08:45:23.644556Z",
     "shell.execute_reply.started": "2023-01-27T08:45:23.625317Z"
    }
   },
   "outputs": [
    {
     "name": "stdout",
     "output_type": "stream",
     "text": [
      "              precision    recall  f1-score   support\n",
      "\n",
      "           0       0.72      0.86      0.78      3901\n",
      "           1       0.86      0.79      0.82      4443\n",
      "           2       0.87      0.73      0.79      2688\n",
      "\n",
      "    accuracy                           0.80     11032\n",
      "   macro avg       0.81      0.79      0.80     11032\n",
      "weighted avg       0.81      0.80      0.80     11032\n",
      "\n"
     ]
    }
   ],
   "source": [
    "print(classification_report(y_test, y_pred))\n",
    "# 0: other, 1: kf, 2: lca"
   ]
  },
  {
   "cell_type": "markdown",
   "metadata": {},
   "source": [
    "- display the weighted average ROC AUC score"
   ]
  },
  {
   "cell_type": "code",
   "execution_count": 27,
   "metadata": {
    "execution": {
     "iopub.execute_input": "2023-01-27T08:45:25.857130Z",
     "iopub.status.busy": "2023-01-27T08:45:25.856752Z",
     "iopub.status.idle": "2023-01-27T08:45:26.444231Z",
     "shell.execute_reply": "2023-01-27T08:45:26.442181Z",
     "shell.execute_reply.started": "2023-01-27T08:45:25.857098Z"
    }
   },
   "outputs": [
    {
     "data": {
      "text/plain": [
       "0.9250107935535378"
      ]
     },
     "execution_count": 27,
     "metadata": {},
     "output_type": "execute_result"
    }
   ],
   "source": [
    "y_pred_prob = pipe_xgb_gs.predict_proba(X_test)\n",
    "roc_auc_score(y_test, y_pred_prob, multi_class='ovr', average='macro')"
   ]
  },
  {
   "cell_type": "markdown",
   "metadata": {},
   "source": [
    "- weighted f1-score of KrisFlyer and LCA"
   ]
  },
  {
   "cell_type": "code",
   "execution_count": 28,
   "metadata": {
    "execution": {
     "iopub.execute_input": "2023-01-27T08:45:28.600819Z",
     "iopub.status.busy": "2023-01-27T08:45:28.600483Z",
     "iopub.status.idle": "2023-01-27T08:45:28.612262Z",
     "shell.execute_reply": "2023-01-27T08:45:28.611177Z",
     "shell.execute_reply.started": "2023-01-27T08:45:28.600795Z"
    }
   },
   "outputs": [
    {
     "data": {
      "text/plain": [
       "0.8065646872509245"
      ]
     },
     "execution_count": 28,
     "metadata": {},
     "output_type": "execute_result"
    }
   ],
   "source": [
    "f1_score(y_test, y_pred, labels=[1,2], average = 'macro')"
   ]
  },
  {
   "cell_type": "markdown",
   "metadata": {},
   "source": [
    "## 4.3 Model 4\n",
    "### - SVM"
   ]
  },
  {
   "cell_type": "markdown",
   "metadata": {},
   "source": [
    "- create pipeline for GridSearchCV later"
   ]
  },
  {
   "cell_type": "code",
   "execution_count": 11,
   "metadata": {
    "execution": {
     "iopub.execute_input": "2023-01-28T06:51:26.984976Z",
     "iopub.status.busy": "2023-01-28T06:51:26.984279Z",
     "iopub.status.idle": "2023-01-28T06:51:26.997540Z",
     "shell.execute_reply": "2023-01-28T06:51:26.996376Z",
     "shell.execute_reply.started": "2023-01-28T06:51:26.984939Z"
    },
    "scrolled": true
   },
   "outputs": [
    {
     "data": {
      "text/plain": [
       "{'memory': None,\n",
       " 'steps': [('tfidfvectorizer', TfidfVectorizer()),\n",
       "  ('svc', SVC(random_state=42))],\n",
       " 'verbose': False,\n",
       " 'tfidfvectorizer': TfidfVectorizer(),\n",
       " 'svc': SVC(random_state=42),\n",
       " 'tfidfvectorizer__analyzer': 'word',\n",
       " 'tfidfvectorizer__binary': False,\n",
       " 'tfidfvectorizer__decode_error': 'strict',\n",
       " 'tfidfvectorizer__dtype': numpy.float64,\n",
       " 'tfidfvectorizer__encoding': 'utf-8',\n",
       " 'tfidfvectorizer__input': 'content',\n",
       " 'tfidfvectorizer__lowercase': True,\n",
       " 'tfidfvectorizer__max_df': 1.0,\n",
       " 'tfidfvectorizer__max_features': None,\n",
       " 'tfidfvectorizer__min_df': 1,\n",
       " 'tfidfvectorizer__ngram_range': (1, 1),\n",
       " 'tfidfvectorizer__norm': 'l2',\n",
       " 'tfidfvectorizer__preprocessor': None,\n",
       " 'tfidfvectorizer__smooth_idf': True,\n",
       " 'tfidfvectorizer__stop_words': None,\n",
       " 'tfidfvectorizer__strip_accents': None,\n",
       " 'tfidfvectorizer__sublinear_tf': False,\n",
       " 'tfidfvectorizer__token_pattern': '(?u)\\\\b\\\\w\\\\w+\\\\b',\n",
       " 'tfidfvectorizer__tokenizer': None,\n",
       " 'tfidfvectorizer__use_idf': True,\n",
       " 'tfidfvectorizer__vocabulary': None,\n",
       " 'svc__C': 1.0,\n",
       " 'svc__break_ties': False,\n",
       " 'svc__cache_size': 200,\n",
       " 'svc__class_weight': None,\n",
       " 'svc__coef0': 0.0,\n",
       " 'svc__decision_function_shape': 'ovr',\n",
       " 'svc__degree': 3,\n",
       " 'svc__gamma': 'scale',\n",
       " 'svc__kernel': 'rbf',\n",
       " 'svc__max_iter': -1,\n",
       " 'svc__probability': False,\n",
       " 'svc__random_state': 42,\n",
       " 'svc__shrinking': True,\n",
       " 'svc__tol': 0.001,\n",
       " 'svc__verbose': False}"
      ]
     },
     "execution_count": 11,
     "metadata": {},
     "output_type": "execute_result"
    }
   ],
   "source": [
    "pipe_svm = make_pipeline(\n",
    "    TfidfVectorizer(),\n",
    "    SVC(random_state=42)\n",
    ")\n",
    "pipe_svm.get_params()"
   ]
  },
  {
   "cell_type": "code",
   "execution_count": 13,
   "metadata": {
    "execution": {
     "iopub.execute_input": "2023-01-28T06:51:45.412709Z",
     "iopub.status.busy": "2023-01-28T06:51:45.412346Z",
     "iopub.status.idle": "2023-01-28T06:51:45.417381Z",
     "shell.execute_reply": "2023-01-28T06:51:45.416376Z",
     "shell.execute_reply.started": "2023-01-28T06:51:45.412680Z"
    }
   },
   "outputs": [],
   "source": [
    "pipe_svm_params = {'tfidfvectorizer__max_features': [300,500],\n",
    "                   'tfidfvectorizer__stop_words': [None,stem_stopwords],\n",
    "                   'svc__C': [0.1,1],\n",
    "                   'svc__gamma': [1,0.1]\n",
    "                  }"
   ]
  },
  {
   "cell_type": "markdown",
   "metadata": {},
   "source": [
    "- GridSearchCV"
   ]
  },
  {
   "cell_type": "code",
   "execution_count": 15,
   "metadata": {
    "execution": {
     "iopub.execute_input": "2023-01-28T07:53:36.979199Z",
     "iopub.status.busy": "2023-01-28T07:53:36.978829Z",
     "iopub.status.idle": "2023-01-28T10:52:14.662352Z",
     "shell.execute_reply": "2023-01-28T10:52:14.661346Z",
     "shell.execute_reply.started": "2023-01-28T07:53:36.979167Z"
    }
   },
   "outputs": [
    {
     "name": "stdout",
     "output_type": "stream",
     "text": [
      "Pipeline(steps=[('tfidfvectorizer',\n",
      "                 TfidfVectorizer(max_features=500,\n",
      "                                 stop_words=['therebi', 'ha', 'call', 'not',\n",
      "                                             'our', 'well', 'among', 'former',\n",
      "                                             'everyth', 'our', 'often', 'ever',\n",
      "                                             'if', 'more', 'below', 'everyon',\n",
      "                                             'latterli', 'hereaft', 'moreov',\n",
      "                                             'or', 'sometim', 'though',\n",
      "                                             'nowher', 'it', 'six', 'me',\n",
      "                                             'here', 'it', 'seem', 'neither', ...])),\n",
      "                ('svc', SVC(C=1, gamma=1, random_state=42))])\n"
     ]
    }
   ],
   "source": [
    "pipe_svm_gs = GridSearchCV(pipe_svm, pipe_svm_params)\n",
    "pipe_svm_gs.fit(X_train, y_train)\n",
    "print(pipe_svm_gs.best_estimator_)"
   ]
  },
  {
   "cell_type": "markdown",
   "metadata": {},
   "source": [
    "- train the best SVM estimator, with 'probability' parameter as True\n",
    "- this is done separately from GridSearchCV above, as the SVM algo will conduct a 5-fold cross-validation and slow down significantly\n",
    "- with 'probability' parameter = True, I can use predict_proba later to derive the ROC AUC score"
   ]
  },
  {
   "cell_type": "code",
   "execution_count": 16,
   "metadata": {
    "execution": {
     "iopub.execute_input": "2023-01-28T11:00:40.515439Z",
     "iopub.status.busy": "2023-01-28T11:00:40.515043Z",
     "iopub.status.idle": "2023-01-28T11:00:40.520624Z",
     "shell.execute_reply": "2023-01-28T11:00:40.519643Z",
     "shell.execute_reply.started": "2023-01-28T11:00:40.515406Z"
    }
   },
   "outputs": [],
   "source": [
    "# create another SVM pipe with the best params\n",
    "pipe_svm_best = make_pipeline(\n",
    "    TfidfVectorizer(max_features=500, stop_words=stem_stopwords),\n",
    "    SVC(C=1, gamma=1,probability=True, random_state=42)\n",
    ")"
   ]
  },
  {
   "cell_type": "code",
   "execution_count": 17,
   "metadata": {
    "execution": {
     "iopub.execute_input": "2023-01-28T11:00:48.118027Z",
     "iopub.status.busy": "2023-01-28T11:00:48.117296Z",
     "iopub.status.idle": "2023-01-28T11:13:35.968126Z",
     "shell.execute_reply": "2023-01-28T11:13:35.967159Z",
     "shell.execute_reply.started": "2023-01-28T11:00:48.117992Z"
    }
   },
   "outputs": [
    {
     "data": {
      "text/plain": [
       "Pipeline(steps=[('tfidfvectorizer',\n",
       "                 TfidfVectorizer(max_features=500,\n",
       "                                 stop_words=['therebi', 'ha', 'call', 'not',\n",
       "                                             'our', 'well', 'among', 'former',\n",
       "                                             'everyth', 'our', 'often', 'ever',\n",
       "                                             'if', 'more', 'below', 'everyon',\n",
       "                                             'latterli', 'hereaft', 'moreov',\n",
       "                                             'or', 'sometim', 'though',\n",
       "                                             'nowher', 'it', 'six', 'me',\n",
       "                                             'here', 'it', 'seem', 'neither', ...])),\n",
       "                ('svc', SVC(C=1, gamma=1, probability=True, random_state=42))])"
      ]
     },
     "execution_count": 17,
     "metadata": {},
     "output_type": "execute_result"
    }
   ],
   "source": [
    "pipe_svm_best.fit(X_train, y_train)"
   ]
  },
  {
   "cell_type": "markdown",
   "metadata": {},
   "source": [
    "- visualise confusion matrix"
   ]
  },
  {
   "cell_type": "code",
   "execution_count": 18,
   "metadata": {
    "execution": {
     "iopub.execute_input": "2023-01-28T11:14:43.962608Z",
     "iopub.status.busy": "2023-01-28T11:14:43.962226Z",
     "iopub.status.idle": "2023-01-28T11:15:09.144919Z",
     "shell.execute_reply": "2023-01-28T11:15:09.144021Z",
     "shell.execute_reply.started": "2023-01-28T11:14:43.962574Z"
    }
   },
   "outputs": [
    {
     "data": {
      "image/png": "[encoded data removed]",
      "text/plain": [
       "<Figure size 432x288 with 2 Axes>"
      ]
     },
     "metadata": {
      "needs_background": "light"
     },
     "output_type": "display_data"
    }
   ],
   "source": [
    "y_pred = pipe_svm_best.predict(X_test)\n",
    "cm = confusion_matrix(y_test, y_pred)\n",
    "disp = ConfusionMatrixDisplay(confusion_matrix=cm, display_labels=['Others', 'KrisFlyer', 'LCA'])\n",
    "disp.plot();"
   ]
  },
  {
   "cell_type": "markdown",
   "metadata": {},
   "source": [
    "- display precision, recall, f1-score of each class"
   ]
  },
  {
   "cell_type": "code",
   "execution_count": 19,
   "metadata": {
    "execution": {
     "iopub.execute_input": "2023-01-28T11:18:38.054493Z",
     "iopub.status.busy": "2023-01-28T11:18:38.054107Z",
     "iopub.status.idle": "2023-01-28T11:18:38.080141Z",
     "shell.execute_reply": "2023-01-28T11:18:38.078286Z",
     "shell.execute_reply.started": "2023-01-28T11:18:38.054461Z"
    }
   },
   "outputs": [
    {
     "name": "stdout",
     "output_type": "stream",
     "text": [
      "              precision    recall  f1-score   support\n",
      "\n",
      "           0       0.73      0.88      0.80      3901\n",
      "           1       0.87      0.80      0.83      4443\n",
      "           2       0.88      0.73      0.80      2688\n",
      "\n",
      "    accuracy                           0.81     11032\n",
      "   macro avg       0.83      0.80      0.81     11032\n",
      "weighted avg       0.82      0.81      0.81     11032\n",
      "\n"
     ]
    }
   ],
   "source": [
    "print(classification_report(y_test, y_pred))\n",
    "# 0: other, 1: kf, 2: lca"
   ]
  },
  {
   "cell_type": "markdown",
   "metadata": {},
   "source": [
    "- display the weighted average ROC AUC score"
   ]
  },
  {
   "cell_type": "code",
   "execution_count": 20,
   "metadata": {
    "execution": {
     "iopub.execute_input": "2023-01-28T11:18:41.337271Z",
     "iopub.status.busy": "2023-01-28T11:18:41.336918Z",
     "iopub.status.idle": "2023-01-28T11:19:05.811940Z",
     "shell.execute_reply": "2023-01-28T11:19:05.810875Z",
     "shell.execute_reply.started": "2023-01-28T11:18:41.337240Z"
    }
   },
   "outputs": [
    {
     "data": {
      "text/plain": [
       "0.9253690479453621"
      ]
     },
     "execution_count": 20,
     "metadata": {},
     "output_type": "execute_result"
    }
   ],
   "source": [
    "y_pred_prob = pipe_svm_best.predict_proba(X_test)\n",
    "roc_auc_score(y_test, y_pred_prob, multi_class='ovr', average='macro')"
   ]
  },
  {
   "cell_type": "markdown",
   "metadata": {},
   "source": [
    "- weighted f1-score of KrisFlyer and LCA"
   ]
  },
  {
   "cell_type": "code",
   "execution_count": 21,
   "metadata": {
    "execution": {
     "iopub.execute_input": "2023-01-28T11:19:43.120789Z",
     "iopub.status.busy": "2023-01-28T11:19:43.120186Z",
     "iopub.status.idle": "2023-01-28T11:19:43.133371Z",
     "shell.execute_reply": "2023-01-28T11:19:43.132151Z",
     "shell.execute_reply.started": "2023-01-28T11:19:43.120753Z"
    }
   },
   "outputs": [
    {
     "data": {
      "text/plain": [
       "0.8145863231111218"
      ]
     },
     "execution_count": 21,
     "metadata": {},
     "output_type": "execute_result"
    }
   ],
   "source": [
    "f1_score(y_test, y_pred, labels=[1,2], average = 'macro')"
   ]
  },
  {
   "cell_type": "markdown",
   "metadata": {},
   "source": [
    "---\n",
    "## 5. Remarks\n",
    "---"
   ]
  },
  {
   "cell_type": "markdown",
   "metadata": {},
   "source": [
    "|                                     | Model 1<br>(from notebook 3) | Model 2       | Model 3  | Model 4<br>\\*Best performance\\* |\n",
    "|-------------------------------------|----------------------------|---------------|----------|---------|\n",
    "| Vectoriser                          | TFIDF                      | TFIDF         | TFIDF    | TFIDF   |\n",
    "| Model                               | Multinomial Naive Bayes    | Random Forest | XGBoost | SVM     |\n",
    "| Macro-average ROC AUC            | 0.908                      | 0.883         | 0.925    | 0.925   |\n",
    "| Macro-average f1-score (kf, lca) | 0.759                      | 0.719         | 0.807    | 0.815    |"
   ]
  },
  {
   "cell_type": "markdown",
   "metadata": {},
   "source": [
    "- Model 4 performed the best with the following params:\n",
    "    - TfidfVectorizer(max_features=500, stop_words=stem_stopwords)\n",
    "    - SVC(C=1, gamma=1, probability=True, random_state=42)\n",
    "<br>\n",
    "<br>\n",
    "- although model 3 and model 4 have the the same macro-average ROC AUC score, model 3 edged out in its macro-average f1-score. This meant that model 3 has the least false-positive and false-negative prediction for KF and LCA, which is important to the business"
   ]
  }
 ],
 "metadata": {
  "kernelspec": {
   "display_name": "Python 3 (ipykernel)",
   "language": "python",
   "name": "python3"
  },
  "language_info": {
   "codemirror_mode": {
    "name": "ipython",
    "version": 3
   },
   "file_extension": ".py",
   "mimetype": "text/x-python",
   "name": "python",
   "nbconvert_exporter": "python",
   "pygments_lexer": "ipython3",
   "version": "3.8.13"
  }
 },
 "nbformat": 4,
 "nbformat_minor": 4
}
