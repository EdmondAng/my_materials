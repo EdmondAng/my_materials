{
 "cells": [
  {
   "cell_type": "markdown",
   "id": "76c139da-3add-4310-8b71-324fc76b1e85",
   "metadata": {},
   "source": [
    "## Contents\n",
    "* [1. Sentiment Analysis on Top Mentioned Words](#1.-Sentiment-Analysis-on-Top-Mentioned-Words)\n",
    "* [2. Imports](#2.-Imports)\n",
    "* [3. Data Cleaning & Preparation](#3.-Data-Cleaning-&-Preparation)\n",
    "* [4. Top Mentioned Words](#4.-Top-Mentioned-Words)\n",
    "    * [4.1 KrisFlyer & PPS Club](#4.1-KrisFlyer-&-PPS-Club)\n",
    "    * [4.2 Lounge, Catering, Amenity Kits](#4.2-Lounge,-Catering,-Amenity-Kits)\n",
    "* [5. Sentiment Analysis](#5.-Sentiment-Analysis)\n",
    "    * [5.1 KrisFlyer & PPS Club](#5.1-KrisFlyer-&-PPS-Club)\n",
    "    * [5.2 Lounge, Catering, Amenity Kits](#5.2-Lounge,-Catering,-Amenity-Kits)\n",
    "* [6. Remarks](#6.-Remarks)"
   ]
  },
  {
   "cell_type": "markdown",
   "id": "21a17a58-9f32-429a-af33-da7306ad8aaa",
   "metadata": {},
   "source": [
    "---\n",
    "## 1. Sentiment Analysis on Top Mentioned Words\n",
    "---\n",
    "The objective is to find the top 3 words for SIA's top 2 most-frequently-asked topics of KrisFlyer and PPS Club, and Lounge, Catering and Amenity Kits. Thereafter, analyse the sentiments of these 6 words to help the business prioritise its areas of strengths and/or weaknesses."
   ]
  },
  {
   "cell_type": "markdown",
   "id": "dafed8cb-02a0-4e3a-9a5a-35b9ca5a8386",
   "metadata": {},
   "source": [
    "---\n",
    "## 2. Imports\n",
    "---"
   ]
  },
  {
   "cell_type": "code",
   "execution_count": 1,
   "id": "73752f68-a860-4ac1-bc05-3e1f5dd7ae62",
   "metadata": {},
   "outputs": [],
   "source": [
    "import numpy as np\n",
    "import pandas as pd\n",
    "import spacy\n",
    "from sklearn.feature_extraction.text import CountVectorizer\n",
    "from spacytextblob.spacytextblob import SpacyTextBlob"
   ]
  },
  {
   "cell_type": "markdown",
   "id": "b93d9d67-05c1-48ad-9511-b0e2f65d37ee",
   "metadata": {},
   "source": [
    "---\n",
    "## 3. Data Cleaning & Preparation\n",
    "---"
   ]
  },
  {
   "cell_type": "markdown",
   "id": "9723bced-51b4-4868-ac48-a8f61792e600",
   "metadata": {},
   "source": [
    "- read CSV files"
   ]
  },
  {
   "cell_type": "code",
   "execution_count": 2,
   "id": "f2c566dd-e682-4406-8dcd-8f3fc42752e2",
   "metadata": {
    "scrolled": true,
    "tags": []
   },
   "outputs": [
    {
     "name": "stdout",
     "output_type": "stream",
     "text": [
      "                                           text source\n",
      "0           Qualifying as EG for the first time     kf\n",
      "1           Which FFP for me? Master Discussion     kf\n",
      "2                              #SQMelbourneTram     kf\n",
      "3  Advice sought - Changing redemption bookings     kf\n",
      "4                          First Savers SYD-SIN     kf\n"
     ]
    }
   ],
   "source": [
    "kf_df = pd.read_csv('output/kf_clean.csv')\n",
    "lca_df = pd.read_csv('output/LCA_clean.csv')\n",
    "print(kf_df.head())"
   ]
  },
  {
   "cell_type": "markdown",
   "id": "32e45eb6-da25-4b50-9396-b127db6a682d",
   "metadata": {},
   "source": [
    "- resolve any NA values"
   ]
  },
  {
   "cell_type": "code",
   "execution_count": 3,
   "id": "760f78ee-912b-43fc-9b1a-4fe7d97fbaef",
   "metadata": {},
   "outputs": [
    {
     "name": "stdout",
     "output_type": "stream",
     "text": [
      "text      1\n",
      "source    0\n",
      "dtype: int64\n",
      "text      1\n",
      "source    0\n",
      "dtype: int64\n",
      "text      0\n",
      "source    0\n",
      "dtype: int64\n",
      "text      0\n",
      "source    0\n",
      "dtype: int64\n"
     ]
    }
   ],
   "source": [
    "print(kf_df.isna().sum())\n",
    "print(lca_df.isna().sum())\n",
    "\n",
    "# acceptable to drop 3 NA values out of 44k values\n",
    "kf_df.dropna(inplace=True)\n",
    "lca_df.dropna(inplace=True)\n",
    "\n",
    "# reset index, and drop old index\n",
    "kf_df.reset_index(drop=True, inplace=True)\n",
    "lca_df.reset_index(drop=True, inplace=True)\n",
    "\n",
    "print(kf_df.isna().sum())\n",
    "print(lca_df.isna().sum())"
   ]
  },
  {
   "cell_type": "markdown",
   "id": "9dba40f5-c12a-4568-9ede-7e7406e4b3e7",
   "metadata": {},
   "source": [
    "---\n",
    "## 4. Top Mentioned Words\n",
    "---\n",
    "- extract top words using CountVectorizer"
   ]
  },
  {
   "cell_type": "markdown",
   "id": "8fbdc06a-756a-4215-a94f-c2d6c1b59ffa",
   "metadata": {},
   "source": [
    "- initialise CountVectorizer"
   ]
  },
  {
   "cell_type": "code",
   "execution_count": 5,
   "id": "27232776-fba5-4f4d-bd94-4ce5bae1d414",
   "metadata": {},
   "outputs": [],
   "source": [
    "cvec = CountVectorizer(lowercase=False, stop_words='english')"
   ]
  },
  {
   "cell_type": "markdown",
   "id": "aa360872-2793-477e-b9e7-b7aa006c6e1d",
   "metadata": {},
   "source": [
    "- extract top words"
   ]
  },
  {
   "cell_type": "code",
   "execution_count": 6,
   "id": "24e9af0d-25ea-4816-92d2-5f796cf97a9d",
   "metadata": {},
   "outputs": [],
   "source": [
    "matrix = cvec.fit_transform(kf_df['text'])\n",
    "counts = pd.DataFrame(matrix.toarray(),\n",
    "                      columns=cvec.get_feature_names_out())"
   ]
  },
  {
   "cell_type": "code",
   "execution_count": 8,
   "id": "ecb60b88-832f-4f41-93d2-574f008b8eb7",
   "metadata": {},
   "outputs": [
    {
     "data": {
      "text/html": [
       "<div>\n",
       "<style scoped>\n",
       "    .dataframe tbody tr th:only-of-type {\n",
       "        vertical-align: middle;\n",
       "    }\n",
       "\n",
       "    .dataframe tbody tr th {\n",
       "        vertical-align: top;\n",
       "    }\n",
       "\n",
       "    .dataframe thead th {\n",
       "        text-align: right;\n",
       "    }\n",
       "</style>\n",
       "<table border=\"1\" class=\"dataframe\">\n",
       "  <thead>\n",
       "    <tr style=\"text-align: right;\">\n",
       "      <th></th>\n",
       "      <th>count</th>\n",
       "    </tr>\n",
       "  </thead>\n",
       "  <tbody>\n",
       "    <tr>\n",
       "      <th>miles</th>\n",
       "      <td>8899</td>\n",
       "    </tr>\n",
       "    <tr>\n",
       "      <th>SQ</th>\n",
       "      <td>8627</td>\n",
       "    </tr>\n",
       "    <tr>\n",
       "      <th>posted</th>\n",
       "      <td>7734</td>\n",
       "    </tr>\n",
       "    <tr>\n",
       "      <th>Originally</th>\n",
       "      <td>7367</td>\n",
       "    </tr>\n",
       "    <tr>\n",
       "      <th>PPS</th>\n",
       "      <td>5771</td>\n",
       "    </tr>\n",
       "    <tr>\n",
       "      <th>SIN</th>\n",
       "      <td>4730</td>\n",
       "    </tr>\n",
       "    <tr>\n",
       "      <th>flight</th>\n",
       "      <td>3692</td>\n",
       "    </tr>\n",
       "    <tr>\n",
       "      <th>KF</th>\n",
       "      <td>3616</td>\n",
       "    </tr>\n",
       "    <tr>\n",
       "      <th>just</th>\n",
       "      <td>3547</td>\n",
       "    </tr>\n",
       "    <tr>\n",
       "      <th>year</th>\n",
       "      <td>2822</td>\n",
       "    </tr>\n",
       "  </tbody>\n",
       "</table>\n",
       "</div>"
      ],
      "text/plain": [
       "            count\n",
       "miles        8899\n",
       "SQ           8627\n",
       "posted       7734\n",
       "Originally   7367\n",
       "PPS          5771\n",
       "SIN          4730\n",
       "flight       3692\n",
       "KF           3616\n",
       "just         3547\n",
       "year         2822"
      ]
     },
     "execution_count": 8,
     "metadata": {},
     "output_type": "execute_result"
    }
   ],
   "source": [
    "top_words_kf = counts.sum().sort_values(ascending=False)\n",
    "top_words_kf = pd.DataFrame(top_words_kf, columns=['count'])\n",
    "top_words_kf.head(10)"
   ]
  },
  {
   "cell_type": "markdown",
   "id": "71d903c1-c593-4e7d-8834-9cf79dfe6061",
   "metadata": {},
   "source": [
    "## 4.2 Lounge, Catering, Amenity Kits"
   ]
  },
  {
   "cell_type": "markdown",
   "id": "1398ebf8-05bf-4049-91fa-a37bab4a9cef",
   "metadata": {},
   "source": [
    "- extract top words"
   ]
  },
  {
   "cell_type": "code",
   "execution_count": 9,
   "id": "32c0968e-27ad-4f26-acc0-862df0660ff7",
   "metadata": {},
   "outputs": [],
   "source": [
    "matrix = cvec.fit_transform(lca_df['text'])\n",
    "counts = pd.DataFrame(matrix.toarray(),\n",
    "                      columns=cvec.get_feature_names_out())"
   ]
  },
  {
   "cell_type": "code",
   "execution_count": 10,
   "id": "3ecbbcc8-e7d0-4af0-a5e6-87a2af0d3a73",
   "metadata": {},
   "outputs": [
    {
     "data": {
      "text/html": [
       "<div>\n",
       "<style scoped>\n",
       "    .dataframe tbody tr th:only-of-type {\n",
       "        vertical-align: middle;\n",
       "    }\n",
       "\n",
       "    .dataframe tbody tr th {\n",
       "        vertical-align: top;\n",
       "    }\n",
       "\n",
       "    .dataframe thead th {\n",
       "        text-align: right;\n",
       "    }\n",
       "</style>\n",
       "<table border=\"1\" class=\"dataframe\">\n",
       "  <thead>\n",
       "    <tr style=\"text-align: right;\">\n",
       "      <th></th>\n",
       "      <th>count</th>\n",
       "    </tr>\n",
       "  </thead>\n",
       "  <tbody>\n",
       "    <tr>\n",
       "      <th>SIN</th>\n",
       "      <td>7319</td>\n",
       "    </tr>\n",
       "    <tr>\n",
       "      <th>lounge</th>\n",
       "      <td>4650</td>\n",
       "    </tr>\n",
       "    <tr>\n",
       "      <th>SQ</th>\n",
       "      <td>4337</td>\n",
       "    </tr>\n",
       "    <tr>\n",
       "      <th>posted</th>\n",
       "      <td>3819</td>\n",
       "    </tr>\n",
       "    <tr>\n",
       "      <th>Originally</th>\n",
       "      <td>3637</td>\n",
       "    </tr>\n",
       "    <tr>\n",
       "      <th>The</th>\n",
       "      <td>2213</td>\n",
       "    </tr>\n",
       "    <tr>\n",
       "      <th>served</th>\n",
       "      <td>2031</td>\n",
       "    </tr>\n",
       "    <tr>\n",
       "      <th>chicken</th>\n",
       "      <td>1928</td>\n",
       "    </tr>\n",
       "    <tr>\n",
       "      <th>flight</th>\n",
       "      <td>1872</td>\n",
       "    </tr>\n",
       "    <tr>\n",
       "      <th>vegetables</th>\n",
       "      <td>1805</td>\n",
       "    </tr>\n",
       "  </tbody>\n",
       "</table>\n",
       "</div>"
      ],
      "text/plain": [
       "            count\n",
       "SIN          7319\n",
       "lounge       4650\n",
       "SQ           4337\n",
       "posted       3819\n",
       "Originally   3637\n",
       "The          2213\n",
       "served       2031\n",
       "chicken      1928\n",
       "flight       1872\n",
       "vegetables   1805"
      ]
     },
     "execution_count": 10,
     "metadata": {},
     "output_type": "execute_result"
    }
   ],
   "source": [
    "top_words_lca = counts.sum().sort_values(ascending=False)\n",
    "top_words_lca = pd.DataFrame(top_words_lca, columns=['count'])\n",
    "top_words_lca.head(10)"
   ]
  },
  {
   "cell_type": "markdown",
   "id": "4519af2b-a1b7-4215-b558-95dbe7097449",
   "metadata": {},
   "source": [
    "---\n",
    "## 5. Sentiment Analysis\n",
    "---"
   ]
  },
  {
   "cell_type": "markdown",
   "id": "cc00efe7-a42a-4466-838f-5ea454fb8fa4",
   "metadata": {},
   "source": [
    "## 5.1 KrisFlyer & PPS Club"
   ]
  },
  {
   "cell_type": "markdown",
   "id": "cdc0e4fa-7df1-4cda-9167-075dd6312779",
   "metadata": {},
   "source": [
    "- top 3 words selected words based on relevance are: miles, PPS, KF\n",
    "- find text in kf_df that contains the top 3 words"
   ]
  },
  {
   "cell_type": "code",
   "execution_count": 11,
   "id": "6cb9bd70-31d8-46f4-9691-7a7b12445b50",
   "metadata": {},
   "outputs": [],
   "source": [
    "miles_df = [sent for sent in kf_df['text'] if 'miles' in str(sent)]\n",
    "pps_df = [sent for sent in kf_df['text'] if 'PPS' in str(sent)]\n",
    "kris_df = [sent for sent in kf_df['text'] if 'KF' in str(sent)]"
   ]
  },
  {
   "cell_type": "markdown",
   "id": "958792ca-bfaf-4cb4-b698-438c5ab73343",
   "metadata": {},
   "source": [
    "- change list to df type"
   ]
  },
  {
   "cell_type": "code",
   "execution_count": 14,
   "id": "559ff9e2-464d-4ef1-bbe2-932becc03df6",
   "metadata": {},
   "outputs": [
    {
     "name": "stdout",
     "output_type": "stream",
     "text": [
      "                                                text\n",
      "0            request to cancel miles (FQTV and FQTS)\n",
      "1       Mix miles with cash - credit to another FFP?\n",
      "2     Collecting SQ miles with KF or Alaska Airlines\n",
      "3            Earning Krisflyer miles on Scoot flight\n",
      "4  Change in accrual of KrisFlyer Elite miles on ...\n",
      "(4338, 1)\n",
      "(3323, 1)\n",
      "(2498, 1)\n"
     ]
    }
   ],
   "source": [
    "miles_df = pd.DataFrame(miles_df, columns=['text'])\n",
    "pps_df = pd.DataFrame(pps_df, columns=['text'])\n",
    "kris_df = pd.DataFrame(kris_df, columns=['text'])\n",
    "\n",
    "print(miles_df.head())\n",
    "print(miles_df.shape)\n",
    "print(pps_df.shape)\n",
    "print(kris_df.shape)"
   ]
  },
  {
   "cell_type": "markdown",
   "id": "c7f4db4c-2cf5-48e8-beb7-d6082579647b",
   "metadata": {},
   "source": [
    "- conduct sentiment analysis of the top 3 words"
   ]
  },
  {
   "cell_type": "code",
   "execution_count": 15,
   "id": "b7a63111-0b01-4ba9-a4f7-fe1e7d49e77f",
   "metadata": {},
   "outputs": [
    {
     "data": {
      "text/plain": [
       "<spacytextblob.spacytextblob.SpacyTextBlob at 0x16f004199a0>"
      ]
     },
     "execution_count": 15,
     "metadata": {},
     "output_type": "execute_result"
    }
   ],
   "source": [
    "nlp = spacy.load('en_core_web_sm')\n",
    "nlp.add_pipe('spacytextblob')"
   ]
  },
  {
   "cell_type": "code",
   "execution_count": 16,
   "id": "3cf48261-88fd-49a7-a1d5-34483c18443c",
   "metadata": {},
   "outputs": [],
   "source": [
    "# define function to predict sentiment\n",
    "def sentiment_pred(comment):\n",
    "    spacy_output = nlp(comment)\n",
    "    \n",
    "    if spacy_output._.polarity < -0.5:\n",
    "        # very negative\n",
    "        return 1\n",
    "    if spacy_output._.polarity < -0.1 and spacy_output._.polarity >= -0.5:\n",
    "        # negative\n",
    "        return 2\n",
    "    if spacy_output._.polarity < 0.1 and spacy_output._.polarity >= -0.1:\n",
    "        # neutral\n",
    "        return 3\n",
    "    if spacy_output._.polarity < 0.5 and spacy_output._.polarity >= 0.1:\n",
    "        # positive\n",
    "        return 4\n",
    "    else:\n",
    "        # very positive\n",
    "        return 5"
   ]
  },
  {
   "cell_type": "code",
   "execution_count": 17,
   "id": "8864b228-d3c2-41ad-86d1-5b68c525cc6b",
   "metadata": {},
   "outputs": [
    {
     "name": "stdout",
     "output_type": "stream",
     "text": [
      "                                                text  sentiment_pred\n",
      "0            request to cancel miles (FQTV and FQTS)               3\n",
      "1       Mix miles with cash - credit to another FFP?               3\n",
      "2     Collecting SQ miles with KF or Alaska Airlines               3\n",
      "3            Earning Krisflyer miles on Scoot flight               3\n",
      "4  Change in accrual of KrisFlyer Elite miles on ...               3\n",
      "4    0.582757\n",
      "3    0.343937\n",
      "2    0.039650\n",
      "5    0.031812\n",
      "1    0.001844\n",
      "Name: sentiment_pred, dtype: float64 \n",
      "\n",
      "4    0.558231\n",
      "3    0.374060\n",
      "2    0.042732\n",
      "5    0.024075\n",
      "1    0.000903\n",
      "Name: sentiment_pred, dtype: float64 \n",
      "\n",
      "4    0.550440\n",
      "3    0.376301\n",
      "2    0.039231\n",
      "5    0.032026\n",
      "1    0.002002\n",
      "Name: sentiment_pred, dtype: float64\n"
     ]
    }
   ],
   "source": [
    "miles_df['sentiment_pred'] = miles_df['text'].apply(sentiment_pred)\n",
    "pps_df['sentiment_pred'] = pps_df['text'].apply(sentiment_pred)\n",
    "kris_df['sentiment_pred'] = kris_df['text'].apply(sentiment_pred)\n",
    "\n",
    "print(miles_df.head())\n",
    "print(miles_df['sentiment_pred'].value_counts(normalize=True), '\\n')\n",
    "print(pps_df['sentiment_pred'].value_counts(normalize=True), '\\n')\n",
    "print(kris_df['sentiment_pred'].value_counts(normalize=True))"
   ]
  },
  {
   "cell_type": "markdown",
   "id": "dd300eec-ae0a-4598-9aff-4d9ab518a2da",
   "metadata": {},
   "source": [
    "## 5.2 Lounge, Catering, Amenity Kits"
   ]
  },
  {
   "cell_type": "markdown",
   "id": "fb000c9c-5d35-485c-a005-6602074de17a",
   "metadata": {},
   "source": [
    "- top 3 words selected words based on relevance are: 'lounge', 'SQ', 'served'\n",
    "- find text in lca_df that contains the top 3 words"
   ]
  },
  {
   "cell_type": "code",
   "execution_count": 18,
   "id": "2c075729-9edb-4b8e-a9a4-022367e7edba",
   "metadata": {},
   "outputs": [],
   "source": [
    "lounge_df = [sent for sent in lca_df['text'] if 'lounge' in str(sent)]\n",
    "sq_df = [sent for sent in lca_df['text'] if 'SQ' in str(sent)]\n",
    "served_df = [sent for sent in lca_df['text'] if 'served' in str(sent)]"
   ]
  },
  {
   "cell_type": "markdown",
   "id": "150559a3-629d-4c2d-8f47-860f1f0ef8b2",
   "metadata": {},
   "source": [
    "- change list to df"
   ]
  },
  {
   "cell_type": "code",
   "execution_count": 20,
   "id": "4bbea5ed-2c32-48b8-b753-30b3ad685048",
   "metadata": {},
   "outputs": [
    {
     "name": "stdout",
     "output_type": "stream",
     "text": [
      "                                                text\n",
      "0                                MUC - Which lounge?\n",
      "1           Best pay-access lounge at Changi airport\n",
      "2                               [ZRH] Suites lounge?\n",
      "3  New dim sum corner at Krisflyer Gold lounge @ ...\n",
      "4            MAN lounge access on SQ Y as non-SQ *G?\n",
      "(2728, 1)\n",
      "(4562, 1)\n",
      "(1057, 1)\n"
     ]
    }
   ],
   "source": [
    "lounge_df = pd.DataFrame(lounge_df, columns=['text'])\n",
    "sq_df = pd.DataFrame(sq_df, columns=['text'])\n",
    "served_df = pd.DataFrame(served_df, columns=['text'])\n",
    "\n",
    "print(lounge_df.head())\n",
    "print(lounge_df.shape)\n",
    "print(sq_df.shape)\n",
    "print(served_df.shape)"
   ]
  },
  {
   "cell_type": "markdown",
   "id": "0a748ef4-7e39-44d1-b78b-e7a7aa112f10",
   "metadata": {},
   "source": [
    "- conduct sentiment analysis of the top 3 words"
   ]
  },
  {
   "cell_type": "code",
   "execution_count": 21,
   "id": "7ad20637-6b22-4118-a27b-6dd43b885e1a",
   "metadata": {},
   "outputs": [
    {
     "name": "stdout",
     "output_type": "stream",
     "text": [
      "4    0.549487\n",
      "3    0.366569\n",
      "2    0.050220\n",
      "5    0.031891\n",
      "1    0.001833\n",
      "Name: sentiment_pred, dtype: float64 \n",
      "\n",
      "4    0.446076\n",
      "3    0.423937\n",
      "2    0.087023\n",
      "5    0.029811\n",
      "1    0.013152\n",
      "Name: sentiment_pred, dtype: float64 \n",
      "\n",
      "3    0.561022\n",
      "4    0.294229\n",
      "2    0.116367\n",
      "1    0.017975\n",
      "5    0.010407\n",
      "Name: sentiment_pred, dtype: float64\n"
     ]
    }
   ],
   "source": [
    "lounge_df['sentiment_pred'] = lounge_df['text'].apply(sentiment_pred)\n",
    "sq_df['sentiment_pred'] = sq_df['text'].apply(sentiment_pred)\n",
    "served_df['sentiment_pred'] = served_df['text'].apply(sentiment_pred)\n",
    "\n",
    "print(lounge_df['sentiment_pred'].value_counts(normalize=True), '\\n')\n",
    "print(sq_df['sentiment_pred'].value_counts(normalize=True), '\\n')\n",
    "print(served_df['sentiment_pred'].value_counts(normalize=True))"
   ]
  },
  {
   "cell_type": "markdown",
   "id": "2cdd037c-a3da-4963-ac70-bae47e6c1ef2",
   "metadata": {},
   "source": [
    "---\n",
    "## 6. Remarks\n",
    "---"
   ]
  },
  {
   "cell_type": "markdown",
   "id": "7402f302-f093-45fe-a772-4e3bdb7b6155",
   "metadata": {},
   "source": [
    "| Sentiment Score  | KrisFlyer<br>'miles' | KrisFlyer<br>'PPS' | KrisFlyer<br>'KF' | LCA<br>'lounge' | LCA<br>'SQ' | LCA<br>'served' |\n",
    "|------------------|---------------------------|-------------------|---------------------|-------------------|-------------|------------------|\n",
    "| Very negative (1) | <0.1                         | <0.1                 | <0.1                | <0.1                 | <0.1        | <0.1                |\n",
    "| Negative (2)      | <0.1                         | <0.1              | <0.1                | <0.1                 | 0.1         | 0.1                |\n",
    "| Neutral (3)       | 0.3                       | 0.4               | 0.4                 | 0.4               | 0.4         | 0.6              |\n",
    "| Positive (4)      | 0.6                       | 0.6               | 0.6                 | 0.5               | 0.4         | 0.3              |\n",
    "| Very positive (5) | <0.1                         | <0.1              | <0.1                | <0.1                 | <0.1        | <0.1             |\n",
    "| Overall:         | Positive                  | Positive          | Positive            | Positive           | Positive    | Positive         |\n",
    "\n",
    "- due to rounding, the total sentiment score for each word may not add up to 1"
   ]
  },
  {
   "cell_type": "markdown",
   "id": "cc3818a3-bd11-4fe1-9bfd-1cb6ceb4ab40",
   "metadata": {},
   "source": [
    "- the comments that contained the top words for both KF and LCA are positive. The results suggest that:\n",
    "    - 'miles': may be positive about the mile earned per dollar spent, and/or deals that can be exchanged with miles\n",
    "    - 'PPS': may be positive about the PPS membership experience (e.g. exclusive deals, priority services)\n",
    "    - 'KF': may be positive about the KrisFlyer membership experience (e.g. exclusive deals, priority services)\n",
    "    - 'lounge': may be positive about the lounge experience (e.g. cleanliness, service level, etc.)\n",
    "    - 'SQ': may be positive about SQ's lounge, catering, amenity kits (e.g. cleanliness, service level, etc.)\n",
    "    - 'served': may be positive about the items served (e.g. food, amenity kits)\n",
    "<br>\n",
    "<br>\n",
    "- a separate deep-dive into the comments that contained the top words can be conducted to find out the reasons why the comments were positive (under future areas of improvement)"
   ]
  }
 ],
 "metadata": {
  "kernelspec": {
   "display_name": "Python 3 (ipykernel)",
   "language": "python",
   "name": "python3"
  },
  "language_info": {
   "codemirror_mode": {
    "name": "ipython",
    "version": 3
   },
   "file_extension": ".py",
   "mimetype": "text/x-python",
   "name": "python",
   "nbconvert_exporter": "python",
   "pygments_lexer": "ipython3",
   "version": "3.8.13"
  }
 },
 "nbformat": 4,
 "nbformat_minor": 5
}
