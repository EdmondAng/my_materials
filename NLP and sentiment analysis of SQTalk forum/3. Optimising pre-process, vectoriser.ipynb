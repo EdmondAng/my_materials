{
 "cells": [
  {
   "cell_type": "markdown",
   "id": "0aee3e63",
   "metadata": {},
   "source": [
    "## Contents\n",
    "* [1. Optimise Pre-Processing & Vectoriser](#1.-Optimise-Pre-Processing-&-Vectoriser)\n",
    "* [2. Imports](#2.-Imports)\n",
    "* [3. Data Cleaning & Preparation](#3.-Data-Cleaning-&-Preparation)\n",
    "* [4. Model Fit & Predict](#4.-Model-Fit-&-Predict)\n",
    "    * [4.1 Alternate 1](#4.1-Alternate-1)\n",
    "    * [4.2 Alternate 2](#4.2-Alternate-2)\n",
    "    * [4.3 Alternate 3](#4.3-Alternate-3)\n",
    "* [5. Remarks](#5.-Remarks)"
   ]
  },
  {
   "cell_type": "markdown",
   "id": "cbeb47a7",
   "metadata": {},
   "source": [
    "---\n",
    "## 1. Optimise Pre-Processing & Vectoriser\n",
    "---\n",
    "Objective: to compare the following models to determine the best combination of pre-processing and vectoriser, before deciding on the best model to use:\n",
    "\n",
    "|                | Baseline Model          | Alternate 1             | Alternate 2                                       | Alternate 3                                       |\n",
    "|----------------|-------------------------|-------------------------|---------------------------------------------------|---------------------------------------------------|\n",
    "| Pre-processing | - Basic cleaning        | - Basic cleaning        | - Basic cleaning<br>- Remove duplicated sentences | - Basic cleaning<br>- Remove duplicated sentences |\n",
    "| Vectoriser     | CountVectoriser         | TFIDF                   | CountVectoriser                                   | TFIDF                                             |\n",
    "| Model          | Multinomial Naive Bayes | Multinomial Naive Bayes | Multinomial Naive Bayes                           | Multinomial Naive Bayes                           |\n",
    "\n",
    "Note: the code below was ran on Kaggle, to make use of Kaggle GPUs."
   ]
  },
  {
   "cell_type": "markdown",
   "id": "4bcebe20",
   "metadata": {},
   "source": [
    "---\n",
    "## 2. Imports\n",
    "---"
   ]
  },
  {
   "cell_type": "code",
   "execution_count": 128,
   "id": "e3756948",
   "metadata": {
    "execution": {
     "iopub.execute_input": "2023-01-25T14:05:04.605146Z",
     "iopub.status.busy": "2023-01-25T14:05:04.604742Z",
     "iopub.status.idle": "2023-01-25T14:05:04.612013Z",
     "shell.execute_reply": "2023-01-25T14:05:04.610682Z",
     "shell.execute_reply.started": "2023-01-25T14:05:04.605112Z"
    }
   },
   "outputs": [],
   "source": [
    "import numpy as np\n",
    "import pandas as pd\n",
    "from nltk.corpus import stopwords\n",
    "from nltk.tokenize import sent_tokenize\n",
    "from sklearn.model_selection import train_test_split\n",
    "from sklearn.naive_bayes import MultinomialNB\n",
    "from sklearn.multiclass import OneVsRestClassifier as ovr\n",
    "from sklearn.metrics import confusion_matrix, ConfusionMatrixDisplay,classification_report, roc_auc_score, f1_score\n",
    "from sklearn.feature_extraction.text import CountVectorizer, TfidfVectorizer"
   ]
  },
  {
   "cell_type": "markdown",
   "id": "764cdfc5",
   "metadata": {},
   "source": [
    "---\n",
    "## 3. Data Cleaning & Preparation\n",
    "---"
   ]
  },
  {
   "cell_type": "markdown",
   "id": "9d2412b0",
   "metadata": {},
   "source": [
    "- read CSV files"
   ]
  },
  {
   "cell_type": "code",
   "execution_count": 129,
   "id": "f4726c33",
   "metadata": {
    "execution": {
     "iopub.execute_input": "2023-01-25T14:05:04.618707Z",
     "iopub.status.busy": "2023-01-25T14:05:04.618378Z",
     "iopub.status.idle": "2023-01-25T14:05:04.791476Z",
     "shell.execute_reply": "2023-01-25T14:05:04.790219Z",
     "shell.execute_reply.started": "2023-01-25T14:05:04.618640Z"
    }
   },
   "outputs": [
    {
     "data": {
      "text/html": [
       "<div>\n",
       "<style scoped>\n",
       "    .dataframe tbody tr th:only-of-type {\n",
       "        vertical-align: middle;\n",
       "    }\n",
       "\n",
       "    .dataframe tbody tr th {\n",
       "        vertical-align: top;\n",
       "    }\n",
       "\n",
       "    .dataframe thead th {\n",
       "        text-align: right;\n",
       "    }\n",
       "</style>\n",
       "<table border=\"1\" class=\"dataframe\">\n",
       "  <thead>\n",
       "    <tr style=\"text-align: right;\">\n",
       "      <th></th>\n",
       "      <th>text</th>\n",
       "      <th>source</th>\n",
       "    </tr>\n",
       "  </thead>\n",
       "  <tbody>\n",
       "    <tr>\n",
       "      <th>0</th>\n",
       "      <td>Qualifying as EG for the first time</td>\n",
       "      <td>kf</td>\n",
       "    </tr>\n",
       "    <tr>\n",
       "      <th>1</th>\n",
       "      <td>Which FFP for me? Master Discussion</td>\n",
       "      <td>kf</td>\n",
       "    </tr>\n",
       "    <tr>\n",
       "      <th>2</th>\n",
       "      <td>#SQMelbourneTram</td>\n",
       "      <td>kf</td>\n",
       "    </tr>\n",
       "    <tr>\n",
       "      <th>3</th>\n",
       "      <td>Advice sought - Changing redemption bookings</td>\n",
       "      <td>kf</td>\n",
       "    </tr>\n",
       "    <tr>\n",
       "      <th>4</th>\n",
       "      <td>First Savers SYD-SIN</td>\n",
       "      <td>kf</td>\n",
       "    </tr>\n",
       "  </tbody>\n",
       "</table>\n",
       "</div>"
      ],
      "text/plain": [
       "                                           text source\n",
       "0           Qualifying as EG for the first time     kf\n",
       "1           Which FFP for me? Master Discussion     kf\n",
       "2                              #SQMelbourneTram     kf\n",
       "3  Advice sought - Changing redemption bookings     kf\n",
       "4                          First Savers SYD-SIN     kf"
      ]
     },
     "execution_count": 129,
     "metadata": {},
     "output_type": "execute_result"
    }
   ],
   "source": [
    "kf_df = pd.read_csv('/kaggle/input/sq-services/kf_clean.csv')\n",
    "lca_df = pd.read_csv('/kaggle/input/sq-services/LCA_clean.csv')\n",
    "other_df = pd.read_csv('/kaggle/input/sq-services/other_clean.csv')\n",
    "kf_df.head()"
   ]
  },
  {
   "cell_type": "markdown",
   "id": "b0850e9e",
   "metadata": {},
   "source": [
    "- prepare df to remove duplicated sentences (for alternate 2 and 3 approaches)\n",
    "- tokenise text into sentences, remove duplicate sentences\n",
    "    - in the SQTalk forum, when person A replies to person B's comment, person A's comment will start with a word-for-word quote of person B's comment\n",
    "    - the strategy is to tokenise the text by sentences, then remove any repeated sentences to remove such repetitive quotes"
   ]
  },
  {
   "cell_type": "code",
   "execution_count": 130,
   "id": "ae8ab0ce",
   "metadata": {
    "execution": {
     "iopub.execute_input": "2023-01-25T14:05:04.794138Z",
     "iopub.status.busy": "2023-01-25T14:05:04.793693Z",
     "iopub.status.idle": "2023-01-25T14:05:08.975539Z",
     "shell.execute_reply": "2023-01-25T14:05:08.974592Z",
     "shell.execute_reply.started": "2023-01-25T14:05:04.794101Z"
    },
    "scrolled": true
   },
   "outputs": [
    {
     "name": "stdout",
     "output_type": "stream",
     "text": [
      "kf_df had 60029 rows\n",
      "After removing duplicates, kf_df has 52412 rows\n",
      "lca_df had 29538 rows\n",
      "After removing duplicates, lca_df has 26655 rows\n",
      "other_df had 48456 rows\n",
      "After removing duplicates, other_df has 48456 rows\n"
     ]
    }
   ],
   "source": [
    "# for kf dataset\n",
    "temp_df = []\n",
    "\n",
    "for text in kf_df['text']:\n",
    "    for sent in sent_tokenize(str(text)):\n",
    "        temp_df.append(sent)\n",
    "\n",
    "kf_sent_df = pd.DataFrame(data=temp_df, columns=['sent'])\n",
    "print(f\"kf_df had {kf_sent_df.shape[0]} rows\")\n",
    "kf_sent_df.drop_duplicates(inplace=True)\n",
    "print(f\"After removing duplicates, kf_df has {kf_sent_df.shape[0]} rows\")\n",
    "\n",
    "# for lca dataset\n",
    "temp_df = []\n",
    "\n",
    "for text in lca_df['text']:\n",
    "    for sent in sent_tokenize(str(text)):\n",
    "        temp_df.append(sent)\n",
    "\n",
    "lca_sent_df = pd.DataFrame(data=temp_df, columns=['sent'])\n",
    "print(f\"lca_df had {lca_sent_df.shape[0]} rows\")\n",
    "lca_sent_df.drop_duplicates(inplace=True)\n",
    "print(f\"After removing duplicates, lca_df has {lca_sent_df.shape[0]} rows\")\n",
    "\n",
    "# for other dataset\n",
    "temp_df = []\n",
    "\n",
    "for text in other_df['text']:\n",
    "    for sent in sent_tokenize(str(text)):\n",
    "        temp_df.append(sent)\n",
    "\n",
    "other_sent_df = pd.DataFrame(data=temp_df, columns=['sent'])\n",
    "print(f\"other_df had {other_sent_df.shape[0]} rows\")\n",
    "kf_sent_df.drop_duplicates(inplace=True)\n",
    "print(f\"After removing duplicates, other_df has {other_sent_df.shape[0]} rows\")"
   ]
  },
  {
   "cell_type": "markdown",
   "id": "5b24ff67",
   "metadata": {},
   "source": [
    "- reassign 'source' column, and combine into 1 dataframe"
   ]
  },
  {
   "cell_type": "code",
   "execution_count": 131,
   "id": "3b4d055d",
   "metadata": {
    "execution": {
     "iopub.execute_input": "2023-01-25T14:05:08.982409Z",
     "iopub.status.busy": "2023-01-25T14:05:08.979748Z",
     "iopub.status.idle": "2023-01-25T14:05:09.001974Z",
     "shell.execute_reply": "2023-01-25T14:05:09.000845Z",
     "shell.execute_reply.started": "2023-01-25T14:05:08.982371Z"
    }
   },
   "outputs": [
    {
     "data": {
      "text/plain": [
       "(127523, 2)"
      ]
     },
     "execution_count": 131,
     "metadata": {},
     "output_type": "execute_result"
    }
   ],
   "source": [
    "kf_sent_df['source'] = 'kf'\n",
    "lca_sent_df['source'] = 'lca'\n",
    "other_sent_df['source'] = 'other'\n",
    "\n",
    "services_df = pd.concat([kf_sent_df, lca_sent_df, other_sent_df])\n",
    "services_df.shape"
   ]
  },
  {
   "cell_type": "markdown",
   "id": "16c092be",
   "metadata": {},
   "source": [
    "- check for and resolve any NA values"
   ]
  },
  {
   "cell_type": "code",
   "execution_count": 132,
   "id": "7cf16fe9",
   "metadata": {
    "execution": {
     "iopub.execute_input": "2023-01-25T14:05:09.012747Z",
     "iopub.status.busy": "2023-01-25T14:05:09.008081Z",
     "iopub.status.idle": "2023-01-25T14:05:09.084662Z",
     "shell.execute_reply": "2023-01-25T14:05:09.083559Z",
     "shell.execute_reply.started": "2023-01-25T14:05:09.011668Z"
    }
   },
   "outputs": [
    {
     "name": "stdout",
     "output_type": "stream",
     "text": [
      "sent      0\n",
      "source    0\n",
      "dtype: int64\n",
      "sent      0\n",
      "source    0\n",
      "dtype: int64\n"
     ]
    }
   ],
   "source": [
    "print(services_df.isna().sum())\n",
    "\n",
    "# acceptable to drop 3 NA values out of 44k values\n",
    "services_df.dropna(inplace=True)\n",
    "# reset index, and drop old index\n",
    "services_df.reset_index(drop=True, inplace=True)\n",
    "\n",
    "print(services_df.isna().sum())"
   ]
  },
  {
   "cell_type": "markdown",
   "id": "1a64d2c9",
   "metadata": {},
   "source": [
    "- create a 'kf' column: \n",
    "    - if value = 0, the source is others\n",
    "    - if value = 1, the source is kf\n",
    "    - if value = 2, the source is from LCA"
   ]
  },
  {
   "cell_type": "code",
   "execution_count": 133,
   "id": "cd3b6e0f",
   "metadata": {
    "execution": {
     "iopub.execute_input": "2023-01-25T14:05:09.086574Z",
     "iopub.status.busy": "2023-01-25T14:05:09.086037Z",
     "iopub.status.idle": "2023-01-25T14:05:09.106222Z",
     "shell.execute_reply": "2023-01-25T14:05:09.105278Z",
     "shell.execute_reply.started": "2023-01-25T14:05:09.086537Z"
    }
   },
   "outputs": [
    {
     "name": "stdout",
     "output_type": "stream",
     "text": [
      "                                           sent source  y_true\n",
      "0           Qualifying as EG for the first time     kf       1\n",
      "1                             Which FFP for me?     kf       1\n",
      "2                             Master Discussion     kf       1\n",
      "3                              #SQMelbourneTram     kf       1\n",
      "4  Advice sought - Changing redemption bookings     kf       1\n"
     ]
    },
    {
     "data": {
      "text/plain": [
       "1    0.411000\n",
       "0    0.379979\n",
       "2    0.209021\n",
       "Name: y_true, dtype: float64"
      ]
     },
     "execution_count": 133,
     "metadata": {},
     "output_type": "execute_result"
    }
   ],
   "source": [
    "services_df['y_true'] = services_df['source'].map({'other':0, 'kf': 1, 'lca': 2})\n",
    "print(services_df.head())\n",
    "services_df['y_true'].value_counts(normalize=True)"
   ]
  },
  {
   "cell_type": "markdown",
   "id": "78adeae7",
   "metadata": {},
   "source": [
    "- add selected words to stopwords, taken from [\"SQTalk Abbreviations, Slangs, Definitions, Phrases\"](http://www.sqtalk.com/forum/forum/general/sqtalk-community/1010-) thread\n",
    "- the thread only contained a few more stop words (added below). I scanned through the forum manually, and noticed that the comments were largely in proper English (i.e. properly spelled, without use of Singlish). This may be due to the possible more affluent customer base of SIA"
   ]
  },
  {
   "cell_type": "code",
   "execution_count": 134,
   "id": "e17e8610",
   "metadata": {
    "execution": {
     "iopub.execute_input": "2023-01-25T14:05:09.108220Z",
     "iopub.status.busy": "2023-01-25T14:05:09.107632Z",
     "iopub.status.idle": "2023-01-25T14:05:09.116948Z",
     "shell.execute_reply": "2023-01-25T14:05:09.115945Z",
     "shell.execute_reply.started": "2023-01-25T14:05:09.108183Z"
    },
    "scrolled": true
   },
   "outputs": [],
   "source": [
    "cvec = CountVectorizer(max_features = 500, stop_words = 'english') \n",
    "custom_stopwords = [word for word in cvec.get_stop_words()]\n",
    "custom_stopwords.extend(['btw','iirc','imo','imho'])"
   ]
  },
  {
   "cell_type": "markdown",
   "id": "984fd084",
   "metadata": {},
   "source": [
    "- prepare untreated df (for alternate 1 approach)"
   ]
  },
  {
   "cell_type": "code",
   "execution_count": 135,
   "id": "bdd53bcb",
   "metadata": {
    "execution": {
     "iopub.execute_input": "2023-01-25T14:05:09.119493Z",
     "iopub.status.busy": "2023-01-25T14:05:09.118382Z",
     "iopub.status.idle": "2023-01-25T14:05:09.150988Z",
     "shell.execute_reply": "2023-01-25T14:05:09.149952Z",
     "shell.execute_reply.started": "2023-01-25T14:05:09.119456Z"
    }
   },
   "outputs": [
    {
     "name": "stdout",
     "output_type": "stream",
     "text": [
      "text      3\n",
      "source    0\n",
      "dtype: int64\n",
      "text      0\n",
      "source    0\n",
      "dtype: int64\n"
     ]
    }
   ],
   "source": [
    "services_untreated_df = pd.concat([kf_df, lca_df, other_df])\n",
    "\n",
    "print(services_untreated_df.isna().sum())\n",
    "\n",
    "# acceptable to drop 3 NA values out of 44k values\n",
    "services_untreated_df.dropna(inplace=True)\n",
    "# reset index, and drop old index\n",
    "services_untreated_df.reset_index(drop=True, inplace=True)\n",
    "\n",
    "print(services_untreated_df.isna().sum())"
   ]
  },
  {
   "cell_type": "markdown",
   "id": "d7eb9485",
   "metadata": {},
   "source": [
    "- create a 'kf' column: \n",
    "    - if value = 0, the source is others\n",
    "    - if value = 1, the source is kf\n",
    "    - if value = 2, the source is from LCA"
   ]
  },
  {
   "cell_type": "code",
   "execution_count": 136,
   "id": "fab857e0",
   "metadata": {
    "execution": {
     "iopub.execute_input": "2023-01-25T14:05:09.153100Z",
     "iopub.status.busy": "2023-01-25T14:05:09.152445Z",
     "iopub.status.idle": "2023-01-25T14:05:09.167200Z",
     "shell.execute_reply": "2023-01-25T14:05:09.165950Z",
     "shell.execute_reply.started": "2023-01-25T14:05:09.153063Z"
    }
   },
   "outputs": [
    {
     "data": {
      "text/plain": [
       "1    0.402724\n",
       "0    0.353570\n",
       "2    0.243706\n",
       "Name: y_true, dtype: float64"
      ]
     },
     "execution_count": 136,
     "metadata": {},
     "output_type": "execute_result"
    }
   ],
   "source": [
    "services_untreated_df['y_true'] = services_untreated_df['source'].map({'other':0, 'kf': 1, 'lca': 2})\n",
    "services_untreated_df['y_true'].value_counts(normalize=True)"
   ]
  },
  {
   "cell_type": "markdown",
   "id": "83e0d8be",
   "metadata": {},
   "source": [
    "---\n",
    "## 4. Model Fit & Predict\n",
    "---"
   ]
  },
  {
   "cell_type": "markdown",
   "id": "55ba57e4",
   "metadata": {},
   "source": [
    "## 4.1 Alternate 1\n",
    "### - using TFIDF and Multinomial NB"
   ]
  },
  {
   "cell_type": "code",
   "execution_count": 137,
   "id": "f50a9667",
   "metadata": {
    "execution": {
     "iopub.execute_input": "2023-01-25T14:05:09.169564Z",
     "iopub.status.busy": "2023-01-25T14:05:09.168929Z",
     "iopub.status.idle": "2023-01-25T14:05:09.199472Z",
     "shell.execute_reply": "2023-01-25T14:05:09.198453Z",
     "shell.execute_reply.started": "2023-01-25T14:05:09.169527Z"
    }
   },
   "outputs": [
    {
     "data": {
      "text/plain": [
       "13477    Does KF actually explain the differences in qu...\n",
       "29195    BKK airport closed: SQ et al Cancel flights 26...\n",
       "22061    Originally posted by SQ LPPView PostThat's a v...\n",
       "6624     Originally posted by GLAM82View PostIs there a...\n",
       "20643    I would have thought they will use the SKL, sa...\n",
       "                               ...                        \n",
       "12020    Originally posted by CGKView Post SQ prefers I...\n",
       "43382    I thought I'd get your views on this, which is...\n",
       "1598     Originally posted by florianwagnerView PostSo ...\n",
       "11541             letter dated 19 March received 28 March.\n",
       "22264    Sorry to report that as I got to SFO airport f...\n",
       "Name: text, Length: 33095, dtype: object"
      ]
     },
     "execution_count": 137,
     "metadata": {},
     "output_type": "execute_result"
    }
   ],
   "source": [
    "X = services_untreated_df['text']\n",
    "y = services_untreated_df['y_true']\n",
    "\n",
    "X_train, X_test, y_train, y_test = train_test_split(X, y, stratify=y, random_state=42)\n",
    "X_train"
   ]
  },
  {
   "cell_type": "markdown",
   "id": "390a0501",
   "metadata": {},
   "source": [
    "- tokenise with TFIDF"
   ]
  },
  {
   "cell_type": "code",
   "execution_count": 138,
   "id": "5a23aeed",
   "metadata": {
    "execution": {
     "iopub.execute_input": "2023-01-25T14:05:09.204475Z",
     "iopub.status.busy": "2023-01-25T14:05:09.204217Z",
     "iopub.status.idle": "2023-01-25T14:05:11.175665Z",
     "shell.execute_reply": "2023-01-25T14:05:11.174665Z",
     "shell.execute_reply.started": "2023-01-25T14:05:09.204450Z"
    }
   },
   "outputs": [],
   "source": [
    "tvec = TfidfVectorizer(max_features = 500, stop_words = 'english') \n",
    "X_train_tvec = tvec.fit_transform(X_train)\n",
    "X_test_tvec = tvec.transform(X_test)"
   ]
  },
  {
   "cell_type": "markdown",
   "id": "1d29b829",
   "metadata": {},
   "source": [
    "- instantiate and fit a Naive Bayes model"
   ]
  },
  {
   "cell_type": "code",
   "execution_count": 139,
   "id": "5be3765a",
   "metadata": {
    "execution": {
     "iopub.execute_input": "2023-01-25T14:05:11.178101Z",
     "iopub.status.busy": "2023-01-25T14:05:11.177141Z",
     "iopub.status.idle": "2023-01-25T14:05:11.217627Z",
     "shell.execute_reply": "2023-01-25T14:05:11.216591Z",
     "shell.execute_reply.started": "2023-01-25T14:05:11.178062Z"
    }
   },
   "outputs": [],
   "source": [
    "nb = MultinomialNB()\n",
    "NB_model = ovr(nb).fit(X_train_cvec, y_train)  # using OneVsRestClassifier"
   ]
  },
  {
   "cell_type": "markdown",
   "id": "600f936a",
   "metadata": {},
   "source": [
    "- visualise confusion matrix"
   ]
  },
  {
   "cell_type": "code",
   "execution_count": 140,
   "id": "34bcbd62",
   "metadata": {
    "execution": {
     "iopub.execute_input": "2023-01-25T14:05:11.219789Z",
     "iopub.status.busy": "2023-01-25T14:05:11.219344Z",
     "iopub.status.idle": "2023-01-25T14:05:11.477291Z",
     "shell.execute_reply": "2023-01-25T14:05:11.476373Z",
     "shell.execute_reply.started": "2023-01-25T14:05:11.219747Z"
    }
   },
   "outputs": [
    {
     "data": {
      "image/png": "[encoded data removed]",
      "text/plain": [
       "<Figure size 432x288 with 2 Axes>"
      ]
     },
     "metadata": {
      "needs_background": "light"
     },
     "output_type": "display_data"
    }
   ],
   "source": [
    "y_pred = NB_model.predict(X_test_cvec)\n",
    "cm = confusion_matrix(y_test, y_pred)\n",
    "disp = ConfusionMatrixDisplay(confusion_matrix=cm, display_labels=['Others', 'KrisFlyer', 'LCA'])\n",
    "disp.plot();"
   ]
  },
  {
   "cell_type": "markdown",
   "id": "e7fb8166",
   "metadata": {},
   "source": [
    "- display precision, recall, f1-score of each class"
   ]
  },
  {
   "cell_type": "code",
   "execution_count": 141,
   "id": "fe64ec3f",
   "metadata": {
    "execution": {
     "iopub.execute_input": "2023-01-25T14:05:11.479143Z",
     "iopub.status.busy": "2023-01-25T14:05:11.478789Z",
     "iopub.status.idle": "2023-01-25T14:05:11.505054Z",
     "shell.execute_reply": "2023-01-25T14:05:11.503896Z",
     "shell.execute_reply.started": "2023-01-25T14:05:11.479116Z"
    }
   },
   "outputs": [
    {
     "name": "stdout",
     "output_type": "stream",
     "text": [
      "              precision    recall  f1-score   support\n",
      "\n",
      "           0       0.69      0.73      0.71      3901\n",
      "           1       0.73      0.81      0.77      4443\n",
      "           2       0.85      0.62      0.72      2688\n",
      "\n",
      "    accuracy                           0.73     11032\n",
      "   macro avg       0.75      0.72      0.73     11032\n",
      "weighted avg       0.74      0.73      0.73     11032\n",
      "\n"
     ]
    }
   ],
   "source": [
    "print(classification_report(y_test, y_pred))\n",
    "# 0: other, 1: kf, 2: lca"
   ]
  },
  {
   "cell_type": "markdown",
   "id": "ed638621",
   "metadata": {},
   "source": [
    "- display the weighted average ROC AUC score"
   ]
  },
  {
   "cell_type": "code",
   "execution_count": 142,
   "id": "ed09a916",
   "metadata": {
    "execution": {
     "iopub.execute_input": "2023-01-25T14:05:11.507213Z",
     "iopub.status.busy": "2023-01-25T14:05:11.506580Z",
     "iopub.status.idle": "2023-01-25T14:05:11.535672Z",
     "shell.execute_reply": "2023-01-25T14:05:11.534654Z",
     "shell.execute_reply.started": "2023-01-25T14:05:11.507158Z"
    }
   },
   "outputs": [
    {
     "data": {
      "text/plain": [
       "0.8894240154264128"
      ]
     },
     "execution_count": 142,
     "metadata": {},
     "output_type": "execute_result"
    }
   ],
   "source": [
    "y_pred_prob = NB_model.predict_proba(X_test_cvec)\n",
    "\n",
    "roc_auc_score(y_test, y_pred_prob, multi_class='ovr', average='weighted')"
   ]
  },
  {
   "cell_type": "markdown",
   "id": "f6fe86be",
   "metadata": {},
   "source": [
    "- weighted f1-score of KrisFlyer and LCA"
   ]
  },
  {
   "cell_type": "code",
   "execution_count": 143,
   "id": "c12d4f4e",
   "metadata": {
    "execution": {
     "iopub.execute_input": "2023-01-25T14:05:11.537568Z",
     "iopub.status.busy": "2023-01-25T14:05:11.537131Z",
     "iopub.status.idle": "2023-01-25T14:05:11.551066Z",
     "shell.execute_reply": "2023-01-25T14:05:11.549674Z",
     "shell.execute_reply.started": "2023-01-25T14:05:11.537531Z"
    }
   },
   "outputs": [
    {
     "data": {
      "text/plain": [
       "0.7477005334604189"
      ]
     },
     "execution_count": 143,
     "metadata": {},
     "output_type": "execute_result"
    }
   ],
   "source": [
    "f1_score(y_test, y_pred, labels=[1,2], average = 'weighted')"
   ]
  },
  {
   "cell_type": "markdown",
   "id": "6d1084d4",
   "metadata": {},
   "source": [
    "## 4.2 Alternate 2\n",
    "### - using removed duplicated sentences, CountVectoriser and Multinomial NB"
   ]
  },
  {
   "cell_type": "markdown",
   "id": "19679891",
   "metadata": {},
   "source": [
    "- train-test split our df"
   ]
  },
  {
   "cell_type": "code",
   "execution_count": 144,
   "id": "aed1854c",
   "metadata": {
    "execution": {
     "iopub.execute_input": "2023-01-25T14:05:11.554203Z",
     "iopub.status.busy": "2023-01-25T14:05:11.553574Z",
     "iopub.status.idle": "2023-01-25T14:05:11.605428Z",
     "shell.execute_reply": "2023-01-25T14:05:11.604439Z",
     "shell.execute_reply.started": "2023-01-25T14:05:11.554165Z"
    }
   },
   "outputs": [
    {
     "data": {
      "text/plain": [
       "42965                              Had abs no idea on tat..\n",
       "35656     Originally posted by 9V-JKLView PostIn case yo...\n",
       "68074     Is Shi Quan Shi Mei still on the menu?If there...\n",
       "75861     But again some people have bigger appetite for...\n",
       "50226                            but MI do not fly HKG-SIN?\n",
       "                                ...                        \n",
       "27305                 Savers redemptions are a dying breed.\n",
       "105424                        Maybe it's because it's a Mac\n",
       "72372     Preferably on one of their aircraft with quirk...\n",
       "116065    Would love to see the Christmas lights again.....\n",
       "89638     Daniel is serving in the navy and is looking t...\n",
       "Name: sent, Length: 95642, dtype: object"
      ]
     },
     "execution_count": 144,
     "metadata": {},
     "output_type": "execute_result"
    }
   ],
   "source": [
    "X = services_df['sent']\n",
    "y = services_df['y_true']\n",
    "\n",
    "X_train, X_test, y_train, y_test = train_test_split(X, y, stratify=y, random_state=42)\n",
    "X_train"
   ]
  },
  {
   "cell_type": "markdown",
   "id": "c66c14c2",
   "metadata": {},
   "source": [
    "- tokenise with Count Vectoriser"
   ]
  },
  {
   "cell_type": "code",
   "execution_count": 145,
   "id": "2f511a94",
   "metadata": {
    "execution": {
     "iopub.execute_input": "2023-01-25T14:05:11.607381Z",
     "iopub.status.busy": "2023-01-25T14:05:11.606563Z",
     "iopub.status.idle": "2023-01-25T14:05:13.769160Z",
     "shell.execute_reply": "2023-01-25T14:05:13.768155Z",
     "shell.execute_reply.started": "2023-01-25T14:05:11.607352Z"
    }
   },
   "outputs": [],
   "source": [
    "cvec = CountVectorizer(max_features = 500, stop_words = custom_stopwords) \n",
    "X_train_cvec = cvec.fit_transform(X_train)\n",
    "X_test_cvec = cvec.transform(X_test)"
   ]
  },
  {
   "cell_type": "markdown",
   "id": "996b4212",
   "metadata": {},
   "source": [
    "- instantiate and fit a Naive Bayes model"
   ]
  },
  {
   "cell_type": "code",
   "execution_count": 146,
   "id": "81c6de87",
   "metadata": {
    "execution": {
     "iopub.execute_input": "2023-01-25T14:05:13.771169Z",
     "iopub.status.busy": "2023-01-25T14:05:13.770780Z",
     "iopub.status.idle": "2023-01-25T14:05:13.839533Z",
     "shell.execute_reply": "2023-01-25T14:05:13.838599Z",
     "shell.execute_reply.started": "2023-01-25T14:05:13.771131Z"
    }
   },
   "outputs": [],
   "source": [
    "nb = MultinomialNB()\n",
    "NB_model = ovr(nb).fit(X_train_cvec, y_train)  # using OneVsRestClassifier"
   ]
  },
  {
   "cell_type": "markdown",
   "id": "4b414888",
   "metadata": {},
   "source": [
    "- visualise confusion matrix"
   ]
  },
  {
   "cell_type": "code",
   "execution_count": 147,
   "id": "4f452809",
   "metadata": {
    "execution": {
     "iopub.execute_input": "2023-01-25T14:05:13.841633Z",
     "iopub.status.busy": "2023-01-25T14:05:13.841188Z",
     "iopub.status.idle": "2023-01-25T14:05:14.105512Z",
     "shell.execute_reply": "2023-01-25T14:05:14.104567Z",
     "shell.execute_reply.started": "2023-01-25T14:05:13.841575Z"
    }
   },
   "outputs": [
    {
     "data": {
      "image/png": "[encoded data removed]",
      "text/plain": [
       "<Figure size 432x288 with 2 Axes>"
      ]
     },
     "metadata": {
      "needs_background": "light"
     },
     "output_type": "display_data"
    }
   ],
   "source": [
    "y_pred = NB_model.predict(X_test_cvec)\n",
    "cm = confusion_matrix(y_test, y_pred)\n",
    "disp = ConfusionMatrixDisplay(confusion_matrix=cm, display_labels=['Others', 'KrisFlyer', 'LCA'])\n",
    "disp.plot();"
   ]
  },
  {
   "cell_type": "markdown",
   "id": "cead0c00",
   "metadata": {},
   "source": [
    "- display precision, recall, f1-score of each class"
   ]
  },
  {
   "cell_type": "code",
   "execution_count": 148,
   "id": "a0f62807",
   "metadata": {
    "execution": {
     "iopub.execute_input": "2023-01-25T14:05:14.107610Z",
     "iopub.status.busy": "2023-01-25T14:05:14.106849Z",
     "iopub.status.idle": "2023-01-25T14:05:14.158554Z",
     "shell.execute_reply": "2023-01-25T14:05:14.157437Z",
     "shell.execute_reply.started": "2023-01-25T14:05:14.107570Z"
    }
   },
   "outputs": [
    {
     "name": "stdout",
     "output_type": "stream",
     "text": [
      "              precision    recall  f1-score   support\n",
      "\n",
      "           0       0.57      0.65      0.61     12114\n",
      "           1       0.63      0.68      0.66     13103\n",
      "           2       0.75      0.44      0.56      6664\n",
      "\n",
      "    accuracy                           0.62     31881\n",
      "   macro avg       0.65      0.59      0.61     31881\n",
      "weighted avg       0.63      0.62      0.62     31881\n",
      "\n"
     ]
    }
   ],
   "source": [
    "print(classification_report(y_test, y_pred))\n",
    "# 0: other, 1: kf, 2: lca"
   ]
  },
  {
   "cell_type": "markdown",
   "id": "f530a4bb",
   "metadata": {},
   "source": [
    "- display the weighted average ROC AUC score"
   ]
  },
  {
   "cell_type": "code",
   "execution_count": 149,
   "id": "3e9eb83f",
   "metadata": {
    "execution": {
     "iopub.execute_input": "2023-01-25T14:05:14.160541Z",
     "iopub.status.busy": "2023-01-25T14:05:14.160147Z",
     "iopub.status.idle": "2023-01-25T14:05:14.211252Z",
     "shell.execute_reply": "2023-01-25T14:05:14.210212Z",
     "shell.execute_reply.started": "2023-01-25T14:05:14.160504Z"
    }
   },
   "outputs": [
    {
     "data": {
      "text/plain": [
       "0.7899255227302375"
      ]
     },
     "execution_count": 149,
     "metadata": {},
     "output_type": "execute_result"
    }
   ],
   "source": [
    "y_pred_prob = NB_model.predict_proba(X_test_cvec)\n",
    "\n",
    "roc_auc_score(y_test, y_pred_prob, multi_class='ovr', average='weighted')"
   ]
  },
  {
   "cell_type": "markdown",
   "id": "37bce301",
   "metadata": {},
   "source": [
    "- weighted f1-score of KrisFlyer and LCA"
   ]
  },
  {
   "cell_type": "code",
   "execution_count": 150,
   "id": "dd0f7a7a",
   "metadata": {
    "execution": {
     "iopub.execute_input": "2023-01-25T14:05:14.213359Z",
     "iopub.status.busy": "2023-01-25T14:05:14.212997Z",
     "iopub.status.idle": "2023-01-25T14:05:14.231040Z",
     "shell.execute_reply": "2023-01-25T14:05:14.230008Z",
     "shell.execute_reply.started": "2023-01-25T14:05:14.213323Z"
    }
   },
   "outputs": [
    {
     "data": {
      "text/plain": [
       "0.6228565466017535"
      ]
     },
     "execution_count": 150,
     "metadata": {},
     "output_type": "execute_result"
    }
   ],
   "source": [
    "f1_score(y_test, y_pred, labels=[1,2], average = 'weighted')"
   ]
  },
  {
   "cell_type": "markdown",
   "id": "4eac56f6",
   "metadata": {},
   "source": [
    "## 4.3 Alternate 3\n",
    "### - using removed duplicated sentences, TFIDF and Multinomial NB"
   ]
  },
  {
   "cell_type": "markdown",
   "id": "cc41c24a",
   "metadata": {},
   "source": [
    "- tokenise with TFIDF"
   ]
  },
  {
   "cell_type": "code",
   "execution_count": 151,
   "id": "85c8f043",
   "metadata": {
    "execution": {
     "iopub.execute_input": "2023-01-25T14:05:14.234657Z",
     "iopub.status.busy": "2023-01-25T14:05:14.233571Z",
     "iopub.status.idle": "2023-01-25T14:05:16.418805Z",
     "shell.execute_reply": "2023-01-25T14:05:16.417666Z",
     "shell.execute_reply.started": "2023-01-25T14:05:14.234598Z"
    }
   },
   "outputs": [],
   "source": [
    "tvec = TfidfVectorizer(max_features = 500, stop_words = custom_stopwords)\n",
    "X_train_tvec = tvec.fit_transform(X_train)\n",
    "X_test_tvec = tvec.transform(X_test)"
   ]
  },
  {
   "cell_type": "markdown",
   "id": "0828c385",
   "metadata": {},
   "source": [
    "- instantiate and fit a Naive Bayes model"
   ]
  },
  {
   "cell_type": "code",
   "execution_count": 152,
   "id": "e761ee44",
   "metadata": {
    "execution": {
     "iopub.execute_input": "2023-01-25T14:05:16.421463Z",
     "iopub.status.busy": "2023-01-25T14:05:16.420338Z",
     "iopub.status.idle": "2023-01-25T14:05:16.493958Z",
     "shell.execute_reply": "2023-01-25T14:05:16.492972Z",
     "shell.execute_reply.started": "2023-01-25T14:05:16.421415Z"
    }
   },
   "outputs": [],
   "source": [
    "nb = MultinomialNB()\n",
    "NB_model = ovr(nb).fit(X_train_cvec, y_train)  # using OneVsRestClassifier"
   ]
  },
  {
   "cell_type": "markdown",
   "id": "681d433a",
   "metadata": {},
   "source": [
    "- visualise confusion matrix"
   ]
  },
  {
   "cell_type": "code",
   "execution_count": 153,
   "id": "0ea701a0",
   "metadata": {
    "execution": {
     "iopub.execute_input": "2023-01-25T14:05:16.495914Z",
     "iopub.status.busy": "2023-01-25T14:05:16.495514Z",
     "iopub.status.idle": "2023-01-25T14:05:16.760438Z",
     "shell.execute_reply": "2023-01-25T14:05:16.759539Z",
     "shell.execute_reply.started": "2023-01-25T14:05:16.495875Z"
    }
   },
   "outputs": [
    {
     "data": {
      "image/png": "[encoded data removed]",
      "text/plain": [
       "<Figure size 432x288 with 2 Axes>"
      ]
     },
     "metadata": {
      "needs_background": "light"
     },
     "output_type": "display_data"
    }
   ],
   "source": [
    "y_pred = NB_model.predict(X_test_cvec)\n",
    "cm = confusion_matrix(y_test, y_pred)\n",
    "disp = ConfusionMatrixDisplay(confusion_matrix=cm, display_labels=['Others', 'KrisFlyer', 'LCA'])\n",
    "disp.plot();"
   ]
  },
  {
   "cell_type": "markdown",
   "id": "a9cd6574",
   "metadata": {},
   "source": [
    "- display precision, recall, f1-score of each class"
   ]
  },
  {
   "cell_type": "code",
   "execution_count": 154,
   "id": "d06b1190",
   "metadata": {
    "execution": {
     "iopub.execute_input": "2023-01-25T14:05:16.763770Z",
     "iopub.status.busy": "2023-01-25T14:05:16.763046Z",
     "iopub.status.idle": "2023-01-25T14:05:16.813393Z",
     "shell.execute_reply": "2023-01-25T14:05:16.812275Z",
     "shell.execute_reply.started": "2023-01-25T14:05:16.763730Z"
    }
   },
   "outputs": [
    {
     "name": "stdout",
     "output_type": "stream",
     "text": [
      "              precision    recall  f1-score   support\n",
      "\n",
      "           0       0.58      0.64      0.61     12114\n",
      "           1       0.62      0.71      0.66     13103\n",
      "           2       0.79      0.43      0.56      6664\n",
      "\n",
      "    accuracy                           0.62     31881\n",
      "   macro avg       0.66      0.59      0.61     31881\n",
      "weighted avg       0.64      0.62      0.62     31881\n",
      "\n"
     ]
    }
   ],
   "source": [
    "print(classification_report(y_test, y_pred))\n",
    "# 0: other, 1: kf, 2: lca"
   ]
  },
  {
   "cell_type": "markdown",
   "id": "de4e8315",
   "metadata": {},
   "source": [
    "- display the weighted average ROC AUC score"
   ]
  },
  {
   "cell_type": "code",
   "execution_count": 155,
   "id": "836528e4",
   "metadata": {
    "execution": {
     "iopub.execute_input": "2023-01-25T14:05:16.815338Z",
     "iopub.status.busy": "2023-01-25T14:05:16.814971Z",
     "iopub.status.idle": "2023-01-25T14:05:16.868445Z",
     "shell.execute_reply": "2023-01-25T14:05:16.867231Z",
     "shell.execute_reply.started": "2023-01-25T14:05:16.815300Z"
    }
   },
   "outputs": [
    {
     "data": {
      "text/plain": [
       "0.8011750361899902"
      ]
     },
     "execution_count": 155,
     "metadata": {},
     "output_type": "execute_result"
    }
   ],
   "source": [
    "y_pred_prob = NB_model.predict_proba(X_test_cvec)\n",
    "\n",
    "roc_auc_score(y_test, y_pred_prob, multi_class='ovr', average='weighted')"
   ]
  },
  {
   "cell_type": "markdown",
   "id": "32cd811f",
   "metadata": {},
   "source": [
    "- weighted f1-score of KrisFlyer and LCA"
   ]
  },
  {
   "cell_type": "code",
   "execution_count": 156,
   "id": "27515e50",
   "metadata": {
    "execution": {
     "iopub.execute_input": "2023-01-25T14:05:16.874083Z",
     "iopub.status.busy": "2023-01-25T14:05:16.873798Z",
     "iopub.status.idle": "2023-01-25T14:05:16.892174Z",
     "shell.execute_reply": "2023-01-25T14:05:16.890583Z",
     "shell.execute_reply.started": "2023-01-25T14:05:16.874057Z"
    }
   },
   "outputs": [
    {
     "data": {
      "text/plain": [
       "0.6279590697763052"
      ]
     },
     "execution_count": 156,
     "metadata": {},
     "output_type": "execute_result"
    }
   ],
   "source": [
    "f1_score(y_test, y_pred, labels=[1,2], average = 'weighted')"
   ]
  },
  {
   "cell_type": "markdown",
   "id": "a99a4e60",
   "metadata": {},
   "source": [
    "---\n",
    "## 5. Remarks\n",
    "---"
   ]
  },
  {
   "cell_type": "markdown",
   "id": "55097160",
   "metadata": {
    "execution": {
     "iopub.execute_input": "2023-01-25T14:07:54.024785Z",
     "iopub.status.busy": "2023-01-25T14:07:54.023717Z",
     "iopub.status.idle": "2023-01-25T14:07:54.034088Z",
     "shell.execute_reply": "2023-01-25T14:07:54.032340Z",
     "shell.execute_reply.started": "2023-01-25T14:07:54.024736Z"
    }
   },
   "source": [
    "|                                     | Baseline Model | Alternate 1<br>\\*Best performance\\* | Alternate 2 | Alternate 3 |\n",
    "|-------------------------------------|----------------|-------------|-------------|-------------|\n",
    "| Pre-processing | - Basic cleaning        | - Basic cleaning        | - Basic cleaning<br>- Remove duplicated sentences | - Basic cleaning<br>- Remove duplicated sentences |\n",
    "| Vectoriser     | CountVectoriser         | TFIDF                   | CountVectoriser                                   | TFIDF                                             |\n",
    "| Model          | Multinomial Naive Bayes | Multinomial Naive Bayes | Multinomial Naive Bayes                           | Multinomial Naive Bayes                           |\n",
    "| Weighted-average ROC AUC            | 0.877          | 0.889       | 0.790       | 0.801       |\n",
    "| Weighted-average f1-score (kf, lca) | 0.743          | 0.748       | 0.623       | 0.628       |"
   ]
  },
  {
   "cell_type": "markdown",
   "id": "6bc09c24-9d23-4213-8a45-4eea1d0aa408",
   "metadata": {},
   "source": [
    "- Alternate 1 combination of preprocessing and vectoriser performed the best, and will be used for the next step of finding the best model\n",
    "<br>\n",
    "<br>\n",
    "- TFIDF had a slightly better performance than CountVectoriser (baseline vs alt 1, alt2 vs alt 3)\n",
    "<br>\n",
    "<br>\n",
    "- The removal of duplicated sentences seemed to have an adverse effect on model performance. This suggested that the quotes contain valuable key words that deserved to be emphasised (i.e. the comments that people usually reply to contain valuable key words)"
   ]
  }
 ],
 "metadata": {
  "kernelspec": {
   "display_name": "Python 3 (ipykernel)",
   "language": "python",
   "name": "python3"
  },
  "language_info": {
   "codemirror_mode": {
    "name": "ipython",
    "version": 3
   },
   "file_extension": ".py",
   "mimetype": "text/x-python",
   "name": "python",
   "nbconvert_exporter": "python",
   "pygments_lexer": "ipython3",
   "version": "3.8.13"
  }
 },
 "nbformat": 4,
 "nbformat_minor": 5
}
