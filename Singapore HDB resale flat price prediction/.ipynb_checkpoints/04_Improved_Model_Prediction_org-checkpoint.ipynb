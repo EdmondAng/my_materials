{
 "cells": [
  {
   "cell_type": "markdown",
   "id": "27776aee-3b84-45a1-8423-b12bd65263cb",
   "metadata": {},
   "source": [
    "<img src=\"http://imgur.com/1ZcRyrc.png\" style=\"float: left; margin: 20px; height: 55px\">\n",
    "\n",
    "# Project 2: Prediction of HDB Resale Flat Prices\n",
    "Author: Edmond Ang"
   ]
  },
  {
   "cell_type": "markdown",
   "id": "a015c0b5-bb3b-4644-aa4c-fd0ed199e449",
   "metadata": {},
   "source": [
    "## Contents\n",
    "1. [Improved Model Prediction](#1.-Improved-Model-Prediction)"
   ]
  },
  {
   "cell_type": "markdown",
   "id": "d0004d08-edd8-46b2-ac57-2d2105278b37",
   "metadata": {},
   "source": [
    "---\n",
    "## 1. Baseline Model Prediction\n",
    "---"
   ]
  },
  {
   "cell_type": "markdown",
   "id": "d7813fb8-0e49-4fa7-8b47-106c14a960e0",
   "metadata": {},
   "source": [
    "### Imports"
   ]
  },
  {
   "cell_type": "code",
   "execution_count": null,
   "id": "db6f2f3f-a38c-4724-95ab-3d6efc7443fa",
   "metadata": {},
   "outputs": [],
   "source": [
    "import numpy as np\n",
    "import pandas as pd\n",
    "from sklearn.linear_model import LinearRegression\n",
    "from sklearn.linear_model import RidgeCV\n",
    "from sklearn.linear_model import LassoCV\n",
    "from sklearn.linear_model import ElasticNetCV\n",
    "from sklearn.model_selection import train_test_split\n",
    "from sklearn.preprocessing import StandardScaler"
   ]
  },
  {
   "cell_type": "markdown",
   "id": "dbd83273-da38-4cdb-a195-5f05dcc929a2",
   "metadata": {},
   "source": [
    "### Read cleaned baseline train and test datasets"
   ]
  },
  {
   "cell_type": "code",
   "execution_count": null,
   "id": "f02c8cea-9c9f-46b5-a484-46b587e3fb47",
   "metadata": {},
   "outputs": [],
   "source": [
    "hdb_train_df = pd.read_csv('output/cleaned_baseline_hdb_train.csv')\n",
    "hdb_test_df = pd.read_csv('output/cleaned_baseline_hdb_test.csv')\n",
    "\n",
    "# equalise the number of features in test and train datasets\n",
    "hdb_test_df['full_flat_type_2 ROOM 2-room'] = 0\n",
    "hdb_test_df['full_flat_type_2 ROOM DBSS'] = 0\n",
    "hdb_test_df['full_flat_type_4 ROOM Terrace'] = 0\n",
    "hdb_test_df[\"pri_sch_name_Saint Gabriel's Primary School\"] = 0"
   ]
  },
  {
   "cell_type": "markdown",
   "id": "055113de-476f-4a85-b918-3c823e011d98",
   "metadata": {},
   "source": [
    "### Assign X and y, train-test split"
   ]
  },
  {
   "cell_type": "code",
   "execution_count": null,
   "id": "71bcc718-7c6e-4334-8445-ae8a41706427",
   "metadata": {},
   "outputs": [],
   "source": [
    "X = hdb_train_df.drop(columns=['resale_price'])\n",
    "y = hdb_train_df['resale_price']\n",
    "X_train, X_test, y_train, y_test = train_test_split(X, y)"
   ]
  },
  {
   "cell_type": "markdown",
   "id": "bb309473-39a0-465a-ae81-13bd9c327000",
   "metadata": {},
   "source": [
    "### Isolate continuous features to do scaling"
   ]
  },
  {
   "cell_type": "code",
   "execution_count": null,
   "id": "6fa80abf-c52e-4801-ac14-b61f63b87697",
   "metadata": {},
   "outputs": [],
   "source": [
    "# X_train_num = ['']\n",
    "# X_train_cat = hdf_train_"
   ]
  },
  {
   "cell_type": "markdown",
   "id": "e69d6c32-be4c-4d12-a473-4e03660befc1",
   "metadata": {},
   "source": [
    "### Scale the continuous data"
   ]
  },
  {
   "cell_type": "code",
   "execution_count": null,
   "id": "0a4fd4e4-bc8d-4574-9228-545a488371d1",
   "metadata": {},
   "outputs": [],
   "source": [
    "ss = StandardScaler()\n",
    "Z_train = ss.fit_transform(X_train)\n",
    "Z_test = ss.transform(X_test)"
   ]
  },
  {
   "cell_type": "markdown",
   "id": "1d3b6d37-0bd2-4a13-ba70-df172d591e5f",
   "metadata": {},
   "source": [
    "### Instantiate models for cross-val"
   ]
  },
  {
   "cell_type": "code",
   "execution_count": null,
   "id": "80b8d6bd-13b8-40a8-94b2-80953d2f7425",
   "metadata": {},
   "outputs": [],
   "source": [
    "lr_ss = LinearRegression()"
   ]
  },
  {
   "cell_type": "code",
   "execution_count": null,
   "id": "6a819f2d-568e-4012-b8e5-0a8605fd2bc9",
   "metadata": {},
   "outputs": [],
   "source": [
    "lasso_ss = LassoCV(n_alphas=200)  # Edmond: double-check codes"
   ]
  },
  {
   "cell_type": "code",
   "execution_count": null,
   "id": "e772ab46-7c9a-4370-aa9d-6ae849253939",
   "metadata": {},
   "outputs": [],
   "source": [
    "ridge_ss = RidgeCV(alphas=np.linspace(.1, 10, 100))  # Edmond: double-check codes"
   ]
  },
  {
   "cell_type": "markdown",
   "id": "9faf0b73-11e6-43d2-8b5f-cc5fda309969",
   "metadata": {},
   "source": [
    "### Cross-validation"
   ]
  },
  {
   "cell_type": "code",
   "execution_count": null,
   "id": "f10cd332-6b01-4128-992a-597ebdc0b631",
   "metadata": {},
   "outputs": [],
   "source": [
    "lr_scores = cross_val_score(lr, X_train, y_train, cv=3)\n",
    "lr_scores.mean()"
   ]
  },
  {
   "cell_type": "code",
   "execution_count": null,
   "id": "91143977-3634-4267-812d-40d7c5a07fd8",
   "metadata": {},
   "outputs": [],
   "source": [
    "lasso_scores = cross_val_score(lasso, X_train, y_train, cv=3)\n",
    "lasso_scores.mean()"
   ]
  },
  {
   "cell_type": "code",
   "execution_count": null,
   "id": "399ce925-a83b-4668-a46c-b18d6d9958ed",
   "metadata": {},
   "outputs": [],
   "source": [
    "ridge_scores = cross_val_score(ridge, X_train, y_train, cv=3)\n",
    "ridge_scores.mean()"
   ]
  },
  {
   "cell_type": "markdown",
   "id": "4ff311a1-c604-444b-bf38-d70549ed78e6",
   "metadata": {},
   "source": [
    "### Model fitting and evaluation"
   ]
  },
  {
   "cell_type": "code",
   "execution_count": null,
   "id": "72e4498d-a8a0-4275-9198-6b3d8494d6a8",
   "metadata": {},
   "outputs": [],
   "source": [
    "# fit"
   ]
  },
  {
   "cell_type": "code",
   "execution_count": null,
   "id": "8a2ad4d7-83d7-4e53-ac62-c429eded08c9",
   "metadata": {},
   "outputs": [],
   "source": [
    "# train score"
   ]
  },
  {
   "cell_type": "code",
   "execution_count": null,
   "id": "b1a0dffb-e121-414b-9d1d-fde57cf007ea",
   "metadata": {},
   "outputs": [],
   "source": [
    "# test score"
   ]
  },
  {
   "cell_type": "markdown",
   "id": "79d8f52a-8272-48f4-807d-38a930b6807b",
   "metadata": {},
   "source": [
    "### Isolate and scale the continuous features of test.csv"
   ]
  },
  {
   "cell_type": "code",
   "execution_count": null,
   "id": "6f979385-0c54-4d2f-b31d-de9635f44257",
   "metadata": {},
   "outputs": [],
   "source": []
  },
  {
   "cell_type": "markdown",
   "id": "76562e91-61b6-467d-b7d8-967e6118da5d",
   "metadata": {},
   "source": [
    "### Predict using test.csv"
   ]
  },
  {
   "cell_type": "code",
   "execution_count": null,
   "id": "224b4153-4d9b-4fd1-b3ac-b0c10c0edc64",
   "metadata": {},
   "outputs": [],
   "source": []
  }
 ],
 "metadata": {
  "kernelspec": {
   "display_name": "Python 3 (ipykernel)",
   "language": "python",
   "name": "python3"
  },
  "language_info": {
   "codemirror_mode": {
    "name": "ipython",
    "version": 3
   },
   "file_extension": ".py",
   "mimetype": "text/x-python",
   "name": "python",
   "nbconvert_exporter": "python",
   "pygments_lexer": "ipython3",
   "version": "3.8.13"
  }
 },
 "nbformat": 4,
 "nbformat_minor": 5
}
