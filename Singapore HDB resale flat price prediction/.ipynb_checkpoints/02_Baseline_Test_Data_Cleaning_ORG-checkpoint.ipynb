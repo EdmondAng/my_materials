{
 "cells": [
  {
   "cell_type": "markdown",
   "id": "34f432ba-7f9a-45c9-93b6-2e8397f13aeb",
   "metadata": {},
   "source": [
    "<img src=\"http://imgur.com/1ZcRyrc.png\" style=\"float: left; margin: 20px; height: 55px\">\n",
    "\n",
    "# Project 2: Prediction of HDB Resale Flat Prices\n",
    "Author: Edmond Ang"
   ]
  },
  {
   "cell_type": "markdown",
   "id": "2247d7c5-a0f5-4bd0-9928-b8d5d395247c",
   "metadata": {},
   "source": [
    "## Contents\n",
    "1. [Baseline Test Data Cleaning](#1.-Baseline-Model-Data-Cleaning)"
   ]
  },
  {
   "cell_type": "markdown",
   "id": "e8fdfac4-d5d5-489f-af3f-6636ff1ea96a",
   "metadata": {},
   "source": [
    "---\n",
    "## 1. Baseline Model Data Cleaning\n",
    "---\n",
    "\n",
    "* Mimic baseline training data cleaning to determine baseline model prediction"
   ]
  },
  {
   "cell_type": "markdown",
   "id": "130fbcb1-c5a9-468d-be72-f83da30b4293",
   "metadata": {},
   "source": [
    "### Imports"
   ]
  },
  {
   "cell_type": "code",
   "execution_count": 59,
   "id": "cd3e4e6d-88b2-4d92-b9b9-a4e463973b87",
   "metadata": {},
   "outputs": [],
   "source": [
    "import numpy as np\n",
    "import pandas as pd\n",
    "import math\n",
    "import os\n",
    "from sklearn.linear_model import LinearRegression\n",
    "from sklearn.model_selection import train_test_split\n",
    "from statistics import mean "
   ]
  },
  {
   "cell_type": "markdown",
   "id": "6eed9f88-6064-475a-90d4-d8472d18b278",
   "metadata": {},
   "source": [
    "### Read test data"
   ]
  },
  {
   "cell_type": "code",
   "execution_count": 60,
   "id": "c5fcad40-45a0-47e0-b961-1419d7867dc9",
   "metadata": {
    "scrolled": true,
    "tags": []
   },
   "outputs": [
    {
     "name": "stdout",
     "output_type": "stream",
     "text": [
      "(16737, 76)\n",
      "       id Tranc_YearMonth         town flat_type block          street_name  \\\n",
      "0  114982         2012-11       YISHUN    4 ROOM   173         YISHUN AVE 7   \n",
      "1   95653         2019-08  JURONG WEST    5 ROOM  986C    JURONG WEST ST 93   \n",
      "2   40303         2013-10   ANG MO KIO    3 ROOM   534    ANG MO KIO AVE 10   \n",
      "3  109506         2017-10    WOODLANDS    4 ROOM    29         MARSILING DR   \n",
      "4  100149         2016-08  BUKIT BATOK    4 ROOM   170  BT BATOK WEST AVE 8   \n",
      "\n",
      "  storey_range  floor_area_sqm         flat_model  lease_commence_date  \\\n",
      "0     07 TO 09            84.0         Simplified                 1987   \n",
      "1     04 TO 06           112.0  Premium Apartment                 2008   \n",
      "2     07 TO 09            68.0     New Generation                 1980   \n",
      "3     01 TO 03            97.0     New Generation                 1979   \n",
      "4     16 TO 18           103.0            Model A                 1985   \n",
      "\n",
      "   Tranc_Year  Tranc_Month  mid_storey  lower  upper  mid  \\\n",
      "0        2012           11           8      7      9    8   \n",
      "1        2019            8           5      4      6    5   \n",
      "2        2013           10           8      7      9    8   \n",
      "3        2017           10           2      1      3    2   \n",
      "4        2016            8          17     16     18   17   \n",
      "\n",
      "             full_flat_type                   address  floor_area_sqft  \\\n",
      "0         4 ROOM Simplified         173, YISHUN AVE 7          904.176   \n",
      "1  5 ROOM Premium Apartment   986C, JURONG WEST ST 93         1205.568   \n",
      "2     3 ROOM New Generation    534, ANG MO KIO AVE 10          731.952   \n",
      "3     4 ROOM New Generation          29, MARSILING DR         1044.108   \n",
      "4            4 ROOM Model A  170, BT BATOK WEST AVE 8         1108.692   \n",
      "\n",
      "   hdb_age  max_floor_lvl  year_completed residential commercial  \\\n",
      "0       34             12            1986           Y          Y   \n",
      "1       13             14            2002           Y          N   \n",
      "2       41             12            1979           Y          N   \n",
      "3       42             14            1976           Y          N   \n",
      "4       36             25            1985           Y          N   \n",
      "\n",
      "  market_hawker multistorey_carpark precinct_pavilion  total_dwelling_units  \\\n",
      "0             N                   N                 N                   132   \n",
      "1             N                   N                 N                    53   \n",
      "2             N                   N                 N                   218   \n",
      "3             N                   N                 N                   104   \n",
      "4             N                   N                 N                   144   \n",
      "\n",
      "   1room_sold  2room_sold  3room_sold  4room_sold  5room_sold  exec_sold  \\\n",
      "0           0           0           0          92          40          0   \n",
      "1           0           0           0          28          25          0   \n",
      "2           0           0         191          22           1          1   \n",
      "3           0           0           0         104           0          0   \n",
      "4           0           0           0          48          96          0   \n",
      "\n",
      "   multigen_sold  studio_apartment_sold  1room_rental  2room_rental  \\\n",
      "0              0                      0             0             0   \n",
      "1              0                      0             0             0   \n",
      "2              0                      0             0             0   \n",
      "3              0                      0             0             0   \n",
      "4              0                      0             0             0   \n",
      "\n",
      "   3room_rental  other_room_rental  postal  Latitude   Longitude  \\\n",
      "0             0                  0  760173  1.437066  103.831121   \n",
      "1             0                  0  643986  1.336957  103.695668   \n",
      "2             3                  0  560534  1.374058  103.854168   \n",
      "3             0                  0  731029  1.442748  103.772922   \n",
      "4             0                  0  650170  1.346556  103.740101   \n",
      "\n",
      "  planning_area  Mall_Nearest_Distance  Mall_Within_500m  Mall_Within_1km  \\\n",
      "0        Yishun             877.431572               NaN              2.0   \n",
      "1   Jurong West             534.037705               NaN              1.0   \n",
      "2    Ang Mo Kio             817.050453               NaN              2.0   \n",
      "3     Woodlands            1272.737194               NaN              NaN   \n",
      "4   Bukit Batok            1070.963675               NaN              NaN   \n",
      "\n",
      "   Mall_Within_2km  Hawker_Nearest_Distance  Hawker_Within_500m  \\\n",
      "0              4.0               687.576779                 NaN   \n",
      "1              3.0              2122.346226                 NaN   \n",
      "2              3.0               152.287621                 1.0   \n",
      "3              3.0               501.892158                 NaN   \n",
      "4              5.0               437.593564                 1.0   \n",
      "\n",
      "   Hawker_Within_1km  Hawker_Within_2km  hawker_food_stalls  \\\n",
      "0                1.0                1.0                  56   \n",
      "1                NaN                NaN                  72   \n",
      "2                3.0               11.0                  50   \n",
      "3                1.0                2.0                  52   \n",
      "4                2.0                2.0                  60   \n",
      "\n",
      "   hawker_market_stalls  mrt_nearest_distance        mrt_name  \\\n",
      "0                   123            686.660434        Canberra   \n",
      "1                    94            169.478175         Pioneer   \n",
      "2                   100            694.220448      Ang Mo Kio   \n",
      "3                   112           1117.203587       Marsiling   \n",
      "4                    87            987.976010  Chinese Garden   \n",
      "\n",
      "   bus_interchange  mrt_interchange  mrt_latitude  mrt_longitude  \\\n",
      "0                0                0      1.443077     103.829703   \n",
      "1                0                0      1.337343     103.697143   \n",
      "2                1                0      1.369465     103.849939   \n",
      "3                0                0      1.432757     103.773982   \n",
      "4                0                0      1.342441     103.732225   \n",
      "\n",
      "   bus_stop_nearest_distance bus_stop_name  bus_stop_latitude  \\\n",
      "0                  75.683952       Blk 174           1.437558   \n",
      "1                  88.993058      Blk 653B           1.336491   \n",
      "2                  86.303575       Blk 532           1.374255   \n",
      "3                 108.459039        Blk 32           1.443650   \n",
      "4                 113.645431       Blk 169           1.346899   \n",
      "\n",
      "   bus_stop_longitude  pri_sch_nearest_distance  \\\n",
      "0          103.831591                426.467910   \n",
      "1          103.696319                439.756851   \n",
      "2          103.854919                355.882207   \n",
      "3          103.773295                929.744711   \n",
      "4          103.741064                309.926934   \n",
      "\n",
      "                        pri_sch_name  vacancy  pri_sch_affiliation  \\\n",
      "0       Ahmad Ibrahim Primary School       92                    0   \n",
      "1         Jurong West Primary School       45                    0   \n",
      "2           Jing Shan Primary School       36                    0   \n",
      "3           Marsiling Primary School       54                    0   \n",
      "4  Princess Elizabeth Primary School       40                    0   \n",
      "\n",
      "   pri_sch_latitude  pri_sch_longitude  sec_sch_nearest_dist  \\\n",
      "0          1.433681         103.832924            156.322353   \n",
      "1          1.339244         103.698896            739.371688   \n",
      "2          1.371893         103.851811            305.071191   \n",
      "3          1.434423         103.773698            433.454591   \n",
      "4          1.349195         103.741000            217.295361   \n",
      "\n",
      "                     sec_sch_name  cutoff_point  affiliation  \\\n",
      "0  Ahmad Ibrahim Secondary School           218            0   \n",
      "1    Jurong West Secondary School           199            0   \n",
      "2       Anderson Secondary School           245            0   \n",
      "3      Woodlands Secondary School           188            0   \n",
      "4    Bukit Batok Secondary School           223            0   \n",
      "\n",
      "   sec_sch_latitude  sec_sch_longitude  \n",
      "0          1.436235         103.829987  \n",
      "1          1.335256         103.702098  \n",
      "2          1.374242         103.851430  \n",
      "3          1.439183         103.774499  \n",
      "4          1.348351         103.740873  \n"
     ]
    },
    {
     "name": "stderr",
     "output_type": "stream",
     "text": [
      "C:\\Users\\Edmon\\AppData\\Local\\Temp\\ipykernel_1628\\2649564829.py:1: DtypeWarning: Columns (40) have mixed types. Specify dtype option on import or set low_memory=False.\n",
      "  hdb_df = pd.read_csv('datasets/test.csv')\n"
     ]
    }
   ],
   "source": [
    "hdb_df = pd.read_csv('datasets/test.csv')\n",
    "pd.set_option('display.max_columns', None)  # to see all columns\n",
    "print(hdb_df.shape)\n",
    "print(hdb_df.head())  # missing resale_price column"
   ]
  },
  {
   "cell_type": "markdown",
   "id": "0c2a6800-b98d-411c-a3a4-a993f0d55600",
   "metadata": {},
   "source": [
    "### Change all NaN values from 'X within Y distance' features to 0"
   ]
  },
  {
   "cell_type": "code",
   "execution_count": 61,
   "id": "c59d14ee-2a36-4f68-b237-5fc777dd5c2b",
   "metadata": {},
   "outputs": [],
   "source": [
    "hdb_df['Mall_Within_500m'] = [0 if math.isnan(x) else x for x in hdb_df['Mall_Within_500m']]\n",
    "hdb_df['Mall_Within_1km'] = [0 if math.isnan(x) else x for x in hdb_df['Mall_Within_1km']]\n",
    "hdb_df['Mall_Within_2km'] = [0 if math.isnan(x) else x for x in hdb_df['Mall_Within_2km']]\n",
    "\n",
    "hdb_df['Hawker_Within_500m'] = [0 if math.isnan(x) else x for x in hdb_df['Hawker_Within_500m']]\n",
    "hdb_df['Hawker_Within_1km'] = [0 if math.isnan(x) else x for x in hdb_df['Hawker_Within_1km']]\n",
    "hdb_df['Hawker_Within_2km'] = [0 if math.isnan(x) else x for x in hdb_df['Hawker_Within_2km']]"
   ]
  },
  {
   "cell_type": "markdown",
   "id": "6e1cc7f2-f47a-4aa1-943d-ac4172a52bc2",
   "metadata": {},
   "source": [
    "### Change all 'Y' and 'N' values to 1 and 0 respectively"
   ]
  },
  {
   "cell_type": "code",
   "execution_count": 62,
   "id": "ae755b06-fb84-42ed-9512-ca38a50248e7",
   "metadata": {},
   "outputs": [],
   "source": [
    "hdb_df['residential'] = [0 if x == \"N\" else 1 for x in hdb_df['residential']]\n",
    "hdb_df['commercial'] = [0 if x == \"N\" else 1 for x in hdb_df['commercial']]\n",
    "hdb_df['market_hawker'] = [0 if x == \"N\" else 1 for x in hdb_df['market_hawker']]\n",
    "hdb_df['multistorey_carpark'] = [0 if x == \"N\" else 1 for x in hdb_df['multistorey_carpark']]\n",
    "hdb_df['precinct_pavilion'] = [0 if x == \"N\" else 1 for x in hdb_df['precinct_pavilion']]"
   ]
  },
  {
   "cell_type": "markdown",
   "id": "23020265-109c-4867-8edc-76f88758a7b7",
   "metadata": {},
   "source": [
    "### Dropping all location-name features "
   ]
  },
  {
   "cell_type": "code",
   "execution_count": 63,
   "id": "2808a459-b1db-438c-aba3-168ffeaa1b4b",
   "metadata": {},
   "outputs": [],
   "source": [
    "hdb_df = hdb_df.drop(columns=['lease_commence_date', 'flat_type', 'block', 'flat_model', 'storey_range', 'mid', 'lower', 'upper', 'postal', 'floor_area_sqft', 'block', 'street_name', 'address', 'planning_area', 'mrt_name', 'bus_stop_name', 'pri_sch_latitude', 'pri_sch_longitude', 'sec_sch_latitude', 'sec_sch_longitude', 'bus_stop_latitude', 'bus_stop_longitude', 'mrt_latitude', 'mrt_longitude', 'Longitude', 'Latitude'])"
   ]
  },
  {
   "cell_type": "markdown",
   "id": "35396712-44a8-4796-be71-65b9f7a5165e",
   "metadata": {},
   "source": [
    "### Drop 'Tranc_YearMonth' feature"
   ]
  },
  {
   "cell_type": "code",
   "execution_count": 64,
   "id": "53666f5c-1cbb-433a-86d7-78554b2522f9",
   "metadata": {},
   "outputs": [],
   "source": [
    "hdb_df = hdb_df.drop(columns=['Tranc_YearMonth'])"
   ]
  },
  {
   "cell_type": "markdown",
   "id": "82d1aa71-f77d-4d4a-92a4-d990f41c8824",
   "metadata": {},
   "source": [
    "### Dropping NaN values for 'Mall_Nearest_Distance' "
   ]
  },
  {
   "cell_type": "code",
   "execution_count": 65,
   "id": "6e8b2b43-cbed-4b3d-9d53-dcd562d892fa",
   "metadata": {},
   "outputs": [],
   "source": [
    "hdb_df = hdb_df[hdb_df['Mall_Nearest_Distance'].notnull()]"
   ]
  },
  {
   "cell_type": "markdown",
   "id": "47e98949-8c1d-4d23-bf63-cce2d57b61a7",
   "metadata": {},
   "source": [
    "### Convert remaining categorical variable into dummy/indicator variables"
   ]
  },
  {
   "cell_type": "code",
   "execution_count": 66,
   "id": "9fa87708-943b-437a-88a8-b7f9a9b00621",
   "metadata": {},
   "outputs": [],
   "source": [
    "hdb_df = pd.get_dummies(hdb_df, columns=['town', 'pri_sch_name', 'sec_sch_name', 'full_flat_type'])"
   ]
  },
  {
   "cell_type": "markdown",
   "id": "9b5d7309-5847-461b-bd75-8cdad805dc71",
   "metadata": {},
   "source": [
    "### Sanity check: making sure that the number of features matches baseline train dataset"
   ]
  },
  {
   "cell_type": "code",
   "execution_count": 67,
   "id": "37a026ff-7d79-46b3-9ad8-e3a064e6a707",
   "metadata": {},
   "outputs": [
    {
     "data": {
      "text/plain": [
       "422"
      ]
     },
     "execution_count": 67,
     "metadata": {},
     "output_type": "execute_result"
    }
   ],
   "source": [
    "len(hdb_df.columns)"
   ]
  },
  {
   "cell_type": "markdown",
   "id": "8f995694-3b95-4570-87dc-06afdf9b659e",
   "metadata": {},
   "source": [
    "### Export cleaned data to CSV file"
   ]
  },
  {
   "cell_type": "code",
   "execution_count": 68,
   "id": "41238817-349b-48ed-bc47-5971b9cb2c03",
   "metadata": {},
   "outputs": [],
   "source": [
    "newpath = 'output'\n",
    "if not os.path.exists(newpath):\n",
    "    os.makedirs(newpath)\n",
    "\n",
    "hdb_df.to_csv('output/cleaned_baseline_hdb_test.csv')"
   ]
  }
 ],
 "metadata": {
  "kernelspec": {
   "display_name": "Python 3 (ipykernel)",
   "language": "python",
   "name": "python3"
  },
  "language_info": {
   "codemirror_mode": {
    "name": "ipython",
    "version": 3
   },
   "file_extension": ".py",
   "mimetype": "text/x-python",
   "name": "python",
   "nbconvert_exporter": "python",
   "pygments_lexer": "ipython3",
   "version": "3.8.13"
  }
 },
 "nbformat": 4,
 "nbformat_minor": 5
}
