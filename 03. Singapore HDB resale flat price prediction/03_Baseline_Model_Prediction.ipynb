{
 "cells": [
  {
   "cell_type": "markdown",
   "id": "f10b69b1-cfde-4f7f-9657-ccfecc96f705",
   "metadata": {},
   "source": [
    "## Contents\n",
    "* [1. Baseline Model Prediction](#1.-Baseline-Model-Prediction)\n",
    "    * [1.1. Imports](#1.1.-Imports)\n",
    "    * [1.2. Read datasets](#1.2.-Read-datasets)\n",
    "* [2. Model Preparations](#2.-Model-Preparations)\n",
    "    * [2.1. Train-test split](#2.1.-Train-test-split)\n",
    "    * [2.2. Scale and one-hot encode (ohe)](#2.2.-Scale-and-one-hot-encode-(ohe))\n",
    "    * [2.3. Make train and test datasets whole](#2.3.-Make-train-and-test-datasets-whole)\n",
    "* [3. Baseline Model Creation](#3.-Baseline-Model-Creation)\n",
    "    * [3.1. Instantiate model](#3.1.-Instantiate-model)\n",
    "    * [3.2. Model fitting and evaluation](#3.2.-Model-fitting-and-evaluation)\n",
    "    * [3.3. Scale and ohe test.csv](#3.3.-Scale-and-ohe-test.csv)\n",
    "    * [3.4. Predict and export](#3.4.-Predict-and-export)"
   ]
  },
  {
   "cell_type": "markdown",
   "id": "0f85c937-3620-4ccb-a75d-b416bbb4106b",
   "metadata": {},
   "source": [
    "---\n",
    "## 1. Baseline Model Prediction\n",
    "---\n",
    "Overview of methodology:\n",
    "1. Conduct appropriate model preparation steps before model fitting\n",
    "    * Train-test split\n",
    "    * Separate continuous and categorical features and conduct scaling and one-hot encoding respectively\n",
    "    * Combine the separated features to make train and test datasets whole again\n",
    "2. Instantiate baseline linear regression model, model fit and evaluate the $R^{2}$ score\n",
    "3. Use the baseline model to predict the blind test dataset, and export in the right format"
   ]
  },
  {
   "cell_type": "markdown",
   "id": "94f15538-3336-4f76-b937-75a11139662a",
   "metadata": {},
   "source": [
    "### 1.1. Imports"
   ]
  },
  {
   "cell_type": "code",
   "execution_count": 78,
   "id": "6ba45f0f-0ab5-479e-a4d9-59279956b2ec",
   "metadata": {},
   "outputs": [],
   "source": [
    "import numpy as np\n",
    "import pandas as pd\n",
    "from sklearn.linear_model import LinearRegression\n",
    "from sklearn.model_selection import train_test_split\n",
    "from sklearn.preprocessing import StandardScaler, OneHotEncoder\n",
    "from sklearn.metrics import r2_score"
   ]
  },
  {
   "cell_type": "markdown",
   "id": "22ba8821-6cb8-47ee-9b66-50aa43b9aed9",
   "metadata": {},
   "source": [
    "### 1.2. Read datasets"
   ]
  },
  {
   "cell_type": "code",
   "execution_count": 79,
   "id": "0b071f54-a87a-437b-958b-0c66a1c4e901",
   "metadata": {},
   "outputs": [],
   "source": [
    "hdb_train_df = pd.read_csv('output/cleaned_baseline_hdb_train.csv')\n",
    "hdb_test_df = pd.read_csv('output/cleaned_baseline_hdb_test.csv')\n",
    "id_df = pd.read_csv('output/cleaned_hdb_test_id.csv')"
   ]
  },
  {
   "cell_type": "markdown",
   "id": "1c2ba4ca-e59d-4960-a2c0-53d7db1f05b5",
   "metadata": {},
   "source": [
    "### Change selected data to object/bool data type\n",
    "- So these data will be treated as categorical data later (as such time-related data, yes/no data)"
   ]
  },
  {
   "cell_type": "code",
   "execution_count": 80,
   "id": "5496ce9a-49ee-49a6-9462-7c4d11d898de",
   "metadata": {},
   "outputs": [],
   "source": [
    "hdb_train_df = hdb_train_df.astype({'Tranc_Year': 'object', 'Tranc_Month': 'object'})\n",
    "hdb_train_df = hdb_train_df.astype({'pri_sch_affiliation': 'bool', 'affiliation': 'bool'})\n",
    "hdb_test_df = hdb_test_df.astype({'Tranc_Year': 'object', 'Tranc_Month': 'object'})\n",
    "hdb_test_df = hdb_test_df.astype({'pri_sch_affiliation': 'bool', 'affiliation': 'bool'})"
   ]
  },
  {
   "cell_type": "markdown",
   "id": "afb47c32-0a3c-45e0-b963-d5c88adb7105",
   "metadata": {},
   "source": [
    "---\n",
    "## 2. Model Preparations\n",
    "---"
   ]
  },
  {
   "cell_type": "markdown",
   "id": "7d51e925-ebf3-4ca8-8f58-38d4a190b64d",
   "metadata": {},
   "source": [
    "### 2.1. Train-test split"
   ]
  },
  {
   "cell_type": "code",
   "execution_count": 81,
   "id": "27e6309a-ee24-4e11-af38-2127037fa3e7",
   "metadata": {
    "scrolled": true,
    "tags": []
   },
   "outputs": [
    {
     "name": "stdout",
     "output_type": "stream",
     "text": [
      "112975 37659 112975 37659\n",
      "49\n",
      "<class 'pandas.core.frame.DataFrame'>\n",
      "Int64Index: 112975 entries, 119232 to 121958\n",
      "Data columns (total 49 columns):\n",
      " #   Column                     Non-Null Count   Dtype  \n",
      "---  ------                     --------------   -----  \n",
      " 0   town                       112975 non-null  object \n",
      " 1   floor_area_sqm             112975 non-null  float64\n",
      " 2   Tranc_Year                 112975 non-null  object \n",
      " 3   Tranc_Month                112975 non-null  object \n",
      " 4   mid_storey                 112975 non-null  int64  \n",
      " 5   full_flat_type             112975 non-null  object \n",
      " 6   hdb_age                    112975 non-null  int64  \n",
      " 7   max_floor_lvl              112975 non-null  int64  \n",
      " 8   year_completed             112975 non-null  int64  \n",
      " 9   residential                112975 non-null  bool   \n",
      " 10  commercial                 112975 non-null  bool   \n",
      " 11  market_hawker              112975 non-null  bool   \n",
      " 12  multistorey_carpark        112975 non-null  bool   \n",
      " 13  precinct_pavilion          112975 non-null  bool   \n",
      " 14  total_dwelling_units       112975 non-null  int64  \n",
      " 15  1room_sold                 112975 non-null  int64  \n",
      " 16  2room_sold                 112975 non-null  int64  \n",
      " 17  3room_sold                 112975 non-null  int64  \n",
      " 18  4room_sold                 112975 non-null  int64  \n",
      " 19  5room_sold                 112975 non-null  int64  \n",
      " 20  exec_sold                  112975 non-null  int64  \n",
      " 21  multigen_sold              112975 non-null  int64  \n",
      " 22  studio_apartment_sold      112975 non-null  int64  \n",
      " 23  1room_rental               112975 non-null  int64  \n",
      " 24  2room_rental               112975 non-null  int64  \n",
      " 25  3room_rental               112975 non-null  int64  \n",
      " 26  other_room_rental          112975 non-null  int64  \n",
      " 27  Mall_Nearest_Distance      112975 non-null  float64\n",
      " 28  Mall_Within_500m           112975 non-null  float64\n",
      " 29  Mall_Within_1km            112975 non-null  float64\n",
      " 30  Mall_Within_2km            112975 non-null  float64\n",
      " 31  Hawker_Nearest_Distance    112975 non-null  float64\n",
      " 32  Hawker_Within_500m         112975 non-null  float64\n",
      " 33  Hawker_Within_1km          112975 non-null  float64\n",
      " 34  Hawker_Within_2km          112975 non-null  float64\n",
      " 35  hawker_food_stalls         112975 non-null  int64  \n",
      " 36  hawker_market_stalls       112975 non-null  int64  \n",
      " 37  mrt_nearest_distance       112975 non-null  float64\n",
      " 38  bus_interchange            112975 non-null  int64  \n",
      " 39  mrt_interchange            112975 non-null  int64  \n",
      " 40  bus_stop_nearest_distance  112975 non-null  float64\n",
      " 41  pri_sch_nearest_distance   112975 non-null  float64\n",
      " 42  pri_sch_name               112975 non-null  object \n",
      " 43  vacancy                    112975 non-null  int64  \n",
      " 44  pri_sch_affiliation        112975 non-null  bool   \n",
      " 45  sec_sch_nearest_dist       112975 non-null  float64\n",
      " 46  sec_sch_name               112975 non-null  object \n",
      " 47  cutoff_point               112975 non-null  int64  \n",
      " 48  affiliation                112975 non-null  bool   \n",
      "dtypes: bool(7), float64(13), int64(23), object(6)\n",
      "memory usage: 37.8+ MB\n",
      "None\n"
     ]
    }
   ],
   "source": [
    "X = hdb_train_df.drop(columns=['resale_price'])\n",
    "y = hdb_train_df['resale_price']\n",
    "X_train, X_test, y_train, y_test = train_test_split(X, y, random_state = 42)\n",
    "print(len(X_train), len(X_test), len(y_train), len(y_test))\n",
    "print(len(X_test.columns))\n",
    "print(X_train.info())"
   ]
  },
  {
   "cell_type": "markdown",
   "id": "c3dfafae-b3d3-41cc-9508-0734b6cf4285",
   "metadata": {},
   "source": [
    "### 2.2. Scale and one-hot encode (ohe)\n",
    "* separate continuous and categorical features"
   ]
  },
  {
   "cell_type": "code",
   "execution_count": 82,
   "id": "28dd22e1-05df-46c5-9494-9eeeea049e48",
   "metadata": {
    "scrolled": true,
    "tags": []
   },
   "outputs": [
    {
     "name": "stdout",
     "output_type": "stream",
     "text": [
      "Index(['town', 'Tranc_Year', 'Tranc_Month', 'full_flat_type', 'residential',\n",
      "       'commercial', 'market_hawker', 'multistorey_carpark',\n",
      "       'precinct_pavilion', 'pri_sch_name', 'pri_sch_affiliation',\n",
      "       'sec_sch_name', 'affiliation'],\n",
      "      dtype='object')\n",
      "Index(['floor_area_sqm', 'mid_storey', 'hdb_age', 'max_floor_lvl',\n",
      "       'year_completed', 'total_dwelling_units', '1room_sold', '2room_sold',\n",
      "       '3room_sold', '4room_sold', '5room_sold', 'exec_sold', 'multigen_sold',\n",
      "       'studio_apartment_sold', '1room_rental', '2room_rental', '3room_rental',\n",
      "       'other_room_rental', 'Mall_Nearest_Distance', 'Mall_Within_500m',\n",
      "       'Mall_Within_1km', 'Mall_Within_2km', 'Hawker_Nearest_Distance',\n",
      "       'Hawker_Within_500m', 'Hawker_Within_1km', 'Hawker_Within_2km',\n",
      "       'hawker_food_stalls', 'hawker_market_stalls', 'mrt_nearest_distance',\n",
      "       'bus_interchange', 'mrt_interchange', 'bus_stop_nearest_distance',\n",
      "       'pri_sch_nearest_distance', 'vacancy', 'sec_sch_nearest_dist',\n",
      "       'cutoff_point'],\n",
      "      dtype='object')\n"
     ]
    }
   ],
   "source": [
    "# separate column names by dtype\n",
    "X_train_cat = X_train.select_dtypes(include=['object','bool']).columns\n",
    "X_train_cont = X_train.select_dtypes(include=['int64', 'float64']).columns\n",
    "X_test_cat = X_test.select_dtypes(include=['object','bool']).columns\n",
    "X_test_cont = X_test.select_dtypes(include=['int64', 'float64']).columns\n",
    "\n",
    "print(X_train_cat)\n",
    "print(X_train_cont)"
   ]
  },
  {
   "cell_type": "markdown",
   "id": "c82b0420-0748-4d26-a23b-ace3421e3574",
   "metadata": {},
   "source": [
    "* scale and ohe the separate features"
   ]
  },
  {
   "cell_type": "code",
   "execution_count": 83,
   "id": "78d4b6bc-45f6-4294-a8d8-0d28158efce4",
   "metadata": {},
   "outputs": [],
   "source": [
    "ss = StandardScaler()\n",
    "ohe = OneHotEncoder(sparse=False, drop='first')\n",
    "\n",
    "# scale and one-hot encode based on columns defined above\n",
    "Z_train_ss = ss.fit_transform(X_train[X_train_cont])\n",
    "Z_test_ss = ss.transform(X_test[X_test_cont])\n",
    "Z_train_ohe = ohe.fit_transform(X_train[X_train_cat])\n",
    "Z_test_ohe = ohe.transform(X_test[X_test_cat])"
   ]
  },
  {
   "cell_type": "markdown",
   "id": "ec460353-bb21-4849-9e30-561c8b37856e",
   "metadata": {},
   "source": [
    "### 2.3. Make train and test datasets whole"
   ]
  },
  {
   "cell_type": "code",
   "execution_count": 84,
   "id": "f4dec4b9-fe8b-4025-a531-a74dc6768f92",
   "metadata": {},
   "outputs": [],
   "source": [
    "Z_train = np.concatenate([Z_train_ss, Z_train_ohe], axis=1)\n",
    "Z_test = np.concatenate([Z_test_ss, Z_test_ohe], axis=1)"
   ]
  },
  {
   "cell_type": "markdown",
   "id": "d413dd39-1160-4717-895b-2092d2dbbcde",
   "metadata": {},
   "source": [
    "---\n",
    "## 3. Baseline Model Creation\n",
    "---"
   ]
  },
  {
   "cell_type": "markdown",
   "id": "bd9fc662-1b24-455f-9e9a-fb2ee0f541e3",
   "metadata": {},
   "source": [
    "### 3.1. Instantiate model"
   ]
  },
  {
   "cell_type": "code",
   "execution_count": 85,
   "id": "8ae107e8-1721-4c58-8d94-cabfdb683b1a",
   "metadata": {},
   "outputs": [],
   "source": [
    "lr = LinearRegression()"
   ]
  },
  {
   "cell_type": "code",
   "execution_count": 86,
   "id": "98940994-e536-4d03-ba50-74c8d0a4985a",
   "metadata": {},
   "outputs": [
    {
     "data": {
      "text/plain": [
       "(112975, 438)"
      ]
     },
     "execution_count": 86,
     "metadata": {},
     "output_type": "execute_result"
    }
   ],
   "source": [
    "Z_train.shape"
   ]
  },
  {
   "cell_type": "markdown",
   "id": "0e8153a4-f4da-4abf-b402-828fd47ee0a9",
   "metadata": {},
   "source": [
    "### 3.2. Model fitting and evaluation"
   ]
  },
  {
   "cell_type": "code",
   "execution_count": 87,
   "id": "c1af8e29-d5eb-41d2-975d-fcc93f833dd9",
   "metadata": {},
   "outputs": [
    {
     "data": {
      "text/html": [
       "<style>#sk-container-id-5 {color: black;background-color: white;}#sk-container-id-5 pre{padding: 0;}#sk-container-id-5 div.sk-toggleable {background-color: white;}#sk-container-id-5 label.sk-toggleable__label {cursor: pointer;display: block;width: 100%;margin-bottom: 0;padding: 0.3em;box-sizing: border-box;text-align: center;}#sk-container-id-5 label.sk-toggleable__label-arrow:before {content: \"▸\";float: left;margin-right: 0.25em;color: #696969;}#sk-container-id-5 label.sk-toggleable__label-arrow:hover:before {color: black;}#sk-container-id-5 div.sk-estimator:hover label.sk-toggleable__label-arrow:before {color: black;}#sk-container-id-5 div.sk-toggleable__content {max-height: 0;max-width: 0;overflow: hidden;text-align: left;background-color: #f0f8ff;}#sk-container-id-5 div.sk-toggleable__content pre {margin: 0.2em;color: black;border-radius: 0.25em;background-color: #f0f8ff;}#sk-container-id-5 input.sk-toggleable__control:checked~div.sk-toggleable__content {max-height: 200px;max-width: 100%;overflow: auto;}#sk-container-id-5 input.sk-toggleable__control:checked~label.sk-toggleable__label-arrow:before {content: \"▾\";}#sk-container-id-5 div.sk-estimator input.sk-toggleable__control:checked~label.sk-toggleable__label {background-color: #d4ebff;}#sk-container-id-5 div.sk-label input.sk-toggleable__control:checked~label.sk-toggleable__label {background-color: #d4ebff;}#sk-container-id-5 input.sk-hidden--visually {border: 0;clip: rect(1px 1px 1px 1px);clip: rect(1px, 1px, 1px, 1px);height: 1px;margin: -1px;overflow: hidden;padding: 0;position: absolute;width: 1px;}#sk-container-id-5 div.sk-estimator {font-family: monospace;background-color: #f0f8ff;border: 1px dotted black;border-radius: 0.25em;box-sizing: border-box;margin-bottom: 0.5em;}#sk-container-id-5 div.sk-estimator:hover {background-color: #d4ebff;}#sk-container-id-5 div.sk-parallel-item::after {content: \"\";width: 100%;border-bottom: 1px solid gray;flex-grow: 1;}#sk-container-id-5 div.sk-label:hover label.sk-toggleable__label {background-color: #d4ebff;}#sk-container-id-5 div.sk-serial::before {content: \"\";position: absolute;border-left: 1px solid gray;box-sizing: border-box;top: 0;bottom: 0;left: 50%;z-index: 0;}#sk-container-id-5 div.sk-serial {display: flex;flex-direction: column;align-items: center;background-color: white;padding-right: 0.2em;padding-left: 0.2em;position: relative;}#sk-container-id-5 div.sk-item {position: relative;z-index: 1;}#sk-container-id-5 div.sk-parallel {display: flex;align-items: stretch;justify-content: center;background-color: white;position: relative;}#sk-container-id-5 div.sk-item::before, #sk-container-id-5 div.sk-parallel-item::before {content: \"\";position: absolute;border-left: 1px solid gray;box-sizing: border-box;top: 0;bottom: 0;left: 50%;z-index: -1;}#sk-container-id-5 div.sk-parallel-item {display: flex;flex-direction: column;z-index: 1;position: relative;background-color: white;}#sk-container-id-5 div.sk-parallel-item:first-child::after {align-self: flex-end;width: 50%;}#sk-container-id-5 div.sk-parallel-item:last-child::after {align-self: flex-start;width: 50%;}#sk-container-id-5 div.sk-parallel-item:only-child::after {width: 0;}#sk-container-id-5 div.sk-dashed-wrapped {border: 1px dashed gray;margin: 0 0.4em 0.5em 0.4em;box-sizing: border-box;padding-bottom: 0.4em;background-color: white;}#sk-container-id-5 div.sk-label label {font-family: monospace;font-weight: bold;display: inline-block;line-height: 1.2em;}#sk-container-id-5 div.sk-label-container {text-align: center;}#sk-container-id-5 div.sk-container {/* jupyter's `normalize.less` sets `[hidden] { display: none; }` but bootstrap.min.css set `[hidden] { display: none !important; }` so we also need the `!important` here to be able to override the default hidden behavior on the sphinx rendered scikit-learn.org. See: https://github.com/scikit-learn/scikit-learn/issues/21755 */display: inline-block !important;position: relative;}#sk-container-id-5 div.sk-text-repr-fallback {display: none;}</style><div id=\"sk-container-id-5\" class=\"sk-top-container\"><div class=\"sk-text-repr-fallback\"><pre>LinearRegression()</pre><b>In a Jupyter environment, please rerun this cell to show the HTML representation or trust the notebook. <br />On GitHub, the HTML representation is unable to render, please try loading this page with nbviewer.org.</b></div><div class=\"sk-container\" hidden><div class=\"sk-item\"><div class=\"sk-estimator sk-toggleable\"><input class=\"sk-toggleable__control sk-hidden--visually\" id=\"sk-estimator-id-5\" type=\"checkbox\" checked><label for=\"sk-estimator-id-5\" class=\"sk-toggleable__label sk-toggleable__label-arrow\">LinearRegression</label><div class=\"sk-toggleable__content\"><pre>LinearRegression()</pre></div></div></div></div></div>"
      ],
      "text/plain": [
       "LinearRegression()"
      ]
     },
     "execution_count": 87,
     "metadata": {},
     "output_type": "execute_result"
    }
   ],
   "source": [
    "lr.fit(Z_train, y_train)"
   ]
  },
  {
   "cell_type": "code",
   "execution_count": 88,
   "id": "f304f383-95cc-4ae5-858d-0a3769478f38",
   "metadata": {},
   "outputs": [
    {
     "data": {
      "text/plain": [
       "0.9204702913339389"
      ]
     },
     "execution_count": 88,
     "metadata": {},
     "output_type": "execute_result"
    }
   ],
   "source": [
    "lr.score(Z_train, y_train)  # train score"
   ]
  },
  {
   "cell_type": "code",
   "execution_count": 89,
   "id": "99707f7f-0011-4262-bb62-acd3d7efc85e",
   "metadata": {},
   "outputs": [
    {
     "data": {
      "text/plain": [
       "0.9191976361973623"
      ]
     },
     "execution_count": 89,
     "metadata": {},
     "output_type": "execute_result"
    }
   ],
   "source": [
    "lr.score(Z_test, y_test)  # test score shows good fit"
   ]
  },
  {
   "cell_type": "markdown",
   "id": "ad54f96c-caf9-48b4-b45f-962d83b092e6",
   "metadata": {},
   "source": [
    "### 3.3. Scale and ohe test.csv\n",
    "* scale & ohe hdb_test_df continuous and categorical features respectively"
   ]
  },
  {
   "cell_type": "code",
   "execution_count": 90,
   "id": "2100e82e-d13e-491a-b065-0c68f13c6172",
   "metadata": {},
   "outputs": [
    {
     "name": "stdout",
     "output_type": "stream",
     "text": [
      "Index(['town', 'Tranc_Year', 'Tranc_Month', 'full_flat_type', 'residential',\n",
      "       'commercial', 'market_hawker', 'multistorey_carpark',\n",
      "       'precinct_pavilion', 'pri_sch_name', 'pri_sch_affiliation',\n",
      "       'sec_sch_name', 'affiliation'],\n",
      "      dtype='object')\n",
      "Index(['floor_area_sqm', 'mid_storey', 'hdb_age', 'max_floor_lvl',\n",
      "       'year_completed', 'total_dwelling_units', '1room_sold', '2room_sold',\n",
      "       '3room_sold', '4room_sold', '5room_sold', 'exec_sold', 'multigen_sold',\n",
      "       'studio_apartment_sold', '1room_rental', '2room_rental', '3room_rental',\n",
      "       'other_room_rental', 'Mall_Nearest_Distance', 'Mall_Within_500m',\n",
      "       'Mall_Within_1km', 'Mall_Within_2km', 'Hawker_Nearest_Distance',\n",
      "       'Hawker_Within_500m', 'Hawker_Within_1km', 'Hawker_Within_2km',\n",
      "       'hawker_food_stalls', 'hawker_market_stalls', 'mrt_nearest_distance',\n",
      "       'bus_interchange', 'mrt_interchange', 'bus_stop_nearest_distance',\n",
      "       'pri_sch_nearest_distance', 'vacancy', 'sec_sch_nearest_dist',\n",
      "       'cutoff_point'],\n",
      "      dtype='object')\n"
     ]
    }
   ],
   "source": [
    "# separate continuous and categorical features\n",
    "X_hidden_cat = hdb_test_df.select_dtypes(include=['object','bool']).columns\n",
    "X_hidden_cont = hdb_test_df.select_dtypes(include=['int64', 'float64']).columns\n",
    "\n",
    "print(X_hidden_cat)\n",
    "print(X_hidden_cont)"
   ]
  },
  {
   "cell_type": "code",
   "execution_count": 91,
   "id": "a5eb1476-8911-4479-ae62-d95f47a13e8e",
   "metadata": {},
   "outputs": [],
   "source": [
    "# scale and ohe respectively\n",
    "Z_hidden_ss = ss.transform(hdb_test_df[X_hidden_cont])\n",
    "Z_hidden_ohe = ohe.transform(hdb_test_df[X_hidden_cat])"
   ]
  },
  {
   "cell_type": "code",
   "execution_count": 92,
   "id": "d98fc3d7-90d9-4ff0-a046-c8a86e0a9b5a",
   "metadata": {},
   "outputs": [],
   "source": [
    "# concat the data\n",
    "Z_hidden = np.concatenate([Z_hidden_ss, Z_hidden_ohe], axis=1)"
   ]
  },
  {
   "cell_type": "markdown",
   "id": "291d58cf-fff2-4ec8-ba93-b64f9c893ba7",
   "metadata": {},
   "source": [
    "### 3.4. Predict and export\n",
    "* Predict, combine predictions with 'id' and save as csv (for kaggle submission)"
   ]
  },
  {
   "cell_type": "code",
   "execution_count": 94,
   "id": "0f739f2d-ad0e-4a70-a97c-2b72f0ad9dbd",
   "metadata": {},
   "outputs": [
    {
     "name": "stdout",
     "output_type": "stream",
     "text": [
      "       Id  Predicted\n",
      "0  114982   371978.5\n",
      "1   95653   482970.5\n",
      "2   40303   380298.5\n",
      "3  109506   308694.0\n",
      "4  100149   437106.5\n"
     ]
    }
   ],
   "source": [
    "y_pred = lr.predict(Z_hidden)\n",
    "id_df['Predicted'] = y_pred\n",
    "print(id_df.head())\n",
    "\n",
    "id_df.to_csv('output/baseline_pred.csv', index=False)"
   ]
  }
 ],
 "metadata": {
  "kernelspec": {
   "display_name": "Python 3 (ipykernel)",
   "language": "python",
   "name": "python3"
  },
  "language_info": {
   "codemirror_mode": {
    "name": "ipython",
    "version": 3
   },
   "file_extension": ".py",
   "mimetype": "text/x-python",
   "name": "python",
   "nbconvert_exporter": "python",
   "pygments_lexer": "ipython3",
   "version": "3.8.13"
  }
 },
 "nbformat": 4,
 "nbformat_minor": 5
}
